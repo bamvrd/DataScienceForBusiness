{
  "cells": [
    {
      "cell_type": "code",
      "execution_count": 38,
      "metadata": {
        "id": "p0VrZe76H01c"
      },
      "outputs": [],
      "source": [
        "#importing libraries\n",
        "import pandas as pd\n",
        "import numpy as np\n",
        "import matplotlib.pyplot as plt\n",
        "%matplotlib inline"
      ]
    },
    {
      "cell_type": "code",
      "execution_count": 39,
      "metadata": {
        "id": "TQgot2L2wFOB"
      },
      "outputs": [],
      "source": [
        "# information of 17 places and radious chosen\n",
        "type_param  = [['atm', 300], ['bar', 2000], ['gas_station', 1000], ['convenience_store', 200],\n",
        "              ['department_store', 800], ['hospital', 1000], ['university', 2000], ['supermarket', 800], ['gym', 1000],\n",
        "              ['shopping_mall', 800], ['laundry', 300], ['movie_theater', 800], ['park', 500], ['night_club', 2000], \n",
        "              ['primary_school', 2000], ['school',2000], ['tourist_attraction', 2000]]"
      ]
    },
    {
      "cell_type": "code",
      "execution_count": 40,
      "metadata": {
        "id": "uKPKVE_H4eld"
      },
      "outputs": [],
      "source": [
        "# column that has less than 20 information (from previous file)\n",
        "drop_ch = ['atm_price_level', 'gas_station_price_level',\n",
        "       'convenience_store_price_level', 'department_store_price_level',\n",
        "       'hospital_price_level', 'university_price_level',\n",
        "       'supermarket_price_level', 'gym_price_level',\n",
        "       'shopping_mall_price_level', 'laundry_price_level',\n",
        "       'laundry_avg_rating', 'movie_theater_price_level',\n",
        "       'park_price_level', 'primary_school_price_level',\n",
        "       'school_price_level', 'tourist_attraction_price_level']"
      ]
    },
    {
      "cell_type": "code",
      "execution_count": 41,
      "metadata": {
        "id": "qtMEBz0uIfUE"
      },
      "outputs": [],
      "source": [
        "ch = pd.read_csv('/content/ch_nofill-2.csv')"
      ]
    },
    {
      "cell_type": "code",
      "execution_count": 42,
      "metadata": {
        "colab": {
          "base_uri": "https://localhost:8080/",
          "height": 577
        },
        "id": "P_0pyRPaxwaa",
        "outputId": "b4d188a4-b7be-4a0d-fa17-29ef2ede2b1a"
      },
      "outputs": [
        {
          "output_type": "execute_result",
          "data": {
            "text/plain": [
              "   Unnamed: 0                              condo        lat        lng  \\\n",
              "0           0    กัลปพฤกษ์ แกรนด์ พาร์ค เชียงราย  19.876132  99.831627   \n",
              "1           1    กัลปพฤกษ์ แกรนด์ พาร์ค เชียงราย  19.876132  99.831627   \n",
              "2           2    กัลปพฤกษ์ แกรนด์ พาร์ค เชียงราย  19.876132  99.831627   \n",
              "3           3    กัลปพฤกษ์ แกรนด์ พาร์ค เชียงราย  19.876132  99.831627   \n",
              "4           4  คิวเฮ้าส์ คอนโด พหลโยธิน-เชียงราย  19.936184  99.844870   \n",
              "\n",
              "  apx_gov_prc  rating  atm_price_level  atm_avg_rating  \\\n",
              "0      52,800     4.4              NaN             5.0   \n",
              "1      54,400     4.4              NaN             5.0   \n",
              "2      55,500     4.4              NaN             5.0   \n",
              "3      56,600     4.4              NaN             5.0   \n",
              "4      48,500     4.4              NaN             NaN   \n",
              "\n",
              "   atm_avg_distance_to_condo (KM)  atm_num_of_rating  ...  flr_2  flr_3  \\\n",
              "0                        0.238583                5.0  ...      1      0   \n",
              "1                        0.238583                5.0  ...      0      1   \n",
              "2                        0.238583                5.0  ...      0      0   \n",
              "3                        0.238583                5.0  ...      0      0   \n",
              "4                        0.800000                0.0  ...      1      0   \n",
              "\n",
              "   flr_4  flr_5  flr_6  flr_7  flr_8  flr_9  distance_from_condo_to_central  \\\n",
              "0      0      0      0      0      0      0                        1.217282   \n",
              "1      0      0      0      0      0      0                        1.217282   \n",
              "2      1      0      0      0      0      0                        1.217282   \n",
              "3      0      1      0      0      0      0                        1.217282   \n",
              "4      0      0      0      0      0      0                        5.605358   \n",
              "\n",
              "   distance_from_condo_to_clock  \n",
              "0                      3.448840  \n",
              "1                      3.448840  \n",
              "2                      3.448840  \n",
              "3                      3.448840  \n",
              "4                      3.541205  \n",
              "\n",
              "[5 rows x 109 columns]"
            ],
            "text/html": [
              "\n",
              "  <div id=\"df-ce2993ab-2755-4faf-900a-27d89df08bbd\">\n",
              "    <div class=\"colab-df-container\">\n",
              "      <div>\n",
              "<style scoped>\n",
              "    .dataframe tbody tr th:only-of-type {\n",
              "        vertical-align: middle;\n",
              "    }\n",
              "\n",
              "    .dataframe tbody tr th {\n",
              "        vertical-align: top;\n",
              "    }\n",
              "\n",
              "    .dataframe thead th {\n",
              "        text-align: right;\n",
              "    }\n",
              "</style>\n",
              "<table border=\"1\" class=\"dataframe\">\n",
              "  <thead>\n",
              "    <tr style=\"text-align: right;\">\n",
              "      <th></th>\n",
              "      <th>Unnamed: 0</th>\n",
              "      <th>condo</th>\n",
              "      <th>lat</th>\n",
              "      <th>lng</th>\n",
              "      <th>apx_gov_prc</th>\n",
              "      <th>rating</th>\n",
              "      <th>atm_price_level</th>\n",
              "      <th>atm_avg_rating</th>\n",
              "      <th>atm_avg_distance_to_condo (KM)</th>\n",
              "      <th>atm_num_of_rating</th>\n",
              "      <th>...</th>\n",
              "      <th>flr_2</th>\n",
              "      <th>flr_3</th>\n",
              "      <th>flr_4</th>\n",
              "      <th>flr_5</th>\n",
              "      <th>flr_6</th>\n",
              "      <th>flr_7</th>\n",
              "      <th>flr_8</th>\n",
              "      <th>flr_9</th>\n",
              "      <th>distance_from_condo_to_central</th>\n",
              "      <th>distance_from_condo_to_clock</th>\n",
              "    </tr>\n",
              "  </thead>\n",
              "  <tbody>\n",
              "    <tr>\n",
              "      <th>0</th>\n",
              "      <td>0</td>\n",
              "      <td>กัลปพฤกษ์ แกรนด์ พาร์ค เชียงราย</td>\n",
              "      <td>19.876132</td>\n",
              "      <td>99.831627</td>\n",
              "      <td>52,800</td>\n",
              "      <td>4.4</td>\n",
              "      <td>NaN</td>\n",
              "      <td>5.0</td>\n",
              "      <td>0.238583</td>\n",
              "      <td>5.0</td>\n",
              "      <td>...</td>\n",
              "      <td>1</td>\n",
              "      <td>0</td>\n",
              "      <td>0</td>\n",
              "      <td>0</td>\n",
              "      <td>0</td>\n",
              "      <td>0</td>\n",
              "      <td>0</td>\n",
              "      <td>0</td>\n",
              "      <td>1.217282</td>\n",
              "      <td>3.448840</td>\n",
              "    </tr>\n",
              "    <tr>\n",
              "      <th>1</th>\n",
              "      <td>1</td>\n",
              "      <td>กัลปพฤกษ์ แกรนด์ พาร์ค เชียงราย</td>\n",
              "      <td>19.876132</td>\n",
              "      <td>99.831627</td>\n",
              "      <td>54,400</td>\n",
              "      <td>4.4</td>\n",
              "      <td>NaN</td>\n",
              "      <td>5.0</td>\n",
              "      <td>0.238583</td>\n",
              "      <td>5.0</td>\n",
              "      <td>...</td>\n",
              "      <td>0</td>\n",
              "      <td>1</td>\n",
              "      <td>0</td>\n",
              "      <td>0</td>\n",
              "      <td>0</td>\n",
              "      <td>0</td>\n",
              "      <td>0</td>\n",
              "      <td>0</td>\n",
              "      <td>1.217282</td>\n",
              "      <td>3.448840</td>\n",
              "    </tr>\n",
              "    <tr>\n",
              "      <th>2</th>\n",
              "      <td>2</td>\n",
              "      <td>กัลปพฤกษ์ แกรนด์ พาร์ค เชียงราย</td>\n",
              "      <td>19.876132</td>\n",
              "      <td>99.831627</td>\n",
              "      <td>55,500</td>\n",
              "      <td>4.4</td>\n",
              "      <td>NaN</td>\n",
              "      <td>5.0</td>\n",
              "      <td>0.238583</td>\n",
              "      <td>5.0</td>\n",
              "      <td>...</td>\n",
              "      <td>0</td>\n",
              "      <td>0</td>\n",
              "      <td>1</td>\n",
              "      <td>0</td>\n",
              "      <td>0</td>\n",
              "      <td>0</td>\n",
              "      <td>0</td>\n",
              "      <td>0</td>\n",
              "      <td>1.217282</td>\n",
              "      <td>3.448840</td>\n",
              "    </tr>\n",
              "    <tr>\n",
              "      <th>3</th>\n",
              "      <td>3</td>\n",
              "      <td>กัลปพฤกษ์ แกรนด์ พาร์ค เชียงราย</td>\n",
              "      <td>19.876132</td>\n",
              "      <td>99.831627</td>\n",
              "      <td>56,600</td>\n",
              "      <td>4.4</td>\n",
              "      <td>NaN</td>\n",
              "      <td>5.0</td>\n",
              "      <td>0.238583</td>\n",
              "      <td>5.0</td>\n",
              "      <td>...</td>\n",
              "      <td>0</td>\n",
              "      <td>0</td>\n",
              "      <td>0</td>\n",
              "      <td>1</td>\n",
              "      <td>0</td>\n",
              "      <td>0</td>\n",
              "      <td>0</td>\n",
              "      <td>0</td>\n",
              "      <td>1.217282</td>\n",
              "      <td>3.448840</td>\n",
              "    </tr>\n",
              "    <tr>\n",
              "      <th>4</th>\n",
              "      <td>4</td>\n",
              "      <td>คิวเฮ้าส์ คอนโด พหลโยธิน-เชียงราย</td>\n",
              "      <td>19.936184</td>\n",
              "      <td>99.844870</td>\n",
              "      <td>48,500</td>\n",
              "      <td>4.4</td>\n",
              "      <td>NaN</td>\n",
              "      <td>NaN</td>\n",
              "      <td>0.800000</td>\n",
              "      <td>0.0</td>\n",
              "      <td>...</td>\n",
              "      <td>1</td>\n",
              "      <td>0</td>\n",
              "      <td>0</td>\n",
              "      <td>0</td>\n",
              "      <td>0</td>\n",
              "      <td>0</td>\n",
              "      <td>0</td>\n",
              "      <td>0</td>\n",
              "      <td>5.605358</td>\n",
              "      <td>3.541205</td>\n",
              "    </tr>\n",
              "  </tbody>\n",
              "</table>\n",
              "<p>5 rows × 109 columns</p>\n",
              "</div>\n",
              "      <button class=\"colab-df-convert\" onclick=\"convertToInteractive('df-ce2993ab-2755-4faf-900a-27d89df08bbd')\"\n",
              "              title=\"Convert this dataframe to an interactive table.\"\n",
              "              style=\"display:none;\">\n",
              "        \n",
              "  <svg xmlns=\"http://www.w3.org/2000/svg\" height=\"24px\"viewBox=\"0 0 24 24\"\n",
              "       width=\"24px\">\n",
              "    <path d=\"M0 0h24v24H0V0z\" fill=\"none\"/>\n",
              "    <path d=\"M18.56 5.44l.94 2.06.94-2.06 2.06-.94-2.06-.94-.94-2.06-.94 2.06-2.06.94zm-11 1L8.5 8.5l.94-2.06 2.06-.94-2.06-.94L8.5 2.5l-.94 2.06-2.06.94zm10 10l.94 2.06.94-2.06 2.06-.94-2.06-.94-.94-2.06-.94 2.06-2.06.94z\"/><path d=\"M17.41 7.96l-1.37-1.37c-.4-.4-.92-.59-1.43-.59-.52 0-1.04.2-1.43.59L10.3 9.45l-7.72 7.72c-.78.78-.78 2.05 0 2.83L4 21.41c.39.39.9.59 1.41.59.51 0 1.02-.2 1.41-.59l7.78-7.78 2.81-2.81c.8-.78.8-2.07 0-2.86zM5.41 20L4 18.59l7.72-7.72 1.47 1.35L5.41 20z\"/>\n",
              "  </svg>\n",
              "      </button>\n",
              "      \n",
              "  <style>\n",
              "    .colab-df-container {\n",
              "      display:flex;\n",
              "      flex-wrap:wrap;\n",
              "      gap: 12px;\n",
              "    }\n",
              "\n",
              "    .colab-df-convert {\n",
              "      background-color: #E8F0FE;\n",
              "      border: none;\n",
              "      border-radius: 50%;\n",
              "      cursor: pointer;\n",
              "      display: none;\n",
              "      fill: #1967D2;\n",
              "      height: 32px;\n",
              "      padding: 0 0 0 0;\n",
              "      width: 32px;\n",
              "    }\n",
              "\n",
              "    .colab-df-convert:hover {\n",
              "      background-color: #E2EBFA;\n",
              "      box-shadow: 0px 1px 2px rgba(60, 64, 67, 0.3), 0px 1px 3px 1px rgba(60, 64, 67, 0.15);\n",
              "      fill: #174EA6;\n",
              "    }\n",
              "\n",
              "    [theme=dark] .colab-df-convert {\n",
              "      background-color: #3B4455;\n",
              "      fill: #D2E3FC;\n",
              "    }\n",
              "\n",
              "    [theme=dark] .colab-df-convert:hover {\n",
              "      background-color: #434B5C;\n",
              "      box-shadow: 0px 1px 3px 1px rgba(0, 0, 0, 0.15);\n",
              "      filter: drop-shadow(0px 1px 2px rgba(0, 0, 0, 0.3));\n",
              "      fill: #FFFFFF;\n",
              "    }\n",
              "  </style>\n",
              "\n",
              "      <script>\n",
              "        const buttonEl =\n",
              "          document.querySelector('#df-ce2993ab-2755-4faf-900a-27d89df08bbd button.colab-df-convert');\n",
              "        buttonEl.style.display =\n",
              "          google.colab.kernel.accessAllowed ? 'block' : 'none';\n",
              "\n",
              "        async function convertToInteractive(key) {\n",
              "          const element = document.querySelector('#df-ce2993ab-2755-4faf-900a-27d89df08bbd');\n",
              "          const dataTable =\n",
              "            await google.colab.kernel.invokeFunction('convertToInteractive',\n",
              "                                                     [key], {});\n",
              "          if (!dataTable) return;\n",
              "\n",
              "          const docLinkHtml = 'Like what you see? Visit the ' +\n",
              "            '<a target=\"_blank\" href=https://colab.research.google.com/notebooks/data_table.ipynb>data table notebook</a>'\n",
              "            + ' to learn more about interactive tables.';\n",
              "          element.innerHTML = '';\n",
              "          dataTable['output_type'] = 'display_data';\n",
              "          await google.colab.output.renderOutput(dataTable, element);\n",
              "          const docLink = document.createElement('div');\n",
              "          docLink.innerHTML = docLinkHtml;\n",
              "          element.appendChild(docLink);\n",
              "        }\n",
              "      </script>\n",
              "    </div>\n",
              "  </div>\n",
              "  "
            ]
          },
          "metadata": {},
          "execution_count": 42
        }
      ],
      "source": [
        "ch.head()"
      ]
    },
    {
      "cell_type": "code",
      "execution_count": 43,
      "metadata": {
        "id": "xey0mfJDICC8"
      },
      "outputs": [],
      "source": [
        "ch.drop(columns=[\"Unnamed: 0\", \"condo\", \"lat\", \"lng\"], inplace=True)"
      ]
    },
    {
      "cell_type": "code",
      "execution_count": 44,
      "metadata": {
        "colab": {
          "base_uri": "https://localhost:8080/"
        },
        "id": "kgcVmMrYLnpJ",
        "outputId": "73d2ca07-4fed-454a-d70a-824f47dd1ca6"
      },
      "outputs": [
        {
          "output_type": "stream",
          "name": "stderr",
          "text": [
            "/usr/local/lib/python3.7/dist-packages/ipykernel_launcher.py:3: SettingWithCopyWarning: \n",
            "A value is trying to be set on a copy of a slice from a DataFrame\n",
            "\n",
            "See the caveats in the documentation: https://pandas.pydata.org/pandas-docs/stable/user_guide/indexing.html#returning-a-view-versus-a-copy\n",
            "  This is separate from the ipykernel package so we can avoid doing imports until\n"
          ]
        }
      ],
      "source": [
        "#clean \"apx_gov_prc\" by removing comma \n",
        "for i in range(len(ch[\"apx_gov_prc\"])):\n",
        "  ch[\"apx_gov_prc\"][i] = ch[\"apx_gov_prc\"][i].replace(\",\", '')\n"
      ]
    },
    {
      "cell_type": "code",
      "execution_count": 45,
      "metadata": {
        "id": "RONTfwLKMmGd"
      },
      "outputs": [],
      "source": [
        "# cast \"apx_gov_prc\" from string to int\n",
        "ch[\"apx_gov_prc\"] = pd.to_numeric(ch[\"apx_gov_prc\"],errors='coerce',downcast='integer')"
      ]
    },
    {
      "cell_type": "markdown",
      "metadata": {
        "id": "Pe3h1y5h4IlN"
      },
      "source": [
        "#Seperate data set into train and test"
      ]
    },
    {
      "cell_type": "code",
      "execution_count": 46,
      "metadata": {
        "colab": {
          "base_uri": "https://localhost:8080/"
        },
        "id": "XJqWJ4fFISTA",
        "outputId": "5a90021d-6144-446f-dd06-e97f5871c716"
      },
      "outputs": [
        {
          "output_type": "execute_result",
          "data": {
            "text/plain": [
              "((83, 104), (36, 104))"
            ]
          },
          "metadata": {},
          "execution_count": 46
        }
      ],
      "source": [
        "from sklearn.model_selection import train_test_split\n",
        "X_train, X_test, y_train, y_test = train_test_split(\n",
        "    ch.drop(columns=\"apx_gov_prc\"),\n",
        "    ch[\"apx_gov_prc\"],\n",
        "    test_size=0.3,\n",
        "    random_state=0)\n",
        "\n",
        "X_train.shape, X_test.shape"
      ]
    },
    {
      "cell_type": "markdown",
      "metadata": {
        "id": "2CqtjlBgwpsO"
      },
      "source": [
        "#Fill na to be avg in X_train, X_test to be the avg value of X_train"
      ]
    },
    {
      "cell_type": "code",
      "execution_count": 47,
      "metadata": {
        "id": "Gh7eileHwwmF"
      },
      "outputs": [],
      "source": [
        "for i in range(len(type_param)):\n",
        "  X_train[str(type_param[i][0])+'_avg_rating'].fillna(value = X_train[type_param[i][0]+'_avg_rating'].mean() , inplace=True)\n",
        "  X_train[str(type_param[i][0])+'_price_level'].fillna(value = X_train[type_param[i][0]+'_price_level'].mean() , inplace=True)\n",
        "  X_train['rating'].fillna(value = X_train['rating'].mean() , inplace=True)"
      ]
    },
    {
      "cell_type": "code",
      "execution_count": 48,
      "metadata": {
        "id": "TF_XazdIxLOE"
      },
      "outputs": [],
      "source": [
        "for i in range(len(type_param)):\n",
        "  X_test[str(type_param[i][0])+'_avg_rating'].fillna(value = X_train[type_param[i][0]+'_avg_rating'].mean() , inplace=True)\n",
        "  X_test[str(type_param[i][0])+'_price_level'].fillna(value = X_train[type_param[i][0]+'_price_level'].mean() , inplace=True)\n",
        "  X_test['rating'].fillna(value = X_train['rating'].mean() , inplace=True)"
      ]
    },
    {
      "cell_type": "code",
      "execution_count": 49,
      "metadata": {
        "id": "JGHKsCIG3qJW"
      },
      "outputs": [],
      "source": [
        "# drop column that has less than 20 information (from previous file)\n",
        "X_test.drop(columns=drop_ch, inplace=True)\n",
        "X_train.drop(columns=drop_ch, inplace=True)"
      ]
    },
    {
      "cell_type": "markdown",
      "metadata": {
        "id": "SYJJ9NtyPVsi"
      },
      "source": [
        "#mutual information In Regression "
      ]
    },
    {
      "cell_type": "code",
      "execution_count": 50,
      "metadata": {
        "id": "EK6frh-jTtSA"
      },
      "outputs": [],
      "source": [
        "X_train.reset_index(inplace=True)\n",
        "X_train.drop(columns=\"index\", inplace=True)\n",
        "y_train = y_train.reset_index()\n",
        "y_train = y_train.drop(columns=\"index\")"
      ]
    },
    {
      "cell_type": "code",
      "execution_count": 51,
      "metadata": {
        "id": "yWprpUln6NqA"
      },
      "outputs": [],
      "source": [
        "X_test.reset_index(inplace=True)\n",
        "X_test.drop(columns=\"index\", inplace=True)\n",
        "y_test = y_test.reset_index()\n",
        "y_test = y_test.drop(columns=\"index\")"
      ]
    },
    {
      "cell_type": "code",
      "execution_count": 52,
      "metadata": {
        "colab": {
          "base_uri": "https://localhost:8080/",
          "height": 317
        },
        "id": "YMnqubHpVQRu",
        "outputId": "9b3711dd-c665-46bf-c65d-b1e70ed9c29b"
      },
      "outputs": [
        {
          "output_type": "execute_result",
          "data": {
            "text/plain": [
              "   rating  atm_avg_rating  atm_avg_distance_to_condo (KM)  atm_num_of_rating  \\\n",
              "0     4.4        4.058095                        0.800000                0.0   \n",
              "1     4.3        4.058095                        0.800000                0.0   \n",
              "2     4.6        3.900000                        0.220301               16.0   \n",
              "3     5.0        4.058095                        0.800000                0.0   \n",
              "4     4.6        3.900000                        0.220301               16.0   \n",
              "\n",
              "   atm_count  bar_price_level  bar_avg_rating  bar_avg_distance_to_condo (KM)  \\\n",
              "0        0.0         3.000000        4.687500                        1.080862   \n",
              "1        0.0         2.170732        4.523765                        2.500000   \n",
              "2        8.0         2.000000        4.541667                        0.299408   \n",
              "3        0.0         2.170732        4.633333                        1.034299   \n",
              "4        8.0         2.000000        4.541667                        0.299408   \n",
              "\n",
              "   bar_num_of_rating  bar_count  ...  flr_2  flr_3  flr_4  flr_5  flr_6  \\\n",
              "0             4403.0        9.0  ...      0      0      1      0      0   \n",
              "1                0.0        0.0  ...      0      0      0      0      0   \n",
              "2              644.0       20.0  ...      1      0      0      0      0   \n",
              "3               35.0       16.0  ...      0      0      0      1      0   \n",
              "4              644.0       20.0  ...      0      0      0      0      1   \n",
              "\n",
              "   flr_7  flr_8  flr_9  distance_from_condo_to_central  \\\n",
              "0      0      0      0                        5.605358   \n",
              "1      0      0      0                       29.710920   \n",
              "2      0      0      0                        0.331160   \n",
              "3      0      0      0                       11.226386   \n",
              "4      0      0      0                        0.331160   \n",
              "\n",
              "   distance_from_condo_to_clock  \n",
              "0                      3.541205  \n",
              "1                     28.809096  \n",
              "2                      2.383072  \n",
              "3                      9.184641  \n",
              "4                      2.383072  \n",
              "\n",
              "[5 rows x 88 columns]"
            ],
            "text/html": [
              "\n",
              "  <div id=\"df-2ed2bc4d-cdc0-47e8-a31c-fab188774307\">\n",
              "    <div class=\"colab-df-container\">\n",
              "      <div>\n",
              "<style scoped>\n",
              "    .dataframe tbody tr th:only-of-type {\n",
              "        vertical-align: middle;\n",
              "    }\n",
              "\n",
              "    .dataframe tbody tr th {\n",
              "        vertical-align: top;\n",
              "    }\n",
              "\n",
              "    .dataframe thead th {\n",
              "        text-align: right;\n",
              "    }\n",
              "</style>\n",
              "<table border=\"1\" class=\"dataframe\">\n",
              "  <thead>\n",
              "    <tr style=\"text-align: right;\">\n",
              "      <th></th>\n",
              "      <th>rating</th>\n",
              "      <th>atm_avg_rating</th>\n",
              "      <th>atm_avg_distance_to_condo (KM)</th>\n",
              "      <th>atm_num_of_rating</th>\n",
              "      <th>atm_count</th>\n",
              "      <th>bar_price_level</th>\n",
              "      <th>bar_avg_rating</th>\n",
              "      <th>bar_avg_distance_to_condo (KM)</th>\n",
              "      <th>bar_num_of_rating</th>\n",
              "      <th>bar_count</th>\n",
              "      <th>...</th>\n",
              "      <th>flr_2</th>\n",
              "      <th>flr_3</th>\n",
              "      <th>flr_4</th>\n",
              "      <th>flr_5</th>\n",
              "      <th>flr_6</th>\n",
              "      <th>flr_7</th>\n",
              "      <th>flr_8</th>\n",
              "      <th>flr_9</th>\n",
              "      <th>distance_from_condo_to_central</th>\n",
              "      <th>distance_from_condo_to_clock</th>\n",
              "    </tr>\n",
              "  </thead>\n",
              "  <tbody>\n",
              "    <tr>\n",
              "      <th>0</th>\n",
              "      <td>4.4</td>\n",
              "      <td>4.058095</td>\n",
              "      <td>0.800000</td>\n",
              "      <td>0.0</td>\n",
              "      <td>0.0</td>\n",
              "      <td>3.000000</td>\n",
              "      <td>4.687500</td>\n",
              "      <td>1.080862</td>\n",
              "      <td>4403.0</td>\n",
              "      <td>9.0</td>\n",
              "      <td>...</td>\n",
              "      <td>0</td>\n",
              "      <td>0</td>\n",
              "      <td>1</td>\n",
              "      <td>0</td>\n",
              "      <td>0</td>\n",
              "      <td>0</td>\n",
              "      <td>0</td>\n",
              "      <td>0</td>\n",
              "      <td>5.605358</td>\n",
              "      <td>3.541205</td>\n",
              "    </tr>\n",
              "    <tr>\n",
              "      <th>1</th>\n",
              "      <td>4.3</td>\n",
              "      <td>4.058095</td>\n",
              "      <td>0.800000</td>\n",
              "      <td>0.0</td>\n",
              "      <td>0.0</td>\n",
              "      <td>2.170732</td>\n",
              "      <td>4.523765</td>\n",
              "      <td>2.500000</td>\n",
              "      <td>0.0</td>\n",
              "      <td>0.0</td>\n",
              "      <td>...</td>\n",
              "      <td>0</td>\n",
              "      <td>0</td>\n",
              "      <td>0</td>\n",
              "      <td>0</td>\n",
              "      <td>0</td>\n",
              "      <td>0</td>\n",
              "      <td>0</td>\n",
              "      <td>0</td>\n",
              "      <td>29.710920</td>\n",
              "      <td>28.809096</td>\n",
              "    </tr>\n",
              "    <tr>\n",
              "      <th>2</th>\n",
              "      <td>4.6</td>\n",
              "      <td>3.900000</td>\n",
              "      <td>0.220301</td>\n",
              "      <td>16.0</td>\n",
              "      <td>8.0</td>\n",
              "      <td>2.000000</td>\n",
              "      <td>4.541667</td>\n",
              "      <td>0.299408</td>\n",
              "      <td>644.0</td>\n",
              "      <td>20.0</td>\n",
              "      <td>...</td>\n",
              "      <td>1</td>\n",
              "      <td>0</td>\n",
              "      <td>0</td>\n",
              "      <td>0</td>\n",
              "      <td>0</td>\n",
              "      <td>0</td>\n",
              "      <td>0</td>\n",
              "      <td>0</td>\n",
              "      <td>0.331160</td>\n",
              "      <td>2.383072</td>\n",
              "    </tr>\n",
              "    <tr>\n",
              "      <th>3</th>\n",
              "      <td>5.0</td>\n",
              "      <td>4.058095</td>\n",
              "      <td>0.800000</td>\n",
              "      <td>0.0</td>\n",
              "      <td>0.0</td>\n",
              "      <td>2.170732</td>\n",
              "      <td>4.633333</td>\n",
              "      <td>1.034299</td>\n",
              "      <td>35.0</td>\n",
              "      <td>16.0</td>\n",
              "      <td>...</td>\n",
              "      <td>0</td>\n",
              "      <td>0</td>\n",
              "      <td>0</td>\n",
              "      <td>1</td>\n",
              "      <td>0</td>\n",
              "      <td>0</td>\n",
              "      <td>0</td>\n",
              "      <td>0</td>\n",
              "      <td>11.226386</td>\n",
              "      <td>9.184641</td>\n",
              "    </tr>\n",
              "    <tr>\n",
              "      <th>4</th>\n",
              "      <td>4.6</td>\n",
              "      <td>3.900000</td>\n",
              "      <td>0.220301</td>\n",
              "      <td>16.0</td>\n",
              "      <td>8.0</td>\n",
              "      <td>2.000000</td>\n",
              "      <td>4.541667</td>\n",
              "      <td>0.299408</td>\n",
              "      <td>644.0</td>\n",
              "      <td>20.0</td>\n",
              "      <td>...</td>\n",
              "      <td>0</td>\n",
              "      <td>0</td>\n",
              "      <td>0</td>\n",
              "      <td>0</td>\n",
              "      <td>1</td>\n",
              "      <td>0</td>\n",
              "      <td>0</td>\n",
              "      <td>0</td>\n",
              "      <td>0.331160</td>\n",
              "      <td>2.383072</td>\n",
              "    </tr>\n",
              "  </tbody>\n",
              "</table>\n",
              "<p>5 rows × 88 columns</p>\n",
              "</div>\n",
              "      <button class=\"colab-df-convert\" onclick=\"convertToInteractive('df-2ed2bc4d-cdc0-47e8-a31c-fab188774307')\"\n",
              "              title=\"Convert this dataframe to an interactive table.\"\n",
              "              style=\"display:none;\">\n",
              "        \n",
              "  <svg xmlns=\"http://www.w3.org/2000/svg\" height=\"24px\"viewBox=\"0 0 24 24\"\n",
              "       width=\"24px\">\n",
              "    <path d=\"M0 0h24v24H0V0z\" fill=\"none\"/>\n",
              "    <path d=\"M18.56 5.44l.94 2.06.94-2.06 2.06-.94-2.06-.94-.94-2.06-.94 2.06-2.06.94zm-11 1L8.5 8.5l.94-2.06 2.06-.94-2.06-.94L8.5 2.5l-.94 2.06-2.06.94zm10 10l.94 2.06.94-2.06 2.06-.94-2.06-.94-.94-2.06-.94 2.06-2.06.94z\"/><path d=\"M17.41 7.96l-1.37-1.37c-.4-.4-.92-.59-1.43-.59-.52 0-1.04.2-1.43.59L10.3 9.45l-7.72 7.72c-.78.78-.78 2.05 0 2.83L4 21.41c.39.39.9.59 1.41.59.51 0 1.02-.2 1.41-.59l7.78-7.78 2.81-2.81c.8-.78.8-2.07 0-2.86zM5.41 20L4 18.59l7.72-7.72 1.47 1.35L5.41 20z\"/>\n",
              "  </svg>\n",
              "      </button>\n",
              "      \n",
              "  <style>\n",
              "    .colab-df-container {\n",
              "      display:flex;\n",
              "      flex-wrap:wrap;\n",
              "      gap: 12px;\n",
              "    }\n",
              "\n",
              "    .colab-df-convert {\n",
              "      background-color: #E8F0FE;\n",
              "      border: none;\n",
              "      border-radius: 50%;\n",
              "      cursor: pointer;\n",
              "      display: none;\n",
              "      fill: #1967D2;\n",
              "      height: 32px;\n",
              "      padding: 0 0 0 0;\n",
              "      width: 32px;\n",
              "    }\n",
              "\n",
              "    .colab-df-convert:hover {\n",
              "      background-color: #E2EBFA;\n",
              "      box-shadow: 0px 1px 2px rgba(60, 64, 67, 0.3), 0px 1px 3px 1px rgba(60, 64, 67, 0.15);\n",
              "      fill: #174EA6;\n",
              "    }\n",
              "\n",
              "    [theme=dark] .colab-df-convert {\n",
              "      background-color: #3B4455;\n",
              "      fill: #D2E3FC;\n",
              "    }\n",
              "\n",
              "    [theme=dark] .colab-df-convert:hover {\n",
              "      background-color: #434B5C;\n",
              "      box-shadow: 0px 1px 3px 1px rgba(0, 0, 0, 0.15);\n",
              "      filter: drop-shadow(0px 1px 2px rgba(0, 0, 0, 0.3));\n",
              "      fill: #FFFFFF;\n",
              "    }\n",
              "  </style>\n",
              "\n",
              "      <script>\n",
              "        const buttonEl =\n",
              "          document.querySelector('#df-2ed2bc4d-cdc0-47e8-a31c-fab188774307 button.colab-df-convert');\n",
              "        buttonEl.style.display =\n",
              "          google.colab.kernel.accessAllowed ? 'block' : 'none';\n",
              "\n",
              "        async function convertToInteractive(key) {\n",
              "          const element = document.querySelector('#df-2ed2bc4d-cdc0-47e8-a31c-fab188774307');\n",
              "          const dataTable =\n",
              "            await google.colab.kernel.invokeFunction('convertToInteractive',\n",
              "                                                     [key], {});\n",
              "          if (!dataTable) return;\n",
              "\n",
              "          const docLinkHtml = 'Like what you see? Visit the ' +\n",
              "            '<a target=\"_blank\" href=https://colab.research.google.com/notebooks/data_table.ipynb>data table notebook</a>'\n",
              "            + ' to learn more about interactive tables.';\n",
              "          element.innerHTML = '';\n",
              "          dataTable['output_type'] = 'display_data';\n",
              "          await google.colab.output.renderOutput(dataTable, element);\n",
              "          const docLink = document.createElement('div');\n",
              "          docLink.innerHTML = docLinkHtml;\n",
              "          element.appendChild(docLink);\n",
              "        }\n",
              "      </script>\n",
              "    </div>\n",
              "  </div>\n",
              "  "
            ]
          },
          "metadata": {},
          "execution_count": 52
        }
      ],
      "source": [
        "X_train.head()"
      ]
    },
    {
      "cell_type": "code",
      "execution_count": 53,
      "metadata": {
        "colab": {
          "base_uri": "https://localhost:8080/",
          "height": 160
        },
        "id": "3DYwra6HPxN_",
        "outputId": "66ff0e96-950c-41ff-831b-3ef1c976e74c"
      },
      "outputs": [
        {
          "output_type": "execute_result",
          "data": {
            "text/plain": [
              "Empty DataFrame\n",
              "Columns: [rating, atm_avg_rating, atm_avg_distance_to_condo (KM), atm_num_of_rating, atm_count, bar_price_level, bar_avg_rating, bar_avg_distance_to_condo (KM), bar_num_of_rating, bar_count, gas_station_avg_rating, gas_station_avg_distance_to_condo (KM), gas_station_num_of_rating, gas_station_count, convenience_store_avg_rating, convenience_store_avg_distance_to_condo (KM), convenience_store_num_of_rating, convenience_store_count, department_store_avg_rating, department_store_avg_distance_to_condo (KM), department_store_num_of_rating, department_store_count, hospital_avg_rating, hospital_avg_distance_to_condo (KM), hospital_num_of_rating, hospital_count, university_avg_rating, university_avg_distance_to_condo (KM), university_num_of_rating, university_count, supermarket_avg_rating, supermarket_avg_distance_to_condo (KM), supermarket_num_of_rating, supermarket_count, gym_avg_rating, gym_avg_distance_to_condo (KM), gym_num_of_rating, gym_count, shopping_mall_avg_rating, shopping_mall_avg_distance_to_condo (KM), shopping_mall_num_of_rating, shopping_mall_count, laundry_avg_distance_to_condo (KM), laundry_num_of_rating, laundry_count, movie_theater_avg_rating, movie_theater_avg_distance_to_condo (KM), movie_theater_num_of_rating, movie_theater_count, park_avg_rating, park_avg_distance_to_condo (KM), park_num_of_rating, park_count, night_club_price_level, night_club_avg_rating, night_club_avg_distance_to_condo (KM), night_club_num_of_rating, night_club_count, primary_school_avg_rating, primary_school_avg_distance_to_condo (KM), primary_school_num_of_rating, primary_school_count, school_avg_rating, school_avg_distance_to_condo (KM), school_num_of_rating, school_count, tourist_attraction_avg_rating, tourist_attraction_avg_distance_to_condo (KM), tourist_attraction_num_of_rating, tourist_attraction_count, detail_พักอาศัย, detail_พื้นที่ระเบียง, detail_พื้นที่ห้องชุดพักอาศัย, detail_ห้องชุดพักอาศัย, flr_1, flr_10, flr_11, flr_12, flr_2, flr_3, flr_4, flr_5, flr_6, flr_7, flr_8, flr_9, distance_from_condo_to_central, distance_from_condo_to_clock]\n",
              "Index: []\n",
              "\n",
              "[0 rows x 88 columns]"
            ],
            "text/html": [
              "\n",
              "  <div id=\"df-e0035317-43b2-4693-85d7-02694f3a1a8e\">\n",
              "    <div class=\"colab-df-container\">\n",
              "      <div>\n",
              "<style scoped>\n",
              "    .dataframe tbody tr th:only-of-type {\n",
              "        vertical-align: middle;\n",
              "    }\n",
              "\n",
              "    .dataframe tbody tr th {\n",
              "        vertical-align: top;\n",
              "    }\n",
              "\n",
              "    .dataframe thead th {\n",
              "        text-align: right;\n",
              "    }\n",
              "</style>\n",
              "<table border=\"1\" class=\"dataframe\">\n",
              "  <thead>\n",
              "    <tr style=\"text-align: right;\">\n",
              "      <th></th>\n",
              "      <th>rating</th>\n",
              "      <th>atm_avg_rating</th>\n",
              "      <th>atm_avg_distance_to_condo (KM)</th>\n",
              "      <th>atm_num_of_rating</th>\n",
              "      <th>atm_count</th>\n",
              "      <th>bar_price_level</th>\n",
              "      <th>bar_avg_rating</th>\n",
              "      <th>bar_avg_distance_to_condo (KM)</th>\n",
              "      <th>bar_num_of_rating</th>\n",
              "      <th>bar_count</th>\n",
              "      <th>...</th>\n",
              "      <th>flr_2</th>\n",
              "      <th>flr_3</th>\n",
              "      <th>flr_4</th>\n",
              "      <th>flr_5</th>\n",
              "      <th>flr_6</th>\n",
              "      <th>flr_7</th>\n",
              "      <th>flr_8</th>\n",
              "      <th>flr_9</th>\n",
              "      <th>distance_from_condo_to_central</th>\n",
              "      <th>distance_from_condo_to_clock</th>\n",
              "    </tr>\n",
              "  </thead>\n",
              "  <tbody>\n",
              "  </tbody>\n",
              "</table>\n",
              "<p>0 rows × 88 columns</p>\n",
              "</div>\n",
              "      <button class=\"colab-df-convert\" onclick=\"convertToInteractive('df-e0035317-43b2-4693-85d7-02694f3a1a8e')\"\n",
              "              title=\"Convert this dataframe to an interactive table.\"\n",
              "              style=\"display:none;\">\n",
              "        \n",
              "  <svg xmlns=\"http://www.w3.org/2000/svg\" height=\"24px\"viewBox=\"0 0 24 24\"\n",
              "       width=\"24px\">\n",
              "    <path d=\"M0 0h24v24H0V0z\" fill=\"none\"/>\n",
              "    <path d=\"M18.56 5.44l.94 2.06.94-2.06 2.06-.94-2.06-.94-.94-2.06-.94 2.06-2.06.94zm-11 1L8.5 8.5l.94-2.06 2.06-.94-2.06-.94L8.5 2.5l-.94 2.06-2.06.94zm10 10l.94 2.06.94-2.06 2.06-.94-2.06-.94-.94-2.06-.94 2.06-2.06.94z\"/><path d=\"M17.41 7.96l-1.37-1.37c-.4-.4-.92-.59-1.43-.59-.52 0-1.04.2-1.43.59L10.3 9.45l-7.72 7.72c-.78.78-.78 2.05 0 2.83L4 21.41c.39.39.9.59 1.41.59.51 0 1.02-.2 1.41-.59l7.78-7.78 2.81-2.81c.8-.78.8-2.07 0-2.86zM5.41 20L4 18.59l7.72-7.72 1.47 1.35L5.41 20z\"/>\n",
              "  </svg>\n",
              "      </button>\n",
              "      \n",
              "  <style>\n",
              "    .colab-df-container {\n",
              "      display:flex;\n",
              "      flex-wrap:wrap;\n",
              "      gap: 12px;\n",
              "    }\n",
              "\n",
              "    .colab-df-convert {\n",
              "      background-color: #E8F0FE;\n",
              "      border: none;\n",
              "      border-radius: 50%;\n",
              "      cursor: pointer;\n",
              "      display: none;\n",
              "      fill: #1967D2;\n",
              "      height: 32px;\n",
              "      padding: 0 0 0 0;\n",
              "      width: 32px;\n",
              "    }\n",
              "\n",
              "    .colab-df-convert:hover {\n",
              "      background-color: #E2EBFA;\n",
              "      box-shadow: 0px 1px 2px rgba(60, 64, 67, 0.3), 0px 1px 3px 1px rgba(60, 64, 67, 0.15);\n",
              "      fill: #174EA6;\n",
              "    }\n",
              "\n",
              "    [theme=dark] .colab-df-convert {\n",
              "      background-color: #3B4455;\n",
              "      fill: #D2E3FC;\n",
              "    }\n",
              "\n",
              "    [theme=dark] .colab-df-convert:hover {\n",
              "      background-color: #434B5C;\n",
              "      box-shadow: 0px 1px 3px 1px rgba(0, 0, 0, 0.15);\n",
              "      filter: drop-shadow(0px 1px 2px rgba(0, 0, 0, 0.3));\n",
              "      fill: #FFFFFF;\n",
              "    }\n",
              "  </style>\n",
              "\n",
              "      <script>\n",
              "        const buttonEl =\n",
              "          document.querySelector('#df-e0035317-43b2-4693-85d7-02694f3a1a8e button.colab-df-convert');\n",
              "        buttonEl.style.display =\n",
              "          google.colab.kernel.accessAllowed ? 'block' : 'none';\n",
              "\n",
              "        async function convertToInteractive(key) {\n",
              "          const element = document.querySelector('#df-e0035317-43b2-4693-85d7-02694f3a1a8e');\n",
              "          const dataTable =\n",
              "            await google.colab.kernel.invokeFunction('convertToInteractive',\n",
              "                                                     [key], {});\n",
              "          if (!dataTable) return;\n",
              "\n",
              "          const docLinkHtml = 'Like what you see? Visit the ' +\n",
              "            '<a target=\"_blank\" href=https://colab.research.google.com/notebooks/data_table.ipynb>data table notebook</a>'\n",
              "            + ' to learn more about interactive tables.';\n",
              "          element.innerHTML = '';\n",
              "          dataTable['output_type'] = 'display_data';\n",
              "          await google.colab.output.renderOutput(dataTable, element);\n",
              "          const docLink = document.createElement('div');\n",
              "          docLink.innerHTML = docLinkHtml;\n",
              "          element.appendChild(docLink);\n",
              "        }\n",
              "      </script>\n",
              "    </div>\n",
              "  </div>\n",
              "  "
            ]
          },
          "metadata": {},
          "execution_count": 53
        }
      ],
      "source": [
        "X_train[X_train['rating'].isnull()]"
      ]
    },
    {
      "cell_type": "code",
      "execution_count": 54,
      "metadata": {
        "colab": {
          "base_uri": "https://localhost:8080/"
        },
        "id": "NC3ZhzjHPcri",
        "outputId": "e87b0216-81da-4b85-ca0d-cee61f66dc3b"
      },
      "outputs": [
        {
          "output_type": "stream",
          "name": "stderr",
          "text": [
            "/usr/local/lib/python3.7/dist-packages/sklearn/utils/validation.py:993: DataConversionWarning: A column-vector y was passed when a 1d array was expected. Please change the shape of y to (n_samples, ), for example using ravel().\n",
            "  y = column_or_1d(y, warn=True)\n"
          ]
        },
        {
          "output_type": "execute_result",
          "data": {
            "text/plain": [
              "array([1.57426208e+00, 9.77345109e-01, 8.51253041e-01, 1.01260378e+00,\n",
              "       8.89033342e-01, 9.86170311e-01, 1.44274726e+00, 1.67937053e+00,\n",
              "       1.23431723e+00, 1.15932548e+00, 1.22818971e+00, 1.23732252e+00,\n",
              "       9.43368052e-01, 1.01331259e+00, 5.94175053e-01, 5.29540911e-01,\n",
              "       5.21375445e-01, 4.38925347e-01, 8.59678984e-01, 9.81031832e-01,\n",
              "       6.39083968e-01, 6.96852454e-01, 1.28057110e+00, 1.30203295e+00,\n",
              "       1.06875165e+00, 1.04327102e+00, 1.08483691e+00, 1.28551843e+00,\n",
              "       8.25856846e-01, 1.34499951e+00, 1.09783602e+00, 1.38856341e+00,\n",
              "       6.69157837e-01, 1.36384104e+00, 1.32936843e+00, 1.68067626e+00,\n",
              "       1.37218734e+00, 1.62114373e+00, 1.43835601e+00, 1.33500953e+00,\n",
              "       6.78771172e-01, 1.24936819e+00, 4.16241775e-01, 2.59662372e-01,\n",
              "       3.81728877e-01, 0.00000000e+00, 5.84852544e-01, 4.09627715e-01,\n",
              "       4.18848109e-01, 3.95187566e-01, 4.94024123e-01, 2.14855813e-01,\n",
              "       4.92583531e-01, 0.00000000e+00, 1.30221770e+00, 1.40196424e+00,\n",
              "       8.81809181e-01, 1.15948920e+00, 1.06292454e+00, 1.43002128e+00,\n",
              "       1.08293482e+00, 1.14461207e+00, 1.82637360e+00, 1.39316902e+00,\n",
              "       1.22522234e+00, 7.60813163e-01, 1.49269744e+00, 1.33507841e+00,\n",
              "       1.31281855e+00, 1.11136330e+00, 5.25576850e-01, 1.18836392e-03,\n",
              "       5.20294356e-01, 9.48431200e-03, 2.40757259e-01, 0.00000000e+00,\n",
              "       8.48243366e-03, 0.00000000e+00, 7.94738761e-02, 0.00000000e+00,\n",
              "       0.00000000e+00, 1.97906155e-02, 0.00000000e+00, 3.88450418e-02,\n",
              "       0.00000000e+00, 0.00000000e+00, 1.60825039e+00, 1.50993762e+00])"
            ]
          },
          "metadata": {},
          "execution_count": 54
        }
      ],
      "source": [
        "from sklearn.feature_selection import mutual_info_regression\n",
        "# determine the mutual information\n",
        "mutual_info = mutual_info_regression(X_train, y_train)\n",
        "mutual_info"
      ]
    },
    {
      "cell_type": "code",
      "execution_count": 55,
      "metadata": {
        "colab": {
          "base_uri": "https://localhost:8080/"
        },
        "id": "giQnuDk2OTPj",
        "outputId": "e6703a5c-6db2-479f-c7f8-9046c066aab2"
      },
      "outputs": [
        {
          "output_type": "execute_result",
          "data": {
            "text/plain": [
              "school_avg_rating                 1.826374\n",
              "gym_avg_distance_to_condo (KM)    1.680676\n",
              "bar_avg_distance_to_condo (KM)    1.679371\n",
              "gym_count                         1.621144\n",
              "distance_from_condo_to_central    1.608250\n",
              "                                    ...   \n",
              "flr_4                             0.000000\n",
              "flr_6                             0.000000\n",
              "flr_8                             0.000000\n",
              "flr_9                             0.000000\n",
              "night_club_price_level            0.000000\n",
              "Length: 88, dtype: float64"
            ]
          },
          "metadata": {},
          "execution_count": 55
        }
      ],
      "source": [
        "mutual_info = pd.Series(mutual_info)\n",
        "mutual_info.index = X_train.columns\n",
        "mutual_info.sort_values(ascending=False)"
      ]
    },
    {
      "cell_type": "code",
      "source": [
        "# insights : the features that has 0 mutual info\n",
        "print(mutual_info[mutual_info<0.0001].index)"
      ],
      "metadata": {
        "colab": {
          "base_uri": "https://localhost:8080/"
        },
        "id": "34L2gWCYTcgw",
        "outputId": "e6012a5a-26dd-4499-e21f-c81ccd25f676"
      },
      "execution_count": 56,
      "outputs": [
        {
          "output_type": "stream",
          "name": "stdout",
          "text": [
            "Index(['movie_theater_avg_rating', 'night_club_price_level', 'flr_10',\n",
            "       'flr_12', 'flr_3', 'flr_4', 'flr_6', 'flr_8', 'flr_9'],\n",
            "      dtype='object')\n"
          ]
        }
      ]
    },
    {
      "cell_type": "code",
      "execution_count": 57,
      "metadata": {
        "id": "prYgEr2WT_8T"
      },
      "outputs": [],
      "source": [
        "# choose only the one that has positive value = is related to y\n",
        "mutual_info = mutual_info[mutual_info>0]"
      ]
    },
    {
      "cell_type": "code",
      "execution_count": 58,
      "metadata": {
        "colab": {
          "base_uri": "https://localhost:8080/"
        },
        "id": "TIdbgzyjUiCz",
        "outputId": "ebc93637-9aea-49ee-cffa-5aa676368726"
      },
      "outputs": [
        {
          "output_type": "execute_result",
          "data": {
            "text/plain": [
              "79"
            ]
          },
          "metadata": {},
          "execution_count": 58
        }
      ],
      "source": [
        "len(mutual_info)"
      ]
    },
    {
      "cell_type": "code",
      "execution_count": 59,
      "metadata": {
        "id": "6AyToGhvU04W"
      },
      "outputs": [],
      "source": [
        "X_train = X_train[mutual_info.index]\n",
        "X_test = X_test[mutual_info.index]"
      ]
    },
    {
      "cell_type": "markdown",
      "metadata": {
        "id": "Jdh6qvQoPNJW"
      },
      "source": [
        "#correlation between feature\n",
        "##to get highly correlated feature\n",
        "\n"
      ]
    },
    {
      "cell_type": "code",
      "execution_count": 60,
      "metadata": {
        "id": "FeWzplpeKFBk"
      },
      "outputs": [],
      "source": [
        "cor = X_train.corr()"
      ]
    },
    {
      "cell_type": "code",
      "execution_count": 61,
      "metadata": {
        "colab": {
          "base_uri": "https://localhost:8080/",
          "height": 1000
        },
        "id": "hq0iBZQmKUki",
        "outputId": "4e73ba43-48b6-410e-9e3f-89fb8251f317"
      },
      "outputs": [
        {
          "output_type": "stream",
          "name": "stderr",
          "text": [
            "/usr/local/lib/python3.7/dist-packages/matplotlib/backends/backend_agg.py:214: RuntimeWarning: Glyph 3614 missing from current font.\n",
            "  font.set_text(s, 0.0, flags=flags)\n",
            "/usr/local/lib/python3.7/dist-packages/matplotlib/backends/backend_agg.py:214: RuntimeWarning: Glyph 3633 missing from current font.\n",
            "  font.set_text(s, 0.0, flags=flags)\n",
            "/usr/local/lib/python3.7/dist-packages/matplotlib/backends/backend_agg.py:214: RuntimeWarning: Glyph 3585 missing from current font.\n",
            "  font.set_text(s, 0.0, flags=flags)\n",
            "/usr/local/lib/python3.7/dist-packages/matplotlib/backends/backend_agg.py:214: RuntimeWarning: Glyph 3629 missing from current font.\n",
            "  font.set_text(s, 0.0, flags=flags)\n",
            "/usr/local/lib/python3.7/dist-packages/matplotlib/backends/backend_agg.py:214: RuntimeWarning: Glyph 3634 missing from current font.\n",
            "  font.set_text(s, 0.0, flags=flags)\n",
            "/usr/local/lib/python3.7/dist-packages/matplotlib/backends/backend_agg.py:214: RuntimeWarning: Glyph 3624 missing from current font.\n",
            "  font.set_text(s, 0.0, flags=flags)\n",
            "/usr/local/lib/python3.7/dist-packages/matplotlib/backends/backend_agg.py:214: RuntimeWarning: Glyph 3618 missing from current font.\n",
            "  font.set_text(s, 0.0, flags=flags)\n",
            "/usr/local/lib/python3.7/dist-packages/matplotlib/backends/backend_agg.py:214: RuntimeWarning: Glyph 3639 missing from current font.\n",
            "  font.set_text(s, 0.0, flags=flags)\n",
            "/usr/local/lib/python3.7/dist-packages/matplotlib/backends/backend_agg.py:214: RuntimeWarning: Glyph 3657 missing from current font.\n",
            "  font.set_text(s, 0.0, flags=flags)\n",
            "/usr/local/lib/python3.7/dist-packages/matplotlib/backends/backend_agg.py:214: RuntimeWarning: Glyph 3609 missing from current font.\n",
            "  font.set_text(s, 0.0, flags=flags)\n",
            "/usr/local/lib/python3.7/dist-packages/matplotlib/backends/backend_agg.py:214: RuntimeWarning: Glyph 3607 missing from current font.\n",
            "  font.set_text(s, 0.0, flags=flags)\n",
            "/usr/local/lib/python3.7/dist-packages/matplotlib/backends/backend_agg.py:214: RuntimeWarning: Glyph 3637 missing from current font.\n",
            "  font.set_text(s, 0.0, flags=flags)\n",
            "/usr/local/lib/python3.7/dist-packages/matplotlib/backends/backend_agg.py:214: RuntimeWarning: Glyph 3656 missing from current font.\n",
            "  font.set_text(s, 0.0, flags=flags)\n",
            "/usr/local/lib/python3.7/dist-packages/matplotlib/backends/backend_agg.py:214: RuntimeWarning: Glyph 3627 missing from current font.\n",
            "  font.set_text(s, 0.0, flags=flags)\n",
            "/usr/local/lib/python3.7/dist-packages/matplotlib/backends/backend_agg.py:214: RuntimeWarning: Glyph 3591 missing from current font.\n",
            "  font.set_text(s, 0.0, flags=flags)\n",
            "/usr/local/lib/python3.7/dist-packages/matplotlib/backends/backend_agg.py:214: RuntimeWarning: Glyph 3594 missing from current font.\n",
            "  font.set_text(s, 0.0, flags=flags)\n",
            "/usr/local/lib/python3.7/dist-packages/matplotlib/backends/backend_agg.py:214: RuntimeWarning: Glyph 3640 missing from current font.\n",
            "  font.set_text(s, 0.0, flags=flags)\n",
            "/usr/local/lib/python3.7/dist-packages/matplotlib/backends/backend_agg.py:214: RuntimeWarning: Glyph 3604 missing from current font.\n",
            "  font.set_text(s, 0.0, flags=flags)\n",
            "/usr/local/lib/python3.7/dist-packages/matplotlib/backends/backend_agg.py:183: RuntimeWarning: Glyph 3614 missing from current font.\n",
            "  font.set_text(s, 0, flags=flags)\n",
            "/usr/local/lib/python3.7/dist-packages/matplotlib/backends/backend_agg.py:183: RuntimeWarning: Glyph 3633 missing from current font.\n",
            "  font.set_text(s, 0, flags=flags)\n",
            "/usr/local/lib/python3.7/dist-packages/matplotlib/backends/backend_agg.py:183: RuntimeWarning: Glyph 3585 missing from current font.\n",
            "  font.set_text(s, 0, flags=flags)\n",
            "/usr/local/lib/python3.7/dist-packages/matplotlib/backends/backend_agg.py:183: RuntimeWarning: Glyph 3629 missing from current font.\n",
            "  font.set_text(s, 0, flags=flags)\n",
            "/usr/local/lib/python3.7/dist-packages/matplotlib/backends/backend_agg.py:183: RuntimeWarning: Glyph 3634 missing from current font.\n",
            "  font.set_text(s, 0, flags=flags)\n",
            "/usr/local/lib/python3.7/dist-packages/matplotlib/backends/backend_agg.py:183: RuntimeWarning: Glyph 3624 missing from current font.\n",
            "  font.set_text(s, 0, flags=flags)\n",
            "/usr/local/lib/python3.7/dist-packages/matplotlib/backends/backend_agg.py:183: RuntimeWarning: Glyph 3618 missing from current font.\n",
            "  font.set_text(s, 0, flags=flags)\n",
            "/usr/local/lib/python3.7/dist-packages/matplotlib/backends/backend_agg.py:183: RuntimeWarning: Glyph 3639 missing from current font.\n",
            "  font.set_text(s, 0, flags=flags)\n",
            "/usr/local/lib/python3.7/dist-packages/matplotlib/backends/backend_agg.py:183: RuntimeWarning: Glyph 3657 missing from current font.\n",
            "  font.set_text(s, 0, flags=flags)\n",
            "/usr/local/lib/python3.7/dist-packages/matplotlib/backends/backend_agg.py:183: RuntimeWarning: Glyph 3609 missing from current font.\n",
            "  font.set_text(s, 0, flags=flags)\n",
            "/usr/local/lib/python3.7/dist-packages/matplotlib/backends/backend_agg.py:183: RuntimeWarning: Glyph 3607 missing from current font.\n",
            "  font.set_text(s, 0, flags=flags)\n",
            "/usr/local/lib/python3.7/dist-packages/matplotlib/backends/backend_agg.py:183: RuntimeWarning: Glyph 3637 missing from current font.\n",
            "  font.set_text(s, 0, flags=flags)\n",
            "/usr/local/lib/python3.7/dist-packages/matplotlib/backends/backend_agg.py:183: RuntimeWarning: Glyph 3656 missing from current font.\n",
            "  font.set_text(s, 0, flags=flags)\n",
            "/usr/local/lib/python3.7/dist-packages/matplotlib/backends/backend_agg.py:183: RuntimeWarning: Glyph 3627 missing from current font.\n",
            "  font.set_text(s, 0, flags=flags)\n",
            "/usr/local/lib/python3.7/dist-packages/matplotlib/backends/backend_agg.py:183: RuntimeWarning: Glyph 3591 missing from current font.\n",
            "  font.set_text(s, 0, flags=flags)\n",
            "/usr/local/lib/python3.7/dist-packages/matplotlib/backends/backend_agg.py:183: RuntimeWarning: Glyph 3594 missing from current font.\n",
            "  font.set_text(s, 0, flags=flags)\n",
            "/usr/local/lib/python3.7/dist-packages/matplotlib/backends/backend_agg.py:183: RuntimeWarning: Glyph 3640 missing from current font.\n",
            "  font.set_text(s, 0, flags=flags)\n",
            "/usr/local/lib/python3.7/dist-packages/matplotlib/backends/backend_agg.py:183: RuntimeWarning: Glyph 3604 missing from current font.\n",
            "  font.set_text(s, 0, flags=flags)\n"
          ]
        },
        {
          "output_type": "display_data",
          "data": {
            "text/plain": [
              "<Figure size 864x720 with 2 Axes>"
            ],
            "image/png": "[encoded data removed]"
          },
          "metadata": {
            "needs_background": "light"
          }
        }
      ],
      "source": [
        "import seaborn as sns\n",
        "#Using Pearson Correlation\n",
        "plt.figure(figsize=(12,10))\n",
        "cor = X_train.corr()\n",
        "sns.heatmap(cor, cmap=plt.cm.CMRmap_r)\n",
        "plt.show()"
      ]
    },
    {
      "cell_type": "code",
      "execution_count": 62,
      "metadata": {
        "id": "TA3ZaYdTK90-"
      },
      "outputs": [],
      "source": [
        "# with the following function we can select highly correlated features\n",
        "# it will remove the first feature that is correlated with anything other feature\n",
        "\n",
        "def correlation(dataset, threshold):\n",
        "    col_corr = set()  # Set of all the names of correlated columns\n",
        "    tuple_corr = [] # Set of all tuple of the names of correlated columns\n",
        "    corr_matrix = dataset.corr()\n",
        "    for i in range(len(corr_matrix.columns)):\n",
        "        for j in range(i):\n",
        "            if abs(corr_matrix.iloc[i, j]) > threshold: # we are interested in absolute coeff value\n",
        "                rowname = corr_matrix.columns[i]  # getting the name of column\n",
        "                colname = corr_matrix.columns[j]\n",
        "                tuple_corr.append([corr_matrix.iloc[i, j], rowname, colname])\n",
        "                if mutual_info[rowname]>mutual_info[colname]:\n",
        "                  col_corr.add(colname)\n",
        "                else:\n",
        "                  col_corr.add(rowname)\n",
        "    return col_corr, tuple_corr"
      ]
    },
    {
      "cell_type": "code",
      "execution_count": 63,
      "metadata": {
        "colab": {
          "base_uri": "https://localhost:8080/"
        },
        "id": "Gmtrgdu2LHk7",
        "outputId": "f876322b-c575-4333-a8f5-77d59ffeb048"
      },
      "outputs": [
        {
          "output_type": "execute_result",
          "data": {
            "text/plain": [
              "46"
            ]
          },
          "metadata": {},
          "execution_count": 63
        }
      ],
      "source": [
        "# select the features that are highly correlated\n",
        "corr_features, tuple_corr = correlation(X_train, 0.75)\n",
        "len(set(corr_features)) \n",
        "# corr_features"
      ]
    },
    {
      "cell_type": "code",
      "execution_count": null,
      "metadata": {
        "colab": {
          "base_uri": "https://localhost:8080/"
        },
        "id": "ENsIZWEnSZ45",
        "outputId": "058d6b2e-a5ab-405e-8b27-8ea798eafd94"
      },
      "outputs": [
        {
          "data": {
            "text/plain": [
              "{'atm_avg_distance_to_condo (KM)',\n",
              " 'atm_count',\n",
              " 'atm_num_of_rating',\n",
              " 'bar_count',\n",
              " 'convenience_store_avg_rating',\n",
              " 'convenience_store_count',\n",
              " 'convenience_store_num_of_rating',\n",
              " 'department_store_avg_distance_to_condo (KM)',\n",
              " 'department_store_count',\n",
              " 'department_store_num_of_rating',\n",
              " 'detail_พักอาศัย',\n",
              " 'distance_from_condo_to_clock',\n",
              " 'gas_station_avg_distance_to_condo (KM)',\n",
              " 'gas_station_count',\n",
              " 'gas_station_num_of_rating',\n",
              " 'gym_num_of_rating',\n",
              " 'hospital_avg_distance_to_condo (KM)',\n",
              " 'hospital_count',\n",
              " 'hospital_num_of_rating',\n",
              " 'laundry_avg_distance_to_condo (KM)',\n",
              " 'laundry_count',\n",
              " 'laundry_num_of_rating',\n",
              " 'movie_theater_avg_distance_to_condo (KM)',\n",
              " 'movie_theater_avg_rating',\n",
              " 'movie_theater_count',\n",
              " 'movie_theater_num_of_rating',\n",
              " 'night_club_avg_rating',\n",
              " 'night_club_count',\n",
              " 'night_club_num_of_rating',\n",
              " 'park_count',\n",
              " 'park_num_of_rating',\n",
              " 'primary_school_avg_distance_to_condo (KM)',\n",
              " 'primary_school_avg_rating',\n",
              " 'primary_school_count',\n",
              " 'primary_school_num_of_rating',\n",
              " 'school_avg_distance_to_condo (KM)',\n",
              " 'school_count',\n",
              " 'school_num_of_rating',\n",
              " 'shopping_mall_avg_distance_to_condo (KM)',\n",
              " 'shopping_mall_count',\n",
              " 'shopping_mall_num_of_rating',\n",
              " 'supermarket_avg_rating',\n",
              " 'supermarket_count',\n",
              " 'supermarket_num_of_rating',\n",
              " 'tourist_attraction_avg_distance_to_condo (KM)',\n",
              " 'tourist_attraction_count',\n",
              " 'university_avg_distance_to_condo (KM)',\n",
              " 'university_num_of_rating'}"
            ]
          },
          "execution_count": 106,
          "metadata": {},
          "output_type": "execute_result"
        }
      ],
      "source": [
        "corr_features"
      ]
    },
    {
      "cell_type": "code",
      "source": [
        "pd.DataFrame(tuple_corr).sort_values(by=0, ascending=False)"
      ],
      "metadata": {
        "colab": {
          "base_uri": "https://localhost:8080/",
          "height": 424
        },
        "id": "no_20iyMj4Su",
        "outputId": "d1574102-8636-4933-bfac-3e8b25eb7e55"
      },
      "execution_count": 64,
      "outputs": [
        {
          "output_type": "execute_result",
          "data": {
            "text/plain": [
              "            0                                         1  \\\n",
              "104  1.000000                       movie_theater_count   \n",
              "101  0.999827                       movie_theater_count   \n",
              "92   0.999827               movie_theater_num_of_rating   \n",
              "102  0.999688                       movie_theater_count   \n",
              "93   0.999688               movie_theater_num_of_rating   \n",
              "..        ...                                       ...   \n",
              "84  -0.980380  movie_theater_avg_distance_to_condo (KM)   \n",
              "94  -0.980549               movie_theater_num_of_rating   \n",
              "103 -0.980549                       movie_theater_count   \n",
              "23  -0.996910                    department_store_count   \n",
              "12  -0.999572                   convenience_store_count   \n",
              "\n",
              "                                                2  \n",
              "104                   movie_theater_num_of_rating  \n",
              "101                     supermarket_num_of_rating  \n",
              "92                      supermarket_num_of_rating  \n",
              "102                   shopping_mall_num_of_rating  \n",
              "93                    shopping_mall_num_of_rating  \n",
              "..                                            ...  \n",
              "84                      supermarket_num_of_rating  \n",
              "94       movie_theater_avg_distance_to_condo (KM)  \n",
              "103      movie_theater_avg_distance_to_condo (KM)  \n",
              "23    department_store_avg_distance_to_condo (KM)  \n",
              "12   convenience_store_avg_distance_to_condo (KM)  \n",
              "\n",
              "[174 rows x 3 columns]"
            ],
            "text/html": [
              "\n",
              "  <div id=\"df-391b2a84-0c4c-476e-aee8-043bbb8c6634\">\n",
              "    <div class=\"colab-df-container\">\n",
              "      <div>\n",
              "<style scoped>\n",
              "    .dataframe tbody tr th:only-of-type {\n",
              "        vertical-align: middle;\n",
              "    }\n",
              "\n",
              "    .dataframe tbody tr th {\n",
              "        vertical-align: top;\n",
              "    }\n",
              "\n",
              "    .dataframe thead th {\n",
              "        text-align: right;\n",
              "    }\n",
              "</style>\n",
              "<table border=\"1\" class=\"dataframe\">\n",
              "  <thead>\n",
              "    <tr style=\"text-align: right;\">\n",
              "      <th></th>\n",
              "      <th>0</th>\n",
              "      <th>1</th>\n",
              "      <th>2</th>\n",
              "    </tr>\n",
              "  </thead>\n",
              "  <tbody>\n",
              "    <tr>\n",
              "      <th>104</th>\n",
              "      <td>1.000000</td>\n",
              "      <td>movie_theater_count</td>\n",
              "      <td>movie_theater_num_of_rating</td>\n",
              "    </tr>\n",
              "    <tr>\n",
              "      <th>101</th>\n",
              "      <td>0.999827</td>\n",
              "      <td>movie_theater_count</td>\n",
              "      <td>supermarket_num_of_rating</td>\n",
              "    </tr>\n",
              "    <tr>\n",
              "      <th>92</th>\n",
              "      <td>0.999827</td>\n",
              "      <td>movie_theater_num_of_rating</td>\n",
              "      <td>supermarket_num_of_rating</td>\n",
              "    </tr>\n",
              "    <tr>\n",
              "      <th>102</th>\n",
              "      <td>0.999688</td>\n",
              "      <td>movie_theater_count</td>\n",
              "      <td>shopping_mall_num_of_rating</td>\n",
              "    </tr>\n",
              "    <tr>\n",
              "      <th>93</th>\n",
              "      <td>0.999688</td>\n",
              "      <td>movie_theater_num_of_rating</td>\n",
              "      <td>shopping_mall_num_of_rating</td>\n",
              "    </tr>\n",
              "    <tr>\n",
              "      <th>...</th>\n",
              "      <td>...</td>\n",
              "      <td>...</td>\n",
              "      <td>...</td>\n",
              "    </tr>\n",
              "    <tr>\n",
              "      <th>84</th>\n",
              "      <td>-0.980380</td>\n",
              "      <td>movie_theater_avg_distance_to_condo (KM)</td>\n",
              "      <td>supermarket_num_of_rating</td>\n",
              "    </tr>\n",
              "    <tr>\n",
              "      <th>94</th>\n",
              "      <td>-0.980549</td>\n",
              "      <td>movie_theater_num_of_rating</td>\n",
              "      <td>movie_theater_avg_distance_to_condo (KM)</td>\n",
              "    </tr>\n",
              "    <tr>\n",
              "      <th>103</th>\n",
              "      <td>-0.980549</td>\n",
              "      <td>movie_theater_count</td>\n",
              "      <td>movie_theater_avg_distance_to_condo (KM)</td>\n",
              "    </tr>\n",
              "    <tr>\n",
              "      <th>23</th>\n",
              "      <td>-0.996910</td>\n",
              "      <td>department_store_count</td>\n",
              "      <td>department_store_avg_distance_to_condo (KM)</td>\n",
              "    </tr>\n",
              "    <tr>\n",
              "      <th>12</th>\n",
              "      <td>-0.999572</td>\n",
              "      <td>convenience_store_count</td>\n",
              "      <td>convenience_store_avg_distance_to_condo (KM)</td>\n",
              "    </tr>\n",
              "  </tbody>\n",
              "</table>\n",
              "<p>174 rows × 3 columns</p>\n",
              "</div>\n",
              "      <button class=\"colab-df-convert\" onclick=\"convertToInteractive('df-391b2a84-0c4c-476e-aee8-043bbb8c6634')\"\n",
              "              title=\"Convert this dataframe to an interactive table.\"\n",
              "              style=\"display:none;\">\n",
              "        \n",
              "  <svg xmlns=\"http://www.w3.org/2000/svg\" height=\"24px\"viewBox=\"0 0 24 24\"\n",
              "       width=\"24px\">\n",
              "    <path d=\"M0 0h24v24H0V0z\" fill=\"none\"/>\n",
              "    <path d=\"M18.56 5.44l.94 2.06.94-2.06 2.06-.94-2.06-.94-.94-2.06-.94 2.06-2.06.94zm-11 1L8.5 8.5l.94-2.06 2.06-.94-2.06-.94L8.5 2.5l-.94 2.06-2.06.94zm10 10l.94 2.06.94-2.06 2.06-.94-2.06-.94-.94-2.06-.94 2.06-2.06.94z\"/><path d=\"M17.41 7.96l-1.37-1.37c-.4-.4-.92-.59-1.43-.59-.52 0-1.04.2-1.43.59L10.3 9.45l-7.72 7.72c-.78.78-.78 2.05 0 2.83L4 21.41c.39.39.9.59 1.41.59.51 0 1.02-.2 1.41-.59l7.78-7.78 2.81-2.81c.8-.78.8-2.07 0-2.86zM5.41 20L4 18.59l7.72-7.72 1.47 1.35L5.41 20z\"/>\n",
              "  </svg>\n",
              "      </button>\n",
              "      \n",
              "  <style>\n",
              "    .colab-df-container {\n",
              "      display:flex;\n",
              "      flex-wrap:wrap;\n",
              "      gap: 12px;\n",
              "    }\n",
              "\n",
              "    .colab-df-convert {\n",
              "      background-color: #E8F0FE;\n",
              "      border: none;\n",
              "      border-radius: 50%;\n",
              "      cursor: pointer;\n",
              "      display: none;\n",
              "      fill: #1967D2;\n",
              "      height: 32px;\n",
              "      padding: 0 0 0 0;\n",
              "      width: 32px;\n",
              "    }\n",
              "\n",
              "    .colab-df-convert:hover {\n",
              "      background-color: #E2EBFA;\n",
              "      box-shadow: 0px 1px 2px rgba(60, 64, 67, 0.3), 0px 1px 3px 1px rgba(60, 64, 67, 0.15);\n",
              "      fill: #174EA6;\n",
              "    }\n",
              "\n",
              "    [theme=dark] .colab-df-convert {\n",
              "      background-color: #3B4455;\n",
              "      fill: #D2E3FC;\n",
              "    }\n",
              "\n",
              "    [theme=dark] .colab-df-convert:hover {\n",
              "      background-color: #434B5C;\n",
              "      box-shadow: 0px 1px 3px 1px rgba(0, 0, 0, 0.15);\n",
              "      filter: drop-shadow(0px 1px 2px rgba(0, 0, 0, 0.3));\n",
              "      fill: #FFFFFF;\n",
              "    }\n",
              "  </style>\n",
              "\n",
              "      <script>\n",
              "        const buttonEl =\n",
              "          document.querySelector('#df-391b2a84-0c4c-476e-aee8-043bbb8c6634 button.colab-df-convert');\n",
              "        buttonEl.style.display =\n",
              "          google.colab.kernel.accessAllowed ? 'block' : 'none';\n",
              "\n",
              "        async function convertToInteractive(key) {\n",
              "          const element = document.querySelector('#df-391b2a84-0c4c-476e-aee8-043bbb8c6634');\n",
              "          const dataTable =\n",
              "            await google.colab.kernel.invokeFunction('convertToInteractive',\n",
              "                                                     [key], {});\n",
              "          if (!dataTable) return;\n",
              "\n",
              "          const docLinkHtml = 'Like what you see? Visit the ' +\n",
              "            '<a target=\"_blank\" href=https://colab.research.google.com/notebooks/data_table.ipynb>data table notebook</a>'\n",
              "            + ' to learn more about interactive tables.';\n",
              "          element.innerHTML = '';\n",
              "          dataTable['output_type'] = 'display_data';\n",
              "          await google.colab.output.renderOutput(dataTable, element);\n",
              "          const docLink = document.createElement('div');\n",
              "          docLink.innerHTML = docLinkHtml;\n",
              "          element.appendChild(docLink);\n",
              "        }\n",
              "      </script>\n",
              "    </div>\n",
              "  </div>\n",
              "  "
            ]
          },
          "metadata": {},
          "execution_count": 64
        }
      ]
    },
    {
      "cell_type": "code",
      "source": [
        "mutual_info[['movie_theater_count', 'movie_theater_num_of_rating', 'convenience_store_count',\t'convenience_store_avg_distance_to_condo (KM)']]\n",
        "# 'movie_theater_num_of_rating', 'convenience_store_count' is being removed first"
      ],
      "metadata": {
        "colab": {
          "base_uri": "https://localhost:8080/"
        },
        "id": "pNkkJIP5nygS",
        "outputId": "e668751d-16f6-4819-bb24-8054ca6957c2"
      },
      "execution_count": 65,
      "outputs": [
        {
          "output_type": "execute_result",
          "data": {
            "text/plain": [
              "movie_theater_count                             0.418848\n",
              "movie_theater_num_of_rating                     0.409628\n",
              "convenience_store_count                         0.438925\n",
              "convenience_store_avg_distance_to_condo (KM)    0.529541\n",
              "dtype: float64"
            ]
          },
          "metadata": {},
          "execution_count": 65
        }
      ]
    },
    {
      "cell_type": "markdown",
      "metadata": {
        "id": "LVak_iwFXO2u"
      },
      "source": [
        "#drop highly correlated feature"
      ]
    },
    {
      "cell_type": "code",
      "execution_count": null,
      "metadata": {
        "id": "oAnbVyStXR-l"
      },
      "outputs": [],
      "source": [
        "X_train.drop(corr_features,axis=1, inplace = True)\n",
        "X_test.drop(corr_features,axis=1, inplace = True)"
      ]
    },
    {
      "cell_type": "code",
      "execution_count": null,
      "metadata": {
        "id": "aQIPbuGiX7B9"
      },
      "outputs": [],
      "source": [
        "X_train.reset_index(inplace=True)\n",
        "X_train.drop(columns=\"index\", inplace=True)\n",
        "X_test.reset_index(inplace=True)\n",
        "X_test.drop(columns=\"index\", inplace=True)"
      ]
    },
    {
      "cell_type": "code",
      "execution_count": null,
      "metadata": {
        "colab": {
          "base_uri": "https://localhost:8080/"
        },
        "id": "reuEP7kIfb3K",
        "outputId": "c5777b2f-02b5-47ae-ce27-15a55a9eb58a"
      },
      "outputs": [
        {
          "data": {
            "text/plain": [
              "Index(['rating', 'atm_avg_rating', 'bar_price_level', 'bar_avg_rating',\n",
              "       'bar_avg_distance_to_condo (KM)', 'bar_num_of_rating',\n",
              "       'gas_station_avg_rating',\n",
              "       'convenience_store_avg_distance_to_condo (KM)',\n",
              "       'department_store_avg_rating', 'hospital_avg_rating',\n",
              "       'university_avg_rating', 'university_count',\n",
              "       'supermarket_avg_distance_to_condo (KM)', 'gym_avg_rating',\n",
              "       'gym_avg_distance_to_condo (KM)', 'gym_count',\n",
              "       'shopping_mall_avg_rating', 'park_avg_rating',\n",
              "       'park_avg_distance_to_condo (KM)', 'night_club_price_level',\n",
              "       'night_club_avg_distance_to_condo (KM)', 'school_avg_rating',\n",
              "       'tourist_attraction_avg_rating', 'tourist_attraction_num_of_rating',\n",
              "       'detail_พื้นที่ระเบียง', 'detail_พื้นที่ห้องชุดพักอาศัย',\n",
              "       'detail_ห้องชุดพักอาศัย', 'flr_1', 'flr_10', 'flr_11', 'flr_12',\n",
              "       'flr_2', 'flr_3', 'flr_5', 'flr_7', 'flr_9',\n",
              "       'distance_from_condo_to_central'],\n",
              "      dtype='object')"
            ]
          },
          "execution_count": 109,
          "metadata": {},
          "output_type": "execute_result"
        }
      ],
      "source": [
        "X_train.columns"
      ]
    },
    {
      "cell_type": "markdown",
      "metadata": {
        "id": "vZsz58hFbYPT"
      },
      "source": [
        "# Baseline Model : linear regression"
      ]
    },
    {
      "cell_type": "code",
      "execution_count": null,
      "metadata": {
        "id": "vGwZKHK0cJot"
      },
      "outputs": [],
      "source": [
        "import pandas as pd\n",
        "from sklearn import datasets, linear_model\n",
        "from sklearn.model_selection import train_test_split\n",
        "from matplotlib import pyplot as plt"
      ]
    },
    {
      "cell_type": "code",
      "execution_count": null,
      "metadata": {
        "id": "bZiBUpWSb2xZ"
      },
      "outputs": [],
      "source": [
        "# fit the model\n",
        "lm = linear_model.LinearRegression()\n",
        "model = lm.fit(X_train, y_train)\n",
        "predictions = lm.predict(X_test)"
      ]
    },
    {
      "cell_type": "code",
      "execution_count": null,
      "metadata": {
        "colab": {
          "base_uri": "https://localhost:8080/",
          "height": 296
        },
        "id": "LQ5voTmVcNOH",
        "outputId": "fd94ac5b-f479-4eaa-a564-d9bef9652dd0"
      },
      "outputs": [
        {
          "data": {
            "text/plain": [
              "Text(0, 0.5, 'Predictions')"
            ]
          },
          "execution_count": 112,
          "metadata": {},
          "output_type": "execute_result"
        },
        {
          "data": {
            "image/png": "[encoded data removed]",
            "text/plain": [
              "<Figure size 432x288 with 1 Axes>"
            ]
          },
          "metadata": {},
          "output_type": "display_data"
        }
      ],
      "source": [
        "# The line / model\n",
        "plt.scatter(y_test, predictions)\n",
        "plt.xlabel(\"True Values\")\n",
        "plt.ylabel(\"Predictions\")"
      ]
    },
    {
      "cell_type": "code",
      "execution_count": null,
      "metadata": {
        "colab": {
          "base_uri": "https://localhost:8080/"
        },
        "id": "Z_AHDYwDcXYN",
        "outputId": "5b8a537e-7755-4a88-fc31-f2993eba45b5"
      },
      "outputs": [
        {
          "name": "stdout",
          "output_type": "stream",
          "text": [
            "Accuracy score: 0.9942395573232183\n"
          ]
        }
      ],
      "source": [
        "print(\"Accuracy score:\", model.score(X_test, y_test))"
      ]
    },
    {
      "cell_type": "code",
      "execution_count": null,
      "metadata": {
        "id": "zTmzXG-z5MbM"
      },
      "outputs": [],
      "source": [
        "from sklearn.metrics import r2_score, mean_absolute_error, mean_squared_error"
      ]
    },
    {
      "cell_type": "code",
      "execution_count": null,
      "metadata": {
        "colab": {
          "base_uri": "https://localhost:8080/"
        },
        "id": "68EUkEPF5OZp",
        "outputId": "fda327ac-f116-4c09-b082-05a7913b2173"
      },
      "outputs": [
        {
          "name": "stdout",
          "output_type": "stream",
          "text": [
            "0.9942395573232183 871.0682252416723 1261.5440945992584\n"
          ]
        }
      ],
      "source": [
        "# accuracy, mean absolute error, root mean square error\n",
        "print(r2_score(y_test, predictions), mean_absolute_error(y_test, predictions), np.sqrt(mean_squared_error(y_test, predictions)))"
      ]
    },
    {
      "cell_type": "markdown",
      "metadata": {
        "id": "dwLb1Y91z-id"
      },
      "source": [
        "#Random Forest Regression\n"
      ]
    },
    {
      "cell_type": "code",
      "execution_count": null,
      "metadata": {
        "id": "wSfuUAwl03Ih"
      },
      "outputs": [],
      "source": [
        "from sklearn.ensemble import RandomForestRegressor\n",
        "from sklearn.compose import TransformedTargetRegressor\n",
        "from sklearn.preprocessing import QuantileTransformer\n",
        "from sklearn.metrics import r2_score, mean_absolute_error, mean_squared_error"
      ]
    },
    {
      "cell_type": "markdown",
      "metadata": {
        "id": "lICyYCan39Y3"
      },
      "source": [
        "#Boosting"
      ]
    },
    {
      "cell_type": "code",
      "execution_count": null,
      "metadata": {
        "colab": {
          "base_uri": "https://localhost:8080/",
          "height": 298
        },
        "id": "B0VFKB1e4FU-",
        "outputId": "2ec461ce-46c6-45d2-d769-7aa652744b3c"
      },
      "outputs": [
        {
          "name": "stderr",
          "output_type": "stream",
          "text": [
            "/usr/local/lib/python3.7/dist-packages/sklearn/preprocessing/_data.py:2593: UserWarning: n_quantiles (1000) is greater than the total number of samples (83). n_quantiles is set to n_samples.\n",
            "  \"n_samples.\" % (self.n_quantiles, n_samples)\n"
          ]
        },
        {
          "name": "stdout",
          "output_type": "stream",
          "text": [
            "[06:50:55] WARNING: /workspace/src/objective/regression_obj.cu:152: reg:linear is now deprecated in favor of reg:squarederror.\n"
          ]
        },
        {
          "name": "stderr",
          "output_type": "stream",
          "text": [
            "/usr/local/lib/python3.7/dist-packages/sklearn/preprocessing/_data.py:2593: UserWarning: n_quantiles (1000) is greater than the total number of samples (83). n_quantiles is set to n_samples.\n",
            "  \"n_samples.\" % (self.n_quantiles, n_samples)\n",
            "/usr/local/lib/python3.7/dist-packages/sklearn/preprocessing/_data.py:2593: UserWarning: n_quantiles (1000) is greater than the total number of samples (83). n_quantiles is set to n_samples.\n",
            "  \"n_samples.\" % (self.n_quantiles, n_samples)\n"
          ]
        },
        {
          "data": {
            "text/html": [
              "<style type=\"text/css\">\n",
              "</style>\n",
              "<table id=\"T_30276_\" class=\"dataframe\">\n",
              "  <caption>Before Tuning</caption>\n",
              "  <thead>\n",
              "    <tr>\n",
              "      <th class=\"blank level0\" >&nbsp;</th>\n",
              "      <th class=\"col_heading level0 col0\" >Model</th>\n",
              "      <th class=\"col_heading level0 col1\" >Score</th>\n",
              "      <th class=\"col_heading level0 col2\" >MAE</th>\n",
              "      <th class=\"col_heading level0 col3\" >RMSE</th>\n",
              "    </tr>\n",
              "  </thead>\n",
              "  <tbody>\n",
              "    <tr>\n",
              "      <th id=\"T_30276_level0_row0\" class=\"row_heading level0 row0\" >0</th>\n",
              "      <td id=\"T_30276_row0_col0\" class=\"data row0 col0\" >RandomForestRegressor</td>\n",
              "      <td id=\"T_30276_row0_col1\" class=\"data row0 col1\" >0.989000</td>\n",
              "      <td id=\"T_30276_row0_col2\" class=\"data row0 col2\" >1239.730000</td>\n",
              "      <td id=\"T_30276_row0_col3\" class=\"data row0 col3\" >1707.030000</td>\n",
              "    </tr>\n",
              "    <tr>\n",
              "      <th id=\"T_30276_level0_row1\" class=\"row_heading level0 row1\" >1</th>\n",
              "      <td id=\"T_30276_row1_col0\" class=\"data row1 col0\" >LGBMRegressor</td>\n",
              "      <td id=\"T_30276_row1_col1\" class=\"data row1 col1\" >0.977000</td>\n",
              "      <td id=\"T_30276_row1_col2\" class=\"data row1 col2\" >1730.050000</td>\n",
              "      <td id=\"T_30276_row1_col3\" class=\"data row1 col3\" >2522.490000</td>\n",
              "    </tr>\n",
              "    <tr>\n",
              "      <th id=\"T_30276_level0_row2\" class=\"row_heading level0 row2\" >2</th>\n",
              "      <td id=\"T_30276_row2_col0\" class=\"data row2 col0\" >XGBRFRegressor</td>\n",
              "      <td id=\"T_30276_row2_col1\" class=\"data row2 col1\" >0.972000</td>\n",
              "      <td id=\"T_30276_row2_col2\" class=\"data row2 col2\" >2168.750000</td>\n",
              "      <td id=\"T_30276_row2_col3\" class=\"data row2 col3\" >2790.310000</td>\n",
              "    </tr>\n",
              "  </tbody>\n",
              "</table>\n"
            ],
            "text/plain": [
              "<pandas.io.formats.style.Styler at 0x7f218d624e90>"
            ]
          },
          "execution_count": 116,
          "metadata": {},
          "output_type": "execute_result"
        }
      ],
      "source": [
        "from sklearn.ensemble import GradientBoostingRegressor\n",
        "import lightgbm as lgbm\n",
        "import xgboost as xg\n",
        "\n",
        "#generic function to fit model and return metrics for every algorithm\n",
        "def boost_models(x):\n",
        "    #transforming target variable through quantile transformer\n",
        "    regr_trans = TransformedTargetRegressor(regressor=x, transformer=QuantileTransformer(output_distribution='normal'))\n",
        "    regr_trans.fit(X_train, y_train)\n",
        "    yhat = regr_trans.predict(X_test)\n",
        "    algoname= x.__class__.__name__\n",
        "    return algoname, round(r2_score(y_test, yhat),3), round(mean_absolute_error(y_test, yhat),2), round(np.sqrt(mean_squared_error(y_test, yhat)),2)\n",
        "\n",
        "algo=[RandomForestRegressor(), lgbm.LGBMRegressor(), xg.XGBRFRegressor()]\n",
        "score=[]\n",
        "for a in algo:\n",
        "    score.append(boost_models(a))\n",
        "\n",
        " #Collate all scores in a table\n",
        "pd.DataFrame(score, columns=['Model', 'Score', 'MAE', 'RMSE']).style.set_caption(\"Before Tuning\")\n"
      ]
    },
    {
      "cell_type": "markdown",
      "metadata": {
        "id": "N1Cy5Jhb4e49"
      },
      "source": [
        "#Hyperparameter Tuning"
      ]
    },
    {
      "cell_type": "markdown",
      "metadata": {
        "id": "nspQ5aBeK7fu"
      },
      "source": [
        "##XGBRFRegressor"
      ]
    },
    {
      "cell_type": "code",
      "execution_count": null,
      "metadata": {
        "colab": {
          "base_uri": "https://localhost:8080/"
        },
        "id": "sMB5FKKF5Bo4",
        "outputId": "e995815c-9e7b-4b72-a4e7-f7b3ac0d704e"
      },
      "outputs": [
        {
          "name": "stderr",
          "output_type": "stream",
          "text": [
            "/usr/local/lib/python3.7/dist-packages/sklearn/preprocessing/_data.py:2593: UserWarning: n_quantiles (1000) is greater than the total number of samples (83). n_quantiles is set to n_samples.\n",
            "  \"n_samples.\" % (self.n_quantiles, n_samples)\n"
          ]
        },
        {
          "name": "stdout",
          "output_type": "stream",
          "text": [
            "Fitting 5 folds for each of 36 candidates, totalling 180 fits\n",
            "[06:51:06] WARNING: /workspace/src/objective/regression_obj.cu:152: reg:linear is now deprecated in favor of reg:squarederror.\n",
            "{'max_depth': 7, 'n_estimators': 80, 'reg_lambda': 0.26}\n"
          ]
        }
      ],
      "source": [
        "from sklearn.model_selection import GridSearchCV\n",
        "\n",
        "param_grid = {'n_estimators': [100, 80, 60, 55, 51, 45],  \n",
        "              'max_depth': [7, 8],\n",
        "              'reg_lambda' :[0.26, 0.25, 0.2]\n",
        "             }\n",
        "                \n",
        "grid = GridSearchCV(xg.XGBRFRegressor(), param_grid, refit = True, verbose = 3, n_jobs=-1) #\n",
        "regr_trans = TransformedTargetRegressor(regressor=grid, transformer=QuantileTransformer(output_distribution='normal'))\n",
        "\n",
        "# fitting the model for grid search \n",
        "grid_result=regr_trans.fit(X_train, y_train)\n",
        "best_params_xg=grid_result.regressor_.best_params_\n",
        "print(best_params_xg)\n"
      ]
    },
    {
      "cell_type": "code",
      "execution_count": null,
      "metadata": {
        "colab": {
          "base_uri": "https://localhost:8080/"
        },
        "id": "MEHZ-YIY7c6t",
        "outputId": "14404d22-dca1-4bb4-9137-3ccb645dc168"
      },
      "outputs": [
        {
          "name": "stdout",
          "output_type": "stream",
          "text": [
            "[06:51:06] WARNING: /workspace/src/objective/regression_obj.cu:152: reg:linear is now deprecated in favor of reg:squarederror.\n"
          ]
        },
        {
          "name": "stderr",
          "output_type": "stream",
          "text": [
            "/usr/local/lib/python3.7/dist-packages/sklearn/preprocessing/_data.py:2593: UserWarning: n_quantiles (1000) is greater than the total number of samples (83). n_quantiles is set to n_samples.\n",
            "  \"n_samples.\" % (self.n_quantiles, n_samples)\n"
          ]
        }
      ],
      "source": [
        "#using best params to create and fit model\n",
        "best_model = xg.XGBRFRegressor(max_depth=best_params_xg[\"max_depth\"], n_estimators=best_params_xg[\"n_estimators\"], reg_lambda=best_params_xg[\"reg_lambda\"])\n",
        "regr_trans = TransformedTargetRegressor(regressor=best_model, transformer=QuantileTransformer(output_distribution='normal'))\n",
        "regr_trans.fit(X_train, y_train)\n",
        "yhat = regr_trans.predict(X_test)\n",
        "\n",
        "#evaluate metrics\n",
        "score=[]\n",
        "score.append([\"XGboost\",r2_score(y_test, yhat), mean_absolute_error(y_test, yhat), np.sqrt(mean_squared_error(y_test, yhat))])"
      ]
    },
    {
      "cell_type": "code",
      "execution_count": null,
      "metadata": {
        "colab": {
          "base_uri": "https://localhost:8080/"
        },
        "id": "6TZtYl9uIsXt",
        "outputId": "284d7600-8914-4e65-d85d-9b7baee511fd"
      },
      "outputs": [
        {
          "data": {
            "text/plain": [
              "[['XGboost', 0.9894789137875644, 1431.3281792534722, 1704.9230998047292]]"
            ]
          },
          "execution_count": 119,
          "metadata": {},
          "output_type": "execute_result"
        }
      ],
      "source": [
        "score"
      ]
    },
    {
      "cell_type": "markdown",
      "metadata": {
        "id": "YY0uV81_LDeT"
      },
      "source": [
        "##LGBMRegressor"
      ]
    },
    {
      "cell_type": "code",
      "execution_count": null,
      "metadata": {
        "colab": {
          "base_uri": "https://localhost:8080/"
        },
        "id": "9JXoZ4NA8KrR",
        "outputId": "a55e6101-4a51-42d7-fd30-995a06f2724a"
      },
      "outputs": [
        {
          "name": "stdout",
          "output_type": "stream",
          "text": [
            "Fitting 5 folds for each of 36 candidates, totalling 180 fits\n"
          ]
        },
        {
          "name": "stderr",
          "output_type": "stream",
          "text": [
            "/usr/local/lib/python3.7/dist-packages/sklearn/preprocessing/_data.py:2593: UserWarning: n_quantiles (1000) is greater than the total number of samples (83). n_quantiles is set to n_samples.\n",
            "  \"n_samples.\" % (self.n_quantiles, n_samples)\n"
          ]
        },
        {
          "name": "stdout",
          "output_type": "stream",
          "text": [
            "{'max_depth': 7, 'n_estimators': 80, 'reg_lambda': 0.25}\n"
          ]
        }
      ],
      "source": [
        "param_grid = {'n_estimators': [100, 80, 60, 55, 51, 45],  \n",
        "              'max_depth': [7, 8],\n",
        "              'reg_lambda' :[0.26, 0.25, 0.2]\n",
        "             }\n",
        "                \n",
        "grid = GridSearchCV(lgbm.LGBMRegressor(), param_grid, refit = True, verbose = 3, n_jobs=-1) #\n",
        "regr_trans = TransformedTargetRegressor(regressor=grid, transformer=QuantileTransformer(output_distribution='normal'))\n",
        "\n",
        "# fitting the model for grid search \n",
        "grid_result=regr_trans.fit(X_train, y_train)\n",
        "best_params_lgbm=grid_result.regressor_.best_params_\n",
        "print(best_params_lgbm)"
      ]
    },
    {
      "cell_type": "code",
      "execution_count": null,
      "metadata": {
        "colab": {
          "base_uri": "https://localhost:8080/"
        },
        "id": "B-RJrmk18hOu",
        "outputId": "5fb2b8c1-8cea-4c9f-f2cb-4aca9f0839b5"
      },
      "outputs": [
        {
          "name": "stderr",
          "output_type": "stream",
          "text": [
            "/usr/local/lib/python3.7/dist-packages/sklearn/preprocessing/_data.py:2593: UserWarning: n_quantiles (1000) is greater than the total number of samples (83). n_quantiles is set to n_samples.\n",
            "  \"n_samples.\" % (self.n_quantiles, n_samples)\n"
          ]
        }
      ],
      "source": [
        "#using best params to create and fit model\n",
        "best_model = lgbm.LGBMRegressor(max_depth=best_params_lgbm[\"max_depth\"], n_estimators=best_params_lgbm[\"n_estimators\"], reg_lambda=best_params_lgbm[\"reg_lambda\"])\n",
        "regr_trans = TransformedTargetRegressor(regressor=best_model, transformer=QuantileTransformer(output_distribution='normal'))\n",
        "regr_trans.fit(X_train, y_train)\n",
        "yhat = regr_trans.predict(X_test)\n",
        "\n",
        "#evaluate metrics\n",
        "score.append([\"LGBMRegressor\",r2_score(y_test, yhat), mean_absolute_error(y_test, yhat), np.sqrt(mean_squared_error(y_test, yhat))])"
      ]
    },
    {
      "cell_type": "markdown",
      "metadata": {
        "id": "EMld8kMULJwi"
      },
      "source": [
        "##RandomForestRegressor"
      ]
    },
    {
      "cell_type": "code",
      "execution_count": null,
      "metadata": {
        "colab": {
          "base_uri": "https://localhost:8080/"
        },
        "id": "2WhonHIv-jKx",
        "outputId": "2d522204-ce0f-4ffd-925f-aef050b8d1b7"
      },
      "outputs": [
        {
          "name": "stdout",
          "output_type": "stream",
          "text": [
            "{'n_estimators': [200, 400, 600, 800, 1000, 1200, 1400, 1600, 1800, 2000], 'max_features': ['auto', 'sqrt'], 'max_depth': [10, 20, 30, 40, 50, 60, 70, 80, 90, 100, 110, None], 'min_samples_split': [2, 5, 10], 'min_samples_leaf': [1, 2, 4], 'bootstrap': [True, False]}\n"
          ]
        }
      ],
      "source": [
        "from sklearn.model_selection import RandomizedSearchCV\n",
        "# Number of trees in random forest\n",
        "n_estimators = [int(x) for x in np.linspace(start = 200, stop = 2000, num = 10)]\n",
        "# Number of features to consider at every split\n",
        "max_features = ['auto', 'sqrt']\n",
        "# Maximum number of levels in tree\n",
        "max_depth = [int(x) for x in np.linspace(10, 110, num = 11)]\n",
        "max_depth.append(None)\n",
        "# Minimum number of samples required to split a node\n",
        "min_samples_split = [2, 5, 10]\n",
        "# Minimum number of samples required at each leaf node\n",
        "min_samples_leaf = [1, 2, 4]\n",
        "# Method of selecting samples for training each tree\n",
        "bootstrap = [True, False]\n",
        "# Create the random grid\n",
        "random_grid = {'n_estimators': n_estimators,\n",
        "               'max_features': max_features,\n",
        "               'max_depth': max_depth,\n",
        "               'min_samples_split': min_samples_split,\n",
        "               'min_samples_leaf': min_samples_leaf,\n",
        "               'bootstrap': bootstrap}\n",
        "print(random_grid)"
      ]
    },
    {
      "cell_type": "code",
      "execution_count": null,
      "metadata": {
        "colab": {
          "background_save": true,
          "base_uri": "https://localhost:8080/"
        },
        "id": "f0FqimhIAsYh",
        "outputId": "ceb51494-155b-496b-db87-262acfabd8e5"
      },
      "outputs": [
        {
          "name": "stdout",
          "output_type": "stream",
          "text": [
            "Fitting 3 folds for each of 100 candidates, totalling 300 fits\n"
          ]
        },
        {
          "name": "stderr",
          "output_type": "stream",
          "text": [
            "/usr/local/lib/python3.7/dist-packages/sklearn/model_selection/_search.py:926: DataConversionWarning: A column-vector y was passed when a 1d array was expected. Please change the shape of y to (n_samples,), for example using ravel().\n",
            "  self.best_estimator_.fit(X, y, **fit_params)\n"
          ]
        },
        {
          "data": {
            "text/plain": [
              "RandomizedSearchCV(cv=3, estimator=RandomForestRegressor(), n_iter=100,\n",
              "                   n_jobs=-1,\n",
              "                   param_distributions={'bootstrap': [True, False],\n",
              "                                        'max_depth': [10, 20, 30, 40, 50, 60,\n",
              "                                                      70, 80, 90, 100, 110,\n",
              "                                                      None],\n",
              "                                        'max_features': ['auto', 'sqrt'],\n",
              "                                        'min_samples_leaf': [1, 2, 4],\n",
              "                                        'min_samples_split': [2, 5, 10],\n",
              "                                        'n_estimators': [200, 400, 600, 800,\n",
              "                                                         1000, 1200, 1400, 1600,\n",
              "                                                         1800, 2000]},\n",
              "                   random_state=42, verbose=2)"
            ]
          },
          "execution_count": null,
          "metadata": {},
          "output_type": "execute_result"
        }
      ],
      "source": [
        "# Use the random grid to search for best hyperparameters\n",
        "# First create the base model to tune\n",
        "rf = RandomForestRegressor()\n",
        "# Random search of parameters, using 3 fold cross validation, \n",
        "# search across 100 different combinations, and use all available cores\n",
        "rf_random = RandomizedSearchCV(estimator = rf, param_distributions = random_grid, n_iter = 100, cv = 3, verbose=2, random_state=42, n_jobs = -1)\n",
        "# Fit the random search model\n",
        "rf_random.fit(X_train, y_train)"
      ]
    },
    {
      "cell_type": "code",
      "execution_count": null,
      "metadata": {
        "colab": {
          "background_save": true
        },
        "id": "HAYS5qBWEQUj",
        "outputId": "e57a2ace-0c84-4475-d2a7-5b27ce1ed0f3"
      },
      "outputs": [
        {
          "data": {
            "text/plain": [
              "{'bootstrap': False,\n",
              " 'max_depth': 40,\n",
              " 'max_features': 'auto',\n",
              " 'min_samples_leaf': 1,\n",
              " 'min_samples_split': 2,\n",
              " 'n_estimators': 1400}"
            ]
          },
          "execution_count": null,
          "metadata": {},
          "output_type": "execute_result"
        }
      ],
      "source": [
        "rf_random.best_params_"
      ]
    },
    {
      "cell_type": "code",
      "execution_count": null,
      "metadata": {
        "colab": {
          "background_save": true
        },
        "id": "6pxMno3LF8UO"
      },
      "outputs": [],
      "source": [
        "best_random = rf_random.best_estimator_\n",
        "yhat = best_random.predict(X_test)\n",
        "score.append([\"RandomForestRegressor\",r2_score(y_test, yhat), mean_absolute_error(y_test, yhat), np.sqrt(mean_squared_error(y_test, yhat))])"
      ]
    },
    {
      "cell_type": "code",
      "execution_count": null,
      "metadata": {
        "colab": {
          "background_save": true
        },
        "id": "-3zMW52BJX3U",
        "outputId": "a14c8bff-bb63-4de8-a354-9ba4ec17a5ac"
      },
      "outputs": [
        {
          "data": {
            "text/html": [
              "<style type=\"text/css\">\n",
              "</style>\n",
              "<table id=\"T_cb348_\" class=\"dataframe\">\n",
              "  <caption>After Tuning</caption>\n",
              "  <thead>\n",
              "    <tr>\n",
              "      <th class=\"blank level0\" >&nbsp;</th>\n",
              "      <th class=\"col_heading level0 col0\" >Model</th>\n",
              "      <th class=\"col_heading level0 col1\" >Score</th>\n",
              "      <th class=\"col_heading level0 col2\" >MAE</th>\n",
              "      <th class=\"col_heading level0 col3\" >RMSE</th>\n",
              "    </tr>\n",
              "  </thead>\n",
              "  <tbody>\n",
              "    <tr>\n",
              "      <th id=\"T_cb348_level0_row0\" class=\"row_heading level0 row0\" >0</th>\n",
              "      <td id=\"T_cb348_row0_col0\" class=\"data row0 col0\" >XGboost</td>\n",
              "      <td id=\"T_cb348_row0_col1\" class=\"data row0 col1\" >0.989479</td>\n",
              "      <td id=\"T_cb348_row0_col2\" class=\"data row0 col2\" >1431.328179</td>\n",
              "      <td id=\"T_cb348_row0_col3\" class=\"data row0 col3\" >1704.923100</td>\n",
              "    </tr>\n",
              "    <tr>\n",
              "      <th id=\"T_cb348_level0_row1\" class=\"row_heading level0 row1\" >1</th>\n",
              "      <td id=\"T_cb348_row1_col0\" class=\"data row1 col0\" >LGBMRegressor</td>\n",
              "      <td id=\"T_cb348_row1_col1\" class=\"data row1 col1\" >0.974643</td>\n",
              "      <td id=\"T_cb348_row1_col2\" class=\"data row1 col2\" >1930.775907</td>\n",
              "      <td id=\"T_cb348_row1_col3\" class=\"data row1 col3\" >2646.801517</td>\n",
              "    </tr>\n",
              "    <tr>\n",
              "      <th id=\"T_cb348_level0_row2\" class=\"row_heading level0 row2\" >2</th>\n",
              "      <td id=\"T_cb348_row2_col0\" class=\"data row2 col0\" >RandomForestRegressor</td>\n",
              "      <td id=\"T_cb348_row2_col1\" class=\"data row2 col1\" >0.992716</td>\n",
              "      <td id=\"T_cb348_row2_col2\" class=\"data row2 col2\" >983.101852</td>\n",
              "      <td id=\"T_cb348_row2_col3\" class=\"data row2 col3\" >1418.553346</td>\n",
              "    </tr>\n",
              "  </tbody>\n",
              "</table>\n"
            ],
            "text/plain": [
              "<pandas.io.formats.style.Styler at 0x7f217b390310>"
            ]
          },
          "execution_count": null,
          "metadata": {},
          "output_type": "execute_result"
        }
      ],
      "source": [
        "pd.DataFrame(score, columns=['Model', 'Score', 'MAE', 'RMSE']).style.set_caption(\"After Tuning\")"
      ]
    }
  ],
  "metadata": {
    "colab": {
      "collapsed_sections": [
        "Pe3h1y5h4IlN",
        "2CqtjlBgwpsO",
        "SYJJ9NtyPVsi",
        "Jdh6qvQoPNJW",
        "LVak_iwFXO2u"
      ],
      "name": "ChiangraiBuildingModels.ipynb",
      "provenance": []
    },
    "kernelspec": {
      "display_name": "Python 3",
      "name": "python3"
    },
    "language_info": {
      "name": "python"
    }
  },
  "nbformat": 4,
  "nbformat_minor": 0
}
