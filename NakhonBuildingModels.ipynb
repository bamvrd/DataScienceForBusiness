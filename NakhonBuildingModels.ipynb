{
  "nbformat": 4,
  "nbformat_minor": 0,
  "metadata": {
    "colab": {
      "name": "NakhonBuildingModels.ipynb",
      "provenance": [],
      "collapsed_sections": [
        "SYJJ9NtyPVsi",
        "Jdh6qvQoPNJW",
        "6N1b1Kk_TsP1",
        "LVak_iwFXO2u",
        "vZsz58hFbYPT"
      ]
    },
    "kernelspec": {
      "name": "python3",
      "display_name": "Python 3"
    },
    "language_info": {
      "name": "python"
    }
  },
  "cells": [
    {
      "cell_type": "code",
      "execution_count": 1,
      "metadata": {
        "id": "p0VrZe76H01c"
      },
      "outputs": [],
      "source": [
        "#importing libraries\n",
        "import pandas as pd\n",
        "import numpy as np\n",
        "import matplotlib.pyplot as plt\n",
        "%matplotlib inline"
      ]
    },
    {
      "cell_type": "code",
      "source": [
        "# information of 17 places and radious chosen\n",
        "type_param  = [['atm', 300], ['bar', 2000], ['gas_station', 1000], ['convenience_store', 200],\n",
        "              ['department_store', 800], ['hospital', 1000], ['university', 2000], ['supermarket', 800], ['gym', 1000],\n",
        "              ['shopping_mall', 800], ['laundry', 300], ['movie_theater', 800], ['park', 500], ['night_club', 2000], \n",
        "              ['primary_school', 2000], ['school',2000], ['tourist_attraction', 2000]]"
      ],
      "metadata": {
        "id": "TQgot2L2wFOB"
      },
      "execution_count": 2,
      "outputs": []
    },
    {
      "cell_type": "code",
      "source": [
        "# column that has less than 20 information (from previous file)\n",
        "drop_nk = ['atm_price_level', 'gas_station_price_level',\n",
        "       'convenience_store_price_level', 'department_store_price_level',\n",
        "       'hospital_price_level', 'university_price_level',\n",
        "       'supermarket_price_level', 'gym_price_level',\n",
        "       'shopping_mall_price_level', 'laundry_price_level',\n",
        "       'movie_theater_price_level', 'park_price_level',\n",
        "       'primary_school_price_level', 'school_price_level',\n",
        "       'tourist_attraction_price_level']"
      ],
      "metadata": {
        "id": "lgeQFyod-J9k"
      },
      "execution_count": 3,
      "outputs": []
    },
    {
      "cell_type": "code",
      "source": [
        "nk = pd.read_csv('/content/nk_nofill-2.csv')"
      ],
      "metadata": {
        "id": "qtMEBz0uIfUE"
      },
      "execution_count": 8,
      "outputs": []
    },
    {
      "cell_type": "code",
      "source": [
        "nk.head()"
      ],
      "metadata": {
        "colab": {
          "base_uri": "https://localhost:8080/",
          "height": 594
        },
        "id": "tHbP1VOFyZHb",
        "outputId": "2f49263c-9fda-42fa-c4df-9567c1dc008c"
      },
      "execution_count": 9,
      "outputs": [
        {
          "output_type": "execute_result",
          "data": {
            "text/plain": [
              "   Unnamed: 0         condo        lat         lng apx_gov_prc  rating  \\\n",
              "0           0  360 คอนโดเทล  14.599583  101.368556      64,300     4.0   \n",
              "1           1  360 คอนโดเทล  14.599583  101.368556      62,400     4.0   \n",
              "2           2  360 คอนโดเทล  14.599583  101.368556      61,000     4.0   \n",
              "3           3  360 คอนโดเทล  14.599583  101.368556      61,600     4.0   \n",
              "4           4  360 คอนโดเทล  14.599583  101.368556      62,400     4.0   \n",
              "\n",
              "   atm_price_level  atm_avg_rating  atm_avg_distance_to_condo (KM)  \\\n",
              "0              NaN             NaN                             0.8   \n",
              "1              NaN             NaN                             0.8   \n",
              "2              NaN             NaN                             0.8   \n",
              "3              NaN             NaN                             0.8   \n",
              "4              NaN             NaN                             0.8   \n",
              "\n",
              "   atm_num_of_rating  ...  flr_6  flr_7  flr_8  flr_9  flr_ชั้นลอย  \\\n",
              "0                0.0  ...      0      0      0      0            0   \n",
              "1                0.0  ...      0      0      0      0            0   \n",
              "2                0.0  ...      0      0      0      0            0   \n",
              "3                0.0  ...      0      0      0      0            0   \n",
              "4                0.0  ...      0      0      0      0            0   \n",
              "\n",
              "   flr_ชั้นใต้หลังคา  flr_ใต้ดิน  distance_from_condo_to_terminal  \\\n",
              "0                  0           0                        88.464788   \n",
              "1                  0           0                        88.464788   \n",
              "2                  0           0                        88.464788   \n",
              "3                  0           0                        88.464788   \n",
              "4                  0           0                        88.464788   \n",
              "\n",
              "   distance_from_condo_to_central  distance_from_condo_to_khao_yai  \n",
              "0                       91.720923                        19.255211  \n",
              "1                       91.720923                        19.255211  \n",
              "2                       91.720923                        19.255211  \n",
              "3                       91.720923                        19.255211  \n",
              "4                       91.720923                        19.255211  \n",
              "\n",
              "[5 rows x 146 columns]"
            ],
            "text/html": [
              "\n",
              "  <div id=\"df-9ef25831-3f41-4c3e-ad5b-e052913f9a63\">\n",
              "    <div class=\"colab-df-container\">\n",
              "      <div>\n",
              "<style scoped>\n",
              "    .dataframe tbody tr th:only-of-type {\n",
              "        vertical-align: middle;\n",
              "    }\n",
              "\n",
              "    .dataframe tbody tr th {\n",
              "        vertical-align: top;\n",
              "    }\n",
              "\n",
              "    .dataframe thead th {\n",
              "        text-align: right;\n",
              "    }\n",
              "</style>\n",
              "<table border=\"1\" class=\"dataframe\">\n",
              "  <thead>\n",
              "    <tr style=\"text-align: right;\">\n",
              "      <th></th>\n",
              "      <th>Unnamed: 0</th>\n",
              "      <th>condo</th>\n",
              "      <th>lat</th>\n",
              "      <th>lng</th>\n",
              "      <th>apx_gov_prc</th>\n",
              "      <th>rating</th>\n",
              "      <th>atm_price_level</th>\n",
              "      <th>atm_avg_rating</th>\n",
              "      <th>atm_avg_distance_to_condo (KM)</th>\n",
              "      <th>atm_num_of_rating</th>\n",
              "      <th>...</th>\n",
              "      <th>flr_6</th>\n",
              "      <th>flr_7</th>\n",
              "      <th>flr_8</th>\n",
              "      <th>flr_9</th>\n",
              "      <th>flr_ชั้นลอย</th>\n",
              "      <th>flr_ชั้นใต้หลังคา</th>\n",
              "      <th>flr_ใต้ดิน</th>\n",
              "      <th>distance_from_condo_to_terminal</th>\n",
              "      <th>distance_from_condo_to_central</th>\n",
              "      <th>distance_from_condo_to_khao_yai</th>\n",
              "    </tr>\n",
              "  </thead>\n",
              "  <tbody>\n",
              "    <tr>\n",
              "      <th>0</th>\n",
              "      <td>0</td>\n",
              "      <td>360 คอนโดเทล</td>\n",
              "      <td>14.599583</td>\n",
              "      <td>101.368556</td>\n",
              "      <td>64,300</td>\n",
              "      <td>4.0</td>\n",
              "      <td>NaN</td>\n",
              "      <td>NaN</td>\n",
              "      <td>0.8</td>\n",
              "      <td>0.0</td>\n",
              "      <td>...</td>\n",
              "      <td>0</td>\n",
              "      <td>0</td>\n",
              "      <td>0</td>\n",
              "      <td>0</td>\n",
              "      <td>0</td>\n",
              "      <td>0</td>\n",
              "      <td>0</td>\n",
              "      <td>88.464788</td>\n",
              "      <td>91.720923</td>\n",
              "      <td>19.255211</td>\n",
              "    </tr>\n",
              "    <tr>\n",
              "      <th>1</th>\n",
              "      <td>1</td>\n",
              "      <td>360 คอนโดเทล</td>\n",
              "      <td>14.599583</td>\n",
              "      <td>101.368556</td>\n",
              "      <td>62,400</td>\n",
              "      <td>4.0</td>\n",
              "      <td>NaN</td>\n",
              "      <td>NaN</td>\n",
              "      <td>0.8</td>\n",
              "      <td>0.0</td>\n",
              "      <td>...</td>\n",
              "      <td>0</td>\n",
              "      <td>0</td>\n",
              "      <td>0</td>\n",
              "      <td>0</td>\n",
              "      <td>0</td>\n",
              "      <td>0</td>\n",
              "      <td>0</td>\n",
              "      <td>88.464788</td>\n",
              "      <td>91.720923</td>\n",
              "      <td>19.255211</td>\n",
              "    </tr>\n",
              "    <tr>\n",
              "      <th>2</th>\n",
              "      <td>2</td>\n",
              "      <td>360 คอนโดเทล</td>\n",
              "      <td>14.599583</td>\n",
              "      <td>101.368556</td>\n",
              "      <td>61,000</td>\n",
              "      <td>4.0</td>\n",
              "      <td>NaN</td>\n",
              "      <td>NaN</td>\n",
              "      <td>0.8</td>\n",
              "      <td>0.0</td>\n",
              "      <td>...</td>\n",
              "      <td>0</td>\n",
              "      <td>0</td>\n",
              "      <td>0</td>\n",
              "      <td>0</td>\n",
              "      <td>0</td>\n",
              "      <td>0</td>\n",
              "      <td>0</td>\n",
              "      <td>88.464788</td>\n",
              "      <td>91.720923</td>\n",
              "      <td>19.255211</td>\n",
              "    </tr>\n",
              "    <tr>\n",
              "      <th>3</th>\n",
              "      <td>3</td>\n",
              "      <td>360 คอนโดเทล</td>\n",
              "      <td>14.599583</td>\n",
              "      <td>101.368556</td>\n",
              "      <td>61,600</td>\n",
              "      <td>4.0</td>\n",
              "      <td>NaN</td>\n",
              "      <td>NaN</td>\n",
              "      <td>0.8</td>\n",
              "      <td>0.0</td>\n",
              "      <td>...</td>\n",
              "      <td>0</td>\n",
              "      <td>0</td>\n",
              "      <td>0</td>\n",
              "      <td>0</td>\n",
              "      <td>0</td>\n",
              "      <td>0</td>\n",
              "      <td>0</td>\n",
              "      <td>88.464788</td>\n",
              "      <td>91.720923</td>\n",
              "      <td>19.255211</td>\n",
              "    </tr>\n",
              "    <tr>\n",
              "      <th>4</th>\n",
              "      <td>4</td>\n",
              "      <td>360 คอนโดเทล</td>\n",
              "      <td>14.599583</td>\n",
              "      <td>101.368556</td>\n",
              "      <td>62,400</td>\n",
              "      <td>4.0</td>\n",
              "      <td>NaN</td>\n",
              "      <td>NaN</td>\n",
              "      <td>0.8</td>\n",
              "      <td>0.0</td>\n",
              "      <td>...</td>\n",
              "      <td>0</td>\n",
              "      <td>0</td>\n",
              "      <td>0</td>\n",
              "      <td>0</td>\n",
              "      <td>0</td>\n",
              "      <td>0</td>\n",
              "      <td>0</td>\n",
              "      <td>88.464788</td>\n",
              "      <td>91.720923</td>\n",
              "      <td>19.255211</td>\n",
              "    </tr>\n",
              "  </tbody>\n",
              "</table>\n",
              "<p>5 rows × 146 columns</p>\n",
              "</div>\n",
              "      <button class=\"colab-df-convert\" onclick=\"convertToInteractive('df-9ef25831-3f41-4c3e-ad5b-e052913f9a63')\"\n",
              "              title=\"Convert this dataframe to an interactive table.\"\n",
              "              style=\"display:none;\">\n",
              "        \n",
              "  <svg xmlns=\"http://www.w3.org/2000/svg\" height=\"24px\"viewBox=\"0 0 24 24\"\n",
              "       width=\"24px\">\n",
              "    <path d=\"M0 0h24v24H0V0z\" fill=\"none\"/>\n",
              "    <path d=\"M18.56 5.44l.94 2.06.94-2.06 2.06-.94-2.06-.94-.94-2.06-.94 2.06-2.06.94zm-11 1L8.5 8.5l.94-2.06 2.06-.94-2.06-.94L8.5 2.5l-.94 2.06-2.06.94zm10 10l.94 2.06.94-2.06 2.06-.94-2.06-.94-.94-2.06-.94 2.06-2.06.94z\"/><path d=\"M17.41 7.96l-1.37-1.37c-.4-.4-.92-.59-1.43-.59-.52 0-1.04.2-1.43.59L10.3 9.45l-7.72 7.72c-.78.78-.78 2.05 0 2.83L4 21.41c.39.39.9.59 1.41.59.51 0 1.02-.2 1.41-.59l7.78-7.78 2.81-2.81c.8-.78.8-2.07 0-2.86zM5.41 20L4 18.59l7.72-7.72 1.47 1.35L5.41 20z\"/>\n",
              "  </svg>\n",
              "      </button>\n",
              "      \n",
              "  <style>\n",
              "    .colab-df-container {\n",
              "      display:flex;\n",
              "      flex-wrap:wrap;\n",
              "      gap: 12px;\n",
              "    }\n",
              "\n",
              "    .colab-df-convert {\n",
              "      background-color: #E8F0FE;\n",
              "      border: none;\n",
              "      border-radius: 50%;\n",
              "      cursor: pointer;\n",
              "      display: none;\n",
              "      fill: #1967D2;\n",
              "      height: 32px;\n",
              "      padding: 0 0 0 0;\n",
              "      width: 32px;\n",
              "    }\n",
              "\n",
              "    .colab-df-convert:hover {\n",
              "      background-color: #E2EBFA;\n",
              "      box-shadow: 0px 1px 2px rgba(60, 64, 67, 0.3), 0px 1px 3px 1px rgba(60, 64, 67, 0.15);\n",
              "      fill: #174EA6;\n",
              "    }\n",
              "\n",
              "    [theme=dark] .colab-df-convert {\n",
              "      background-color: #3B4455;\n",
              "      fill: #D2E3FC;\n",
              "    }\n",
              "\n",
              "    [theme=dark] .colab-df-convert:hover {\n",
              "      background-color: #434B5C;\n",
              "      box-shadow: 0px 1px 3px 1px rgba(0, 0, 0, 0.15);\n",
              "      filter: drop-shadow(0px 1px 2px rgba(0, 0, 0, 0.3));\n",
              "      fill: #FFFFFF;\n",
              "    }\n",
              "  </style>\n",
              "\n",
              "      <script>\n",
              "        const buttonEl =\n",
              "          document.querySelector('#df-9ef25831-3f41-4c3e-ad5b-e052913f9a63 button.colab-df-convert');\n",
              "        buttonEl.style.display =\n",
              "          google.colab.kernel.accessAllowed ? 'block' : 'none';\n",
              "\n",
              "        async function convertToInteractive(key) {\n",
              "          const element = document.querySelector('#df-9ef25831-3f41-4c3e-ad5b-e052913f9a63');\n",
              "          const dataTable =\n",
              "            await google.colab.kernel.invokeFunction('convertToInteractive',\n",
              "                                                     [key], {});\n",
              "          if (!dataTable) return;\n",
              "\n",
              "          const docLinkHtml = 'Like what you see? Visit the ' +\n",
              "            '<a target=\"_blank\" href=https://colab.research.google.com/notebooks/data_table.ipynb>data table notebook</a>'\n",
              "            + ' to learn more about interactive tables.';\n",
              "          element.innerHTML = '';\n",
              "          dataTable['output_type'] = 'display_data';\n",
              "          await google.colab.output.renderOutput(dataTable, element);\n",
              "          const docLink = document.createElement('div');\n",
              "          docLink.innerHTML = docLinkHtml;\n",
              "          element.appendChild(docLink);\n",
              "        }\n",
              "      </script>\n",
              "    </div>\n",
              "  </div>\n",
              "  "
            ]
          },
          "metadata": {},
          "execution_count": 9
        }
      ]
    },
    {
      "cell_type": "code",
      "source": [
        "nk.drop(columns=[\"Unnamed: 0\", \"condo\", \"lat\", \"lng\"], inplace=True)"
      ],
      "metadata": {
        "id": "xey0mfJDICC8"
      },
      "execution_count": 10,
      "outputs": []
    },
    {
      "cell_type": "code",
      "source": [
        "#clean \"apx_gov_prc\" by removing comma \n",
        "for i in range(len(nk[\"apx_gov_prc\"])):\n",
        "  nk[\"apx_gov_prc\"][i] = nk[\"apx_gov_prc\"][i].replace(\",\",\"\")"
      ],
      "metadata": {
        "id": "kgcVmMrYLnpJ",
        "colab": {
          "base_uri": "https://localhost:8080/"
        },
        "outputId": "8847f1a3-9ef2-4118-b135-e81be48da337"
      },
      "execution_count": 11,
      "outputs": [
        {
          "output_type": "stream",
          "name": "stderr",
          "text": [
            "/usr/local/lib/python3.7/dist-packages/ipykernel_launcher.py:3: SettingWithCopyWarning: \n",
            "A value is trying to be set on a copy of a slice from a DataFrame\n",
            "\n",
            "See the caveats in the documentation: https://pandas.pydata.org/pandas-docs/stable/user_guide/indexing.html#returning-a-view-versus-a-copy\n",
            "  This is separate from the ipykernel package so we can avoid doing imports until\n"
          ]
        }
      ]
    },
    {
      "cell_type": "code",
      "source": [
        "# cast \"apx_gov_prc\" from string to int\n",
        "nk[\"apx_gov_prc\"] = pd.to_numeric(nk[\"apx_gov_prc\"],errors='coerce',downcast='integer')"
      ],
      "metadata": {
        "id": "RONTfwLKMmGd"
      },
      "execution_count": 12,
      "outputs": []
    },
    {
      "cell_type": "markdown",
      "source": [
        "#Seperate data set into train and test"
      ],
      "metadata": {
        "id": "MAvxFPzau8dM"
      }
    },
    {
      "cell_type": "code",
      "source": [
        "from sklearn.model_selection import train_test_split\n",
        "X_train, X_test, y_train, y_test = train_test_split(\n",
        "    nk.drop(columns=\"apx_gov_prc\"),\n",
        "    nk[\"apx_gov_prc\"],\n",
        "    test_size=0.3,\n",
        "    random_state=0)\n",
        "\n",
        "X_train.shape, X_test.shape"
      ],
      "metadata": {
        "colab": {
          "base_uri": "https://localhost:8080/"
        },
        "id": "XJqWJ4fFISTA",
        "outputId": "59a09dc2-5a45-4f19-87f9-598e74366d98"
      },
      "execution_count": 13,
      "outputs": [
        {
          "output_type": "execute_result",
          "data": {
            "text/plain": [
              "((436, 141), (188, 141))"
            ]
          },
          "metadata": {},
          "execution_count": 13
        }
      ]
    },
    {
      "cell_type": "markdown",
      "source": [
        "#Fill na to be avg in X_train, X_test to be the avg value of X_train"
      ],
      "metadata": {
        "id": "2CqtjlBgwpsO"
      }
    },
    {
      "cell_type": "code",
      "source": [
        "for i in range(len(type_param)):\n",
        "  X_train[str(type_param[i][0])+'_avg_rating'].fillna(value = X_train[type_param[i][0]+'_avg_rating'].mean() , inplace=True)\n",
        "  X_train[str(type_param[i][0])+'_price_level'].fillna(value = X_train[type_param[i][0]+'_price_level'].mean() , inplace=True)\n",
        "  X_train['rating'].fillna(value = X_train['rating'].mean() , inplace=True)"
      ],
      "metadata": {
        "id": "Gh7eileHwwmF"
      },
      "execution_count": 14,
      "outputs": []
    },
    {
      "cell_type": "code",
      "source": [
        "for i in range(len(type_param)):\n",
        "  X_test[str(type_param[i][0])+'_avg_rating'].fillna(value = X_train[type_param[i][0]+'_avg_rating'].mean() , inplace=True)\n",
        "  X_test[str(type_param[i][0])+'_price_level'].fillna(value = X_train[type_param[i][0]+'_price_level'].mean() , inplace=True)\n",
        "  X_test['rating'].fillna(value = X_train['rating'].mean() , inplace=True)"
      ],
      "metadata": {
        "id": "TF_XazdIxLOE"
      },
      "execution_count": 15,
      "outputs": []
    },
    {
      "cell_type": "code",
      "source": [
        "# drop column that has less than 20 information (from previous file)\n",
        "X_test.drop(columns=drop_nk, inplace=True)\n",
        "X_train.drop(columns=drop_nk, inplace=True)"
      ],
      "metadata": {
        "id": "JGHKsCIG3qJW"
      },
      "execution_count": 16,
      "outputs": []
    },
    {
      "cell_type": "markdown",
      "source": [
        "#mutual information In Regression "
      ],
      "metadata": {
        "id": "SYJJ9NtyPVsi"
      }
    },
    {
      "cell_type": "code",
      "source": [
        "X_train.reset_index(inplace=True)\n",
        "X_train.drop(columns=\"index\", inplace=True)\n",
        "y_train = y_train.reset_index()\n",
        "y_train = y_train.drop(columns=\"index\")"
      ],
      "metadata": {
        "id": "EK6frh-jTtSA"
      },
      "execution_count": 17,
      "outputs": []
    },
    {
      "cell_type": "code",
      "source": [
        "X_test.reset_index(inplace=True)\n",
        "X_test.drop(columns=\"index\", inplace=True)\n",
        "y_test = y_test.reset_index()\n",
        "y_test = y_test.drop(columns=\"index\")"
      ],
      "metadata": {
        "id": "yWprpUln6NqA"
      },
      "execution_count": 18,
      "outputs": []
    },
    {
      "cell_type": "code",
      "source": [
        "X_train.head()"
      ],
      "metadata": {
        "colab": {
          "base_uri": "https://localhost:8080/",
          "height": 334
        },
        "id": "YMnqubHpVQRu",
        "outputId": "38687248-017d-4d07-a514-475273239d1a"
      },
      "execution_count": 19,
      "outputs": [
        {
          "output_type": "execute_result",
          "data": {
            "text/plain": [
              "   rating  atm_avg_rating  atm_avg_distance_to_condo (KM)  atm_num_of_rating  \\\n",
              "0     4.6        3.604211                         0.80000                0.0   \n",
              "1     4.3        3.604211                         0.80000                0.0   \n",
              "2     4.7        4.000000                         0.24484                4.0   \n",
              "3     4.4        3.604211                         0.80000                0.0   \n",
              "4     0.0        3.604211                         0.80000                0.0   \n",
              "\n",
              "   atm_count  bar_price_level  bar_avg_rating  bar_avg_distance_to_condo (KM)  \\\n",
              "0        0.0         1.736413        4.377675                        2.500000   \n",
              "1        0.0         1.736413        4.377675                        1.983215   \n",
              "2       10.0         2.000000        3.969231                        0.940913   \n",
              "3        0.0         1.736413        4.377675                        2.500000   \n",
              "4        0.0         1.736413        5.000000                        0.775104   \n",
              "\n",
              "   bar_num_of_rating  bar_count  ...  flr_6  flr_7  flr_8  flr_9  flr_ชั้นลอย  \\\n",
              "0                0.0        0.0  ...      0      0      0      0            0   \n",
              "1                0.0        1.0  ...      0      0      0      0            0   \n",
              "2             1061.0       20.0  ...      0      0      0      0            0   \n",
              "3                0.0        0.0  ...      0      0      0      0            0   \n",
              "4                3.0        3.0  ...      0      1      0      0            0   \n",
              "\n",
              "   flr_ชั้นใต้หลังคา  flr_ใต้ดิน  distance_from_condo_to_terminal  \\\n",
              "0                  0           0                        82.274679   \n",
              "1                  0           0                        27.832513   \n",
              "2                  0           0                         0.659295   \n",
              "3                  0           0                        65.463595   \n",
              "4                  0           0                        30.242036   \n",
              "\n",
              "   distance_from_condo_to_central  distance_from_condo_to_khao_yai  \n",
              "0                       85.479101                        16.100035  \n",
              "1                       31.045477                        72.622496  \n",
              "2                        3.896462                        97.697893  \n",
              "3                       68.709829                        33.514203  \n",
              "4                       33.433937                        71.018553  \n",
              "\n",
              "[5 rows x 126 columns]"
            ],
            "text/html": [
              "\n",
              "  <div id=\"df-1e43b1e9-46cb-4dd9-a005-b30bbfa92adf\">\n",
              "    <div class=\"colab-df-container\">\n",
              "      <div>\n",
              "<style scoped>\n",
              "    .dataframe tbody tr th:only-of-type {\n",
              "        vertical-align: middle;\n",
              "    }\n",
              "\n",
              "    .dataframe tbody tr th {\n",
              "        vertical-align: top;\n",
              "    }\n",
              "\n",
              "    .dataframe thead th {\n",
              "        text-align: right;\n",
              "    }\n",
              "</style>\n",
              "<table border=\"1\" class=\"dataframe\">\n",
              "  <thead>\n",
              "    <tr style=\"text-align: right;\">\n",
              "      <th></th>\n",
              "      <th>rating</th>\n",
              "      <th>atm_avg_rating</th>\n",
              "      <th>atm_avg_distance_to_condo (KM)</th>\n",
              "      <th>atm_num_of_rating</th>\n",
              "      <th>atm_count</th>\n",
              "      <th>bar_price_level</th>\n",
              "      <th>bar_avg_rating</th>\n",
              "      <th>bar_avg_distance_to_condo (KM)</th>\n",
              "      <th>bar_num_of_rating</th>\n",
              "      <th>bar_count</th>\n",
              "      <th>...</th>\n",
              "      <th>flr_6</th>\n",
              "      <th>flr_7</th>\n",
              "      <th>flr_8</th>\n",
              "      <th>flr_9</th>\n",
              "      <th>flr_ชั้นลอย</th>\n",
              "      <th>flr_ชั้นใต้หลังคา</th>\n",
              "      <th>flr_ใต้ดิน</th>\n",
              "      <th>distance_from_condo_to_terminal</th>\n",
              "      <th>distance_from_condo_to_central</th>\n",
              "      <th>distance_from_condo_to_khao_yai</th>\n",
              "    </tr>\n",
              "  </thead>\n",
              "  <tbody>\n",
              "    <tr>\n",
              "      <th>0</th>\n",
              "      <td>4.6</td>\n",
              "      <td>3.604211</td>\n",
              "      <td>0.80000</td>\n",
              "      <td>0.0</td>\n",
              "      <td>0.0</td>\n",
              "      <td>1.736413</td>\n",
              "      <td>4.377675</td>\n",
              "      <td>2.500000</td>\n",
              "      <td>0.0</td>\n",
              "      <td>0.0</td>\n",
              "      <td>...</td>\n",
              "      <td>0</td>\n",
              "      <td>0</td>\n",
              "      <td>0</td>\n",
              "      <td>0</td>\n",
              "      <td>0</td>\n",
              "      <td>0</td>\n",
              "      <td>0</td>\n",
              "      <td>82.274679</td>\n",
              "      <td>85.479101</td>\n",
              "      <td>16.100035</td>\n",
              "    </tr>\n",
              "    <tr>\n",
              "      <th>1</th>\n",
              "      <td>4.3</td>\n",
              "      <td>3.604211</td>\n",
              "      <td>0.80000</td>\n",
              "      <td>0.0</td>\n",
              "      <td>0.0</td>\n",
              "      <td>1.736413</td>\n",
              "      <td>4.377675</td>\n",
              "      <td>1.983215</td>\n",
              "      <td>0.0</td>\n",
              "      <td>1.0</td>\n",
              "      <td>...</td>\n",
              "      <td>0</td>\n",
              "      <td>0</td>\n",
              "      <td>0</td>\n",
              "      <td>0</td>\n",
              "      <td>0</td>\n",
              "      <td>0</td>\n",
              "      <td>0</td>\n",
              "      <td>27.832513</td>\n",
              "      <td>31.045477</td>\n",
              "      <td>72.622496</td>\n",
              "    </tr>\n",
              "    <tr>\n",
              "      <th>2</th>\n",
              "      <td>4.7</td>\n",
              "      <td>4.000000</td>\n",
              "      <td>0.24484</td>\n",
              "      <td>4.0</td>\n",
              "      <td>10.0</td>\n",
              "      <td>2.000000</td>\n",
              "      <td>3.969231</td>\n",
              "      <td>0.940913</td>\n",
              "      <td>1061.0</td>\n",
              "      <td>20.0</td>\n",
              "      <td>...</td>\n",
              "      <td>0</td>\n",
              "      <td>0</td>\n",
              "      <td>0</td>\n",
              "      <td>0</td>\n",
              "      <td>0</td>\n",
              "      <td>0</td>\n",
              "      <td>0</td>\n",
              "      <td>0.659295</td>\n",
              "      <td>3.896462</td>\n",
              "      <td>97.697893</td>\n",
              "    </tr>\n",
              "    <tr>\n",
              "      <th>3</th>\n",
              "      <td>4.4</td>\n",
              "      <td>3.604211</td>\n",
              "      <td>0.80000</td>\n",
              "      <td>0.0</td>\n",
              "      <td>0.0</td>\n",
              "      <td>1.736413</td>\n",
              "      <td>4.377675</td>\n",
              "      <td>2.500000</td>\n",
              "      <td>0.0</td>\n",
              "      <td>0.0</td>\n",
              "      <td>...</td>\n",
              "      <td>0</td>\n",
              "      <td>0</td>\n",
              "      <td>0</td>\n",
              "      <td>0</td>\n",
              "      <td>0</td>\n",
              "      <td>0</td>\n",
              "      <td>0</td>\n",
              "      <td>65.463595</td>\n",
              "      <td>68.709829</td>\n",
              "      <td>33.514203</td>\n",
              "    </tr>\n",
              "    <tr>\n",
              "      <th>4</th>\n",
              "      <td>0.0</td>\n",
              "      <td>3.604211</td>\n",
              "      <td>0.80000</td>\n",
              "      <td>0.0</td>\n",
              "      <td>0.0</td>\n",
              "      <td>1.736413</td>\n",
              "      <td>5.000000</td>\n",
              "      <td>0.775104</td>\n",
              "      <td>3.0</td>\n",
              "      <td>3.0</td>\n",
              "      <td>...</td>\n",
              "      <td>0</td>\n",
              "      <td>1</td>\n",
              "      <td>0</td>\n",
              "      <td>0</td>\n",
              "      <td>0</td>\n",
              "      <td>0</td>\n",
              "      <td>0</td>\n",
              "      <td>30.242036</td>\n",
              "      <td>33.433937</td>\n",
              "      <td>71.018553</td>\n",
              "    </tr>\n",
              "  </tbody>\n",
              "</table>\n",
              "<p>5 rows × 126 columns</p>\n",
              "</div>\n",
              "      <button class=\"colab-df-convert\" onclick=\"convertToInteractive('df-1e43b1e9-46cb-4dd9-a005-b30bbfa92adf')\"\n",
              "              title=\"Convert this dataframe to an interactive table.\"\n",
              "              style=\"display:none;\">\n",
              "        \n",
              "  <svg xmlns=\"http://www.w3.org/2000/svg\" height=\"24px\"viewBox=\"0 0 24 24\"\n",
              "       width=\"24px\">\n",
              "    <path d=\"M0 0h24v24H0V0z\" fill=\"none\"/>\n",
              "    <path d=\"M18.56 5.44l.94 2.06.94-2.06 2.06-.94-2.06-.94-.94-2.06-.94 2.06-2.06.94zm-11 1L8.5 8.5l.94-2.06 2.06-.94-2.06-.94L8.5 2.5l-.94 2.06-2.06.94zm10 10l.94 2.06.94-2.06 2.06-.94-2.06-.94-.94-2.06-.94 2.06-2.06.94z\"/><path d=\"M17.41 7.96l-1.37-1.37c-.4-.4-.92-.59-1.43-.59-.52 0-1.04.2-1.43.59L10.3 9.45l-7.72 7.72c-.78.78-.78 2.05 0 2.83L4 21.41c.39.39.9.59 1.41.59.51 0 1.02-.2 1.41-.59l7.78-7.78 2.81-2.81c.8-.78.8-2.07 0-2.86zM5.41 20L4 18.59l7.72-7.72 1.47 1.35L5.41 20z\"/>\n",
              "  </svg>\n",
              "      </button>\n",
              "      \n",
              "  <style>\n",
              "    .colab-df-container {\n",
              "      display:flex;\n",
              "      flex-wrap:wrap;\n",
              "      gap: 12px;\n",
              "    }\n",
              "\n",
              "    .colab-df-convert {\n",
              "      background-color: #E8F0FE;\n",
              "      border: none;\n",
              "      border-radius: 50%;\n",
              "      cursor: pointer;\n",
              "      display: none;\n",
              "      fill: #1967D2;\n",
              "      height: 32px;\n",
              "      padding: 0 0 0 0;\n",
              "      width: 32px;\n",
              "    }\n",
              "\n",
              "    .colab-df-convert:hover {\n",
              "      background-color: #E2EBFA;\n",
              "      box-shadow: 0px 1px 2px rgba(60, 64, 67, 0.3), 0px 1px 3px 1px rgba(60, 64, 67, 0.15);\n",
              "      fill: #174EA6;\n",
              "    }\n",
              "\n",
              "    [theme=dark] .colab-df-convert {\n",
              "      background-color: #3B4455;\n",
              "      fill: #D2E3FC;\n",
              "    }\n",
              "\n",
              "    [theme=dark] .colab-df-convert:hover {\n",
              "      background-color: #434B5C;\n",
              "      box-shadow: 0px 1px 3px 1px rgba(0, 0, 0, 0.15);\n",
              "      filter: drop-shadow(0px 1px 2px rgba(0, 0, 0, 0.3));\n",
              "      fill: #FFFFFF;\n",
              "    }\n",
              "  </style>\n",
              "\n",
              "      <script>\n",
              "        const buttonEl =\n",
              "          document.querySelector('#df-1e43b1e9-46cb-4dd9-a005-b30bbfa92adf button.colab-df-convert');\n",
              "        buttonEl.style.display =\n",
              "          google.colab.kernel.accessAllowed ? 'block' : 'none';\n",
              "\n",
              "        async function convertToInteractive(key) {\n",
              "          const element = document.querySelector('#df-1e43b1e9-46cb-4dd9-a005-b30bbfa92adf');\n",
              "          const dataTable =\n",
              "            await google.colab.kernel.invokeFunction('convertToInteractive',\n",
              "                                                     [key], {});\n",
              "          if (!dataTable) return;\n",
              "\n",
              "          const docLinkHtml = 'Like what you see? Visit the ' +\n",
              "            '<a target=\"_blank\" href=https://colab.research.google.com/notebooks/data_table.ipynb>data table notebook</a>'\n",
              "            + ' to learn more about interactive tables.';\n",
              "          element.innerHTML = '';\n",
              "          dataTable['output_type'] = 'display_data';\n",
              "          await google.colab.output.renderOutput(dataTable, element);\n",
              "          const docLink = document.createElement('div');\n",
              "          docLink.innerHTML = docLinkHtml;\n",
              "          element.appendChild(docLink);\n",
              "        }\n",
              "      </script>\n",
              "    </div>\n",
              "  </div>\n",
              "  "
            ]
          },
          "metadata": {},
          "execution_count": 19
        }
      ]
    },
    {
      "cell_type": "code",
      "source": [
        "from sklearn.feature_selection import mutual_info_regression\n",
        "# determine the mutual information\n",
        "mutual_info = mutual_info_regression(X_train, y_train)\n",
        "mutual_info"
      ],
      "metadata": {
        "colab": {
          "base_uri": "https://localhost:8080/"
        },
        "id": "NC3ZhzjHPcri",
        "outputId": "43de81bd-e120-4c00-8e07-2911f4ae0a9d"
      },
      "execution_count": 20,
      "outputs": [
        {
          "output_type": "stream",
          "name": "stderr",
          "text": [
            "/usr/local/lib/python3.7/dist-packages/sklearn/utils/validation.py:993: DataConversionWarning: A column-vector y was passed when a 1d array was expected. Please change the shape of y to (n_samples, ), for example using ravel().\n",
            "  y = column_or_1d(y, warn=True)\n"
          ]
        },
        {
          "output_type": "execute_result",
          "data": {
            "text/plain": [
              "array([9.21146083e-01, 3.94391560e-01, 5.78129662e-01, 3.27262322e-01,\n",
              "       5.29682478e-01, 4.15079945e-01, 1.16447031e+00, 1.05670189e+00,\n",
              "       9.02203929e-01, 6.87379633e-01, 1.11685297e+00, 8.82143370e-01,\n",
              "       9.72034988e-01, 7.99844472e-01, 1.01273491e-01, 3.16685059e-01,\n",
              "       1.00206129e-01, 1.63552644e-01, 2.81552737e-01, 4.56224122e-01,\n",
              "       2.82819186e-01, 3.19430836e-01, 6.83322781e-01, 8.18969707e-01,\n",
              "       6.48545824e-01, 6.94384724e-01, 7.11083691e-01, 7.36291711e-01,\n",
              "       6.98920616e-01, 5.79854697e-01, 8.66158840e-01, 7.93640072e-01,\n",
              "       7.16753664e-01, 5.25951683e-01, 9.85790115e-01, 1.00136860e+00,\n",
              "       9.77857426e-01, 8.42646810e-01, 1.00501427e+00, 9.14674183e-01,\n",
              "       5.52429980e-01, 9.41735419e-01, 2.51856555e-01, 4.11302445e-01,\n",
              "       2.65040326e-01, 3.39114160e-01, 4.79729124e-01, 5.27020456e-01,\n",
              "       4.57123460e-01, 4.07403848e-01, 4.53769424e-01, 5.05267151e-01,\n",
              "       2.82488181e-01, 2.24786705e-01, 0.00000000e+00, 7.99016743e-01,\n",
              "       1.02374004e+00, 4.86087820e-01, 8.61028606e-01, 1.07989579e+00,\n",
              "       1.01587633e+00, 1.12489660e+00, 6.92675253e-01, 1.30918530e+00,\n",
              "       1.30522628e+00, 1.29347676e+00, 8.71604958e-01, 1.23835707e+00,\n",
              "       1.23757506e+00, 1.09626422e+00, 9.13007097e-01, 1.73558923e-01,\n",
              "       6.33031835e-02, 3.59536313e-02, 3.44795907e-03, 5.51903970e-02,\n",
              "       9.01220324e-02, 0.00000000e+00, 0.00000000e+00, 2.60732477e-03,\n",
              "       1.24384047e-03, 2.74922788e-01, 8.96474060e-02, 2.07577646e-01,\n",
              "       0.00000000e+00, 2.31618858e-03, 0.00000000e+00, 0.00000000e+00,\n",
              "       0.00000000e+00, 4.21385765e-03, 1.32810406e-01, 0.00000000e+00,\n",
              "       6.89709725e-03, 0.00000000e+00, 2.59700021e-03, 0.00000000e+00,\n",
              "       5.39074699e-03, 7.91070880e-04, 1.75878416e-02, 0.00000000e+00,\n",
              "       2.45057508e-04, 9.26805568e-02, 0.00000000e+00, 0.00000000e+00,\n",
              "       0.00000000e+00, 0.00000000e+00, 1.66555148e-02, 3.06295472e-03,\n",
              "       0.00000000e+00, 0.00000000e+00, 1.40514183e-03, 7.06981257e-04,\n",
              "       8.96246649e-02, 0.00000000e+00, 8.84863810e-02, 7.29659949e-02,\n",
              "       6.35075869e-02, 9.08487308e-02, 4.69172881e-02, 6.97491484e-03,\n",
              "       1.35612453e-03, 0.00000000e+00, 0.00000000e+00, 1.23251672e+00,\n",
              "       1.33849486e+00, 1.21215033e+00])"
            ]
          },
          "metadata": {},
          "execution_count": 20
        }
      ]
    },
    {
      "cell_type": "code",
      "source": [
        "mutual_info = pd.Series(mutual_info)\n",
        "mutual_info.index = X_train.columns\n",
        "mutual_info.sort_values(ascending=False)"
      ],
      "metadata": {
        "colab": {
          "base_uri": "https://localhost:8080/"
        },
        "id": "giQnuDk2OTPj",
        "outputId": "0c4566fe-3b4f-435d-c65a-035085d46e9d"
      },
      "execution_count": 21,
      "outputs": [
        {
          "output_type": "execute_result",
          "data": {
            "text/plain": [
              "distance_from_condo_to_central                 1.338495\n",
              "school_avg_rating                              1.309185\n",
              "school_avg_distance_to_condo (KM)              1.305226\n",
              "school_num_of_rating                           1.293477\n",
              "tourist_attraction_avg_rating                  1.238357\n",
              "                                                 ...   \n",
              "detail_ห้องชุดพักอาศัยตากอากาศแบบ 3 ชั้นควบ    0.000000\n",
              "detail_ห้องชุดพักอาศัยตากอากาศ 2 ชั้นควบ       0.000000\n",
              "detail_พื้นที่วางกระถางต้นไม้                  0.000000\n",
              "detail_พื้นที่ระเบียงจัดสวน                    0.000000\n",
              "flr_10                                         0.000000\n",
              "Length: 126, dtype: float64"
            ]
          },
          "metadata": {},
          "execution_count": 21
        }
      ]
    },
    {
      "cell_type": "code",
      "source": [
        "# insights : the features that has 0 mutual info\n",
        "mutual_info[mutual_info<0.0001].index"
      ],
      "metadata": {
        "colab": {
          "base_uri": "https://localhost:8080/"
        },
        "id": "hbSUKiU0So2w",
        "outputId": "cef586ca-b574-46ca-d778-6700aa7a5a8a"
      },
      "execution_count": 22,
      "outputs": [
        {
          "output_type": "execute_result",
          "data": {
            "text/plain": [
              "Index(['night_club_price_level', 'detail_พื้นที่ระเบียงจัดสวน',\n",
              "       'detail_พื้นที่วางกระถางต้นไม้',\n",
              "       'detail_ห้องชุดพักอาศัยตากอากาศ 2 ชั้นควบ',\n",
              "       'detail_ห้องชุดพักอาศัยตากอากาศแบบ 3 ชั้นควบ',\n",
              "       'detail_ห้องชุดพักอาศัยตากอากาศแบบเพนท์เฮ้าส์',\n",
              "       'detail_ห้องชุดพักอาศัยแบบ 2 ชั้นควบ', 'flr_10', 'flr_12', 'flr_14',\n",
              "       'flr_18', 'flr_20', 'flr_21', 'flr_22', 'flr_23', 'flr_26', 'flr_27',\n",
              "       'flr_30', 'flr_ชั้นใต้หลังคา', 'flr_ใต้ดิน'],\n",
              "      dtype='object')"
            ]
          },
          "metadata": {},
          "execution_count": 22
        }
      ]
    },
    {
      "cell_type": "code",
      "source": [
        "# choose only the one that has positive value = is related to y\n",
        "mutual_info = mutual_info[mutual_info>0]"
      ],
      "metadata": {
        "id": "prYgEr2WT_8T"
      },
      "execution_count": 23,
      "outputs": []
    },
    {
      "cell_type": "code",
      "source": [
        "len(mutual_info)"
      ],
      "metadata": {
        "colab": {
          "base_uri": "https://localhost:8080/"
        },
        "id": "TIdbgzyjUiCz",
        "outputId": "f1f387b0-cda3-41e3-f4dc-c90833b22ed8"
      },
      "execution_count": 24,
      "outputs": [
        {
          "output_type": "execute_result",
          "data": {
            "text/plain": [
              "106"
            ]
          },
          "metadata": {},
          "execution_count": 24
        }
      ]
    },
    {
      "cell_type": "code",
      "source": [
        "X_train = X_train[mutual_info.index]\n",
        "X_test = X_test[mutual_info.index]"
      ],
      "metadata": {
        "id": "6AyToGhvU04W"
      },
      "execution_count": 25,
      "outputs": []
    },
    {
      "cell_type": "markdown",
      "source": [
        "#correlation between feature\n",
        "##to get highly correlated feature\n"
      ],
      "metadata": {
        "id": "Jdh6qvQoPNJW"
      }
    },
    {
      "cell_type": "code",
      "source": [
        "cor = X_train.corr()"
      ],
      "metadata": {
        "id": "FeWzplpeKFBk"
      },
      "execution_count": 26,
      "outputs": []
    },
    {
      "cell_type": "code",
      "source": [
        "import seaborn as sns\n",
        "#Using Pearson Correlation\n",
        "plt.figure(figsize=(12,10))\n",
        "cor = X_train.corr()\n",
        "sns.heatmap(cor, cmap=plt.cm.CMRmap_r)\n",
        "plt.show()"
      ],
      "metadata": {
        "id": "hq0iBZQmKUki",
        "colab": {
          "base_uri": "https://localhost:8080/",
          "height": 1000
        },
        "outputId": "56456a56-f309-4c4e-cc58-270dcfb1ed2d"
      },
      "execution_count": 27,
      "outputs": [
        {
          "output_type": "stream",
          "name": "stderr",
          "text": [
            "/usr/local/lib/python3.7/dist-packages/matplotlib/backends/backend_agg.py:214: RuntimeWarning: Glyph 3614 missing from current font.\n",
            "  font.set_text(s, 0.0, flags=flags)\n",
            "/usr/local/lib/python3.7/dist-packages/matplotlib/backends/backend_agg.py:214: RuntimeWarning: Glyph 3633 missing from current font.\n",
            "  font.set_text(s, 0.0, flags=flags)\n",
            "/usr/local/lib/python3.7/dist-packages/matplotlib/backends/backend_agg.py:214: RuntimeWarning: Glyph 3585 missing from current font.\n",
            "  font.set_text(s, 0.0, flags=flags)\n",
            "/usr/local/lib/python3.7/dist-packages/matplotlib/backends/backend_agg.py:214: RuntimeWarning: Glyph 3629 missing from current font.\n",
            "  font.set_text(s, 0.0, flags=flags)\n",
            "/usr/local/lib/python3.7/dist-packages/matplotlib/backends/backend_agg.py:214: RuntimeWarning: Glyph 3634 missing from current font.\n",
            "  font.set_text(s, 0.0, flags=flags)\n",
            "/usr/local/lib/python3.7/dist-packages/matplotlib/backends/backend_agg.py:214: RuntimeWarning: Glyph 3624 missing from current font.\n",
            "  font.set_text(s, 0.0, flags=flags)\n",
            "/usr/local/lib/python3.7/dist-packages/matplotlib/backends/backend_agg.py:214: RuntimeWarning: Glyph 3618 missing from current font.\n",
            "  font.set_text(s, 0.0, flags=flags)\n",
            "/usr/local/lib/python3.7/dist-packages/matplotlib/backends/backend_agg.py:214: RuntimeWarning: Glyph 3605 missing from current font.\n",
            "  font.set_text(s, 0.0, flags=flags)\n",
            "/usr/local/lib/python3.7/dist-packages/matplotlib/backends/backend_agg.py:214: RuntimeWarning: Glyph 3649 missing from current font.\n",
            "  font.set_text(s, 0.0, flags=flags)\n",
            "/usr/local/lib/python3.7/dist-packages/matplotlib/backends/backend_agg.py:214: RuntimeWarning: Glyph 3610 missing from current font.\n",
            "  font.set_text(s, 0.0, flags=flags)\n",
            "/usr/local/lib/python3.7/dist-packages/matplotlib/backends/backend_agg.py:214: RuntimeWarning: Glyph 3594 missing from current font.\n",
            "  font.set_text(s, 0.0, flags=flags)\n",
            "/usr/local/lib/python3.7/dist-packages/matplotlib/backends/backend_agg.py:214: RuntimeWarning: Glyph 3657 missing from current font.\n",
            "  font.set_text(s, 0.0, flags=flags)\n",
            "/usr/local/lib/python3.7/dist-packages/matplotlib/backends/backend_agg.py:214: RuntimeWarning: Glyph 3609 missing from current font.\n",
            "  font.set_text(s, 0.0, flags=flags)\n",
            "/usr/local/lib/python3.7/dist-packages/matplotlib/backends/backend_agg.py:214: RuntimeWarning: Glyph 3588 missing from current font.\n",
            "  font.set_text(s, 0.0, flags=flags)\n",
            "/usr/local/lib/python3.7/dist-packages/matplotlib/backends/backend_agg.py:214: RuntimeWarning: Glyph 3623 missing from current font.\n",
            "  font.set_text(s, 0.0, flags=flags)\n",
            "/usr/local/lib/python3.7/dist-packages/matplotlib/backends/backend_agg.py:214: RuntimeWarning: Glyph 3639 missing from current font.\n",
            "  font.set_text(s, 0.0, flags=flags)\n",
            "/usr/local/lib/python3.7/dist-packages/matplotlib/backends/backend_agg.py:214: RuntimeWarning: Glyph 3607 missing from current font.\n",
            "  font.set_text(s, 0.0, flags=flags)\n",
            "/usr/local/lib/python3.7/dist-packages/matplotlib/backends/backend_agg.py:214: RuntimeWarning: Glyph 3637 missing from current font.\n",
            "  font.set_text(s, 0.0, flags=flags)\n",
            "/usr/local/lib/python3.7/dist-packages/matplotlib/backends/backend_agg.py:214: RuntimeWarning: Glyph 3656 missing from current font.\n",
            "  font.set_text(s, 0.0, flags=flags)\n",
            "/usr/local/lib/python3.7/dist-packages/matplotlib/backends/backend_agg.py:214: RuntimeWarning: Glyph 3619 missing from current font.\n",
            "  font.set_text(s, 0.0, flags=flags)\n",
            "/usr/local/lib/python3.7/dist-packages/matplotlib/backends/backend_agg.py:214: RuntimeWarning: Glyph 3632 missing from current font.\n",
            "  font.set_text(s, 0.0, flags=flags)\n",
            "/usr/local/lib/python3.7/dist-packages/matplotlib/backends/backend_agg.py:214: RuntimeWarning: Glyph 3648 missing from current font.\n",
            "  font.set_text(s, 0.0, flags=flags)\n",
            "/usr/local/lib/python3.7/dist-packages/matplotlib/backends/backend_agg.py:214: RuntimeWarning: Glyph 3591 missing from current font.\n",
            "  font.set_text(s, 0.0, flags=flags)\n",
            "/usr/local/lib/python3.7/dist-packages/matplotlib/backends/backend_agg.py:214: RuntimeWarning: Glyph 3627 missing from current font.\n",
            "  font.set_text(s, 0.0, flags=flags)\n",
            "/usr/local/lib/python3.7/dist-packages/matplotlib/backends/backend_agg.py:214: RuntimeWarning: Glyph 3640 missing from current font.\n",
            "  font.set_text(s, 0.0, flags=flags)\n",
            "/usr/local/lib/python3.7/dist-packages/matplotlib/backends/backend_agg.py:214: RuntimeWarning: Glyph 3604 missing from current font.\n",
            "  font.set_text(s, 0.0, flags=flags)\n",
            "/usr/local/lib/python3.7/dist-packages/matplotlib/backends/backend_agg.py:214: RuntimeWarning: Glyph 3621 missing from current font.\n",
            "  font.set_text(s, 0.0, flags=flags)\n",
            "/usr/local/lib/python3.7/dist-packages/matplotlib/backends/backend_agg.py:183: RuntimeWarning: Glyph 3614 missing from current font.\n",
            "  font.set_text(s, 0, flags=flags)\n",
            "/usr/local/lib/python3.7/dist-packages/matplotlib/backends/backend_agg.py:183: RuntimeWarning: Glyph 3633 missing from current font.\n",
            "  font.set_text(s, 0, flags=flags)\n",
            "/usr/local/lib/python3.7/dist-packages/matplotlib/backends/backend_agg.py:183: RuntimeWarning: Glyph 3585 missing from current font.\n",
            "  font.set_text(s, 0, flags=flags)\n",
            "/usr/local/lib/python3.7/dist-packages/matplotlib/backends/backend_agg.py:183: RuntimeWarning: Glyph 3629 missing from current font.\n",
            "  font.set_text(s, 0, flags=flags)\n",
            "/usr/local/lib/python3.7/dist-packages/matplotlib/backends/backend_agg.py:183: RuntimeWarning: Glyph 3634 missing from current font.\n",
            "  font.set_text(s, 0, flags=flags)\n",
            "/usr/local/lib/python3.7/dist-packages/matplotlib/backends/backend_agg.py:183: RuntimeWarning: Glyph 3624 missing from current font.\n",
            "  font.set_text(s, 0, flags=flags)\n",
            "/usr/local/lib/python3.7/dist-packages/matplotlib/backends/backend_agg.py:183: RuntimeWarning: Glyph 3618 missing from current font.\n",
            "  font.set_text(s, 0, flags=flags)\n",
            "/usr/local/lib/python3.7/dist-packages/matplotlib/backends/backend_agg.py:183: RuntimeWarning: Glyph 3605 missing from current font.\n",
            "  font.set_text(s, 0, flags=flags)\n",
            "/usr/local/lib/python3.7/dist-packages/matplotlib/backends/backend_agg.py:183: RuntimeWarning: Glyph 3649 missing from current font.\n",
            "  font.set_text(s, 0, flags=flags)\n",
            "/usr/local/lib/python3.7/dist-packages/matplotlib/backends/backend_agg.py:183: RuntimeWarning: Glyph 3610 missing from current font.\n",
            "  font.set_text(s, 0, flags=flags)\n",
            "/usr/local/lib/python3.7/dist-packages/matplotlib/backends/backend_agg.py:183: RuntimeWarning: Glyph 3594 missing from current font.\n",
            "  font.set_text(s, 0, flags=flags)\n",
            "/usr/local/lib/python3.7/dist-packages/matplotlib/backends/backend_agg.py:183: RuntimeWarning: Glyph 3657 missing from current font.\n",
            "  font.set_text(s, 0, flags=flags)\n",
            "/usr/local/lib/python3.7/dist-packages/matplotlib/backends/backend_agg.py:183: RuntimeWarning: Glyph 3609 missing from current font.\n",
            "  font.set_text(s, 0, flags=flags)\n",
            "/usr/local/lib/python3.7/dist-packages/matplotlib/backends/backend_agg.py:183: RuntimeWarning: Glyph 3588 missing from current font.\n",
            "  font.set_text(s, 0, flags=flags)\n",
            "/usr/local/lib/python3.7/dist-packages/matplotlib/backends/backend_agg.py:183: RuntimeWarning: Glyph 3623 missing from current font.\n",
            "  font.set_text(s, 0, flags=flags)\n",
            "/usr/local/lib/python3.7/dist-packages/matplotlib/backends/backend_agg.py:183: RuntimeWarning: Glyph 3639 missing from current font.\n",
            "  font.set_text(s, 0, flags=flags)\n",
            "/usr/local/lib/python3.7/dist-packages/matplotlib/backends/backend_agg.py:183: RuntimeWarning: Glyph 3607 missing from current font.\n",
            "  font.set_text(s, 0, flags=flags)\n",
            "/usr/local/lib/python3.7/dist-packages/matplotlib/backends/backend_agg.py:183: RuntimeWarning: Glyph 3637 missing from current font.\n",
            "  font.set_text(s, 0, flags=flags)\n",
            "/usr/local/lib/python3.7/dist-packages/matplotlib/backends/backend_agg.py:183: RuntimeWarning: Glyph 3656 missing from current font.\n",
            "  font.set_text(s, 0, flags=flags)\n",
            "/usr/local/lib/python3.7/dist-packages/matplotlib/backends/backend_agg.py:183: RuntimeWarning: Glyph 3619 missing from current font.\n",
            "  font.set_text(s, 0, flags=flags)\n",
            "/usr/local/lib/python3.7/dist-packages/matplotlib/backends/backend_agg.py:183: RuntimeWarning: Glyph 3632 missing from current font.\n",
            "  font.set_text(s, 0, flags=flags)\n",
            "/usr/local/lib/python3.7/dist-packages/matplotlib/backends/backend_agg.py:183: RuntimeWarning: Glyph 3648 missing from current font.\n",
            "  font.set_text(s, 0, flags=flags)\n",
            "/usr/local/lib/python3.7/dist-packages/matplotlib/backends/backend_agg.py:183: RuntimeWarning: Glyph 3591 missing from current font.\n",
            "  font.set_text(s, 0, flags=flags)\n",
            "/usr/local/lib/python3.7/dist-packages/matplotlib/backends/backend_agg.py:183: RuntimeWarning: Glyph 3627 missing from current font.\n",
            "  font.set_text(s, 0, flags=flags)\n",
            "/usr/local/lib/python3.7/dist-packages/matplotlib/backends/backend_agg.py:183: RuntimeWarning: Glyph 3640 missing from current font.\n",
            "  font.set_text(s, 0, flags=flags)\n",
            "/usr/local/lib/python3.7/dist-packages/matplotlib/backends/backend_agg.py:183: RuntimeWarning: Glyph 3604 missing from current font.\n",
            "  font.set_text(s, 0, flags=flags)\n",
            "/usr/local/lib/python3.7/dist-packages/matplotlib/backends/backend_agg.py:183: RuntimeWarning: Glyph 3621 missing from current font.\n",
            "  font.set_text(s, 0, flags=flags)\n",
            "/usr/local/lib/python3.7/dist-packages/matplotlib/backends/backend_agg.py:214: RuntimeWarning: Glyph 3611 missing from current font.\n",
            "  font.set_text(s, 0.0, flags=flags)\n",
            "/usr/local/lib/python3.7/dist-packages/matplotlib/backends/backend_agg.py:214: RuntimeWarning: Glyph 3660 missing from current font.\n",
            "  font.set_text(s, 0.0, flags=flags)\n",
            "/usr/local/lib/python3.7/dist-packages/matplotlib/backends/backend_agg.py:214: RuntimeWarning: Glyph 3630 missing from current font.\n",
            "  font.set_text(s, 0.0, flags=flags)\n",
            "/usr/local/lib/python3.7/dist-packages/matplotlib/backends/backend_agg.py:214: RuntimeWarning: Glyph 3626 missing from current font.\n",
            "  font.set_text(s, 0.0, flags=flags)\n",
            "/usr/local/lib/python3.7/dist-packages/matplotlib/backends/backend_agg.py:183: RuntimeWarning: Glyph 3611 missing from current font.\n",
            "  font.set_text(s, 0, flags=flags)\n",
            "/usr/local/lib/python3.7/dist-packages/matplotlib/backends/backend_agg.py:183: RuntimeWarning: Glyph 3660 missing from current font.\n",
            "  font.set_text(s, 0, flags=flags)\n",
            "/usr/local/lib/python3.7/dist-packages/matplotlib/backends/backend_agg.py:183: RuntimeWarning: Glyph 3630 missing from current font.\n",
            "  font.set_text(s, 0, flags=flags)\n",
            "/usr/local/lib/python3.7/dist-packages/matplotlib/backends/backend_agg.py:183: RuntimeWarning: Glyph 3626 missing from current font.\n",
            "  font.set_text(s, 0, flags=flags)\n"
          ]
        },
        {
          "output_type": "display_data",
          "data": {
            "text/plain": [
              "<Figure size 864x720 with 2 Axes>"
            ],
            "image/png": "[encoded data removed]"
          },
          "metadata": {
            "needs_background": "light"
          }
        }
      ]
    },
    {
      "cell_type": "code",
      "source": [
        "# with the following function we can select highly correlated features\n",
        "# it will remove the first feature that is correlated with anything other feature\n",
        "\n",
        "def correlation(dataset, threshold):\n",
        "    col_corr = set()  # Set of all the names of correlated columns\n",
        "    tuple_corr = [] # Set of all tuple of the names of correlated columns\n",
        "    corr_matrix = dataset.corr()\n",
        "    for i in range(len(corr_matrix.columns)):\n",
        "        for j in range(i):\n",
        "            if abs(corr_matrix.iloc[i, j]) > threshold: # we are interested in absolute coeff value\n",
        "                rowname = corr_matrix.columns[i]  # getting the name of column\n",
        "                colname = corr_matrix.columns[j]\n",
        "                tuple_corr.append([corr_matrix.iloc[i, j], rowname, colname])\n",
        "                if mutual_info[rowname]>mutual_info[colname]:\n",
        "                  col_corr.add(colname)\n",
        "                else:\n",
        "                  col_corr.add(rowname)\n",
        "    return col_corr, tuple_corr"
      ],
      "metadata": {
        "id": "TA3ZaYdTK90-"
      },
      "execution_count": 44,
      "outputs": []
    },
    {
      "cell_type": "code",
      "source": [
        "# select the features that are highly correlated\n",
        "corr_features, tuple_corr = correlation(X_train, 0.75)\n",
        "len(set(corr_features)) \n",
        "# corr_features"
      ],
      "metadata": {
        "id": "Gmtrgdu2LHk7",
        "colab": {
          "base_uri": "https://localhost:8080/"
        },
        "outputId": "8a111058-1e95-42b2-8a36-da79fa9085d8"
      },
      "execution_count": 45,
      "outputs": [
        {
          "output_type": "execute_result",
          "data": {
            "text/plain": [
              "32"
            ]
          },
          "metadata": {},
          "execution_count": 45
        }
      ]
    },
    {
      "cell_type": "code",
      "source": [
        "corr_features"
      ],
      "metadata": {
        "colab": {
          "base_uri": "https://localhost:8080/"
        },
        "id": "ENsIZWEnSZ45",
        "outputId": "b3bb224f-df17-43ab-9dce-9a0b0602bb96"
      },
      "execution_count": null,
      "outputs": [
        {
          "output_type": "execute_result",
          "data": {
            "text/plain": [
              "{'atm_avg_distance_to_condo (KM)',\n",
              " 'atm_count',\n",
              " 'bar_count',\n",
              " 'bar_num_of_rating',\n",
              " 'convenience_store_count',\n",
              " 'department_store_count',\n",
              " 'department_store_num_of_rating',\n",
              " 'distance_from_condo_to_khao_yai',\n",
              " 'distance_from_condo_to_terminal',\n",
              " 'gas_station_avg_distance_to_condo (KM)',\n",
              " 'gas_station_count',\n",
              " 'gym_count',\n",
              " 'hospital_avg_distance_to_condo (KM)',\n",
              " 'hospital_count',\n",
              " 'hospital_num_of_rating',\n",
              " 'laundry_num_of_rating',\n",
              " 'movie_theater_count',\n",
              " 'movie_theater_num_of_rating',\n",
              " 'night_club_avg_distance_to_condo (KM)',\n",
              " 'night_club_count',\n",
              " 'night_club_num_of_rating',\n",
              " 'park_count',\n",
              " 'primary_school_count',\n",
              " 'primary_school_num_of_rating',\n",
              " 'school_count',\n",
              " 'shopping_mall_avg_distance_to_condo (KM)',\n",
              " 'shopping_mall_count',\n",
              " 'shopping_mall_num_of_rating',\n",
              " 'supermarket_count',\n",
              " 'tourist_attraction_count',\n",
              " 'university_avg_distance_to_condo (KM)',\n",
              " 'university_count'}"
            ]
          },
          "metadata": {},
          "execution_count": 29
        }
      ]
    },
    {
      "cell_type": "code",
      "source": [
        "pd.DataFrame(tuple_corr).sort_values(by=0, ascending=False)"
      ],
      "metadata": {
        "colab": {
          "base_uri": "https://localhost:8080/",
          "height": 424
        },
        "id": "N1UHayKjhkbf",
        "outputId": "051ac056-5b69-4c75-a05a-b094f7b63782"
      },
      "execution_count": 52,
      "outputs": [
        {
          "output_type": "execute_result",
          "data": {
            "text/plain": [
              "            0                                1  \\\n",
              "96   0.999000   distance_from_condo_to_central   \n",
              "10   0.931079                 university_count   \n",
              "32   0.930104      movie_theater_num_of_rating   \n",
              "65   0.924214                     school_count   \n",
              "29   0.922622                    laundry_count   \n",
              "..        ...                              ...   \n",
              "89  -0.918409  distance_from_condo_to_terminal   \n",
              "95  -0.920593   distance_from_condo_to_central   \n",
              "4   -0.981112          convenience_store_count   \n",
              "102 -0.985436  distance_from_condo_to_khao_yai   \n",
              "103 -0.987440  distance_from_condo_to_khao_yai   \n",
              "\n",
              "                                                2  \n",
              "96                distance_from_condo_to_terminal  \n",
              "10                       university_num_of_rating  \n",
              "32                    shopping_mall_num_of_rating  \n",
              "65                                      bar_count  \n",
              "29                          laundry_num_of_rating  \n",
              "..                                            ...  \n",
              "89                                   school_count  \n",
              "95                                   school_count  \n",
              "4    convenience_store_avg_distance_to_condo (KM)  \n",
              "102               distance_from_condo_to_terminal  \n",
              "103                distance_from_condo_to_central  \n",
              "\n",
              "[104 rows x 3 columns]"
            ],
            "text/html": [
              "\n",
              "  <div id=\"df-069a395c-259a-4972-afdb-91102dd79b42\">\n",
              "    <div class=\"colab-df-container\">\n",
              "      <div>\n",
              "<style scoped>\n",
              "    .dataframe tbody tr th:only-of-type {\n",
              "        vertical-align: middle;\n",
              "    }\n",
              "\n",
              "    .dataframe tbody tr th {\n",
              "        vertical-align: top;\n",
              "    }\n",
              "\n",
              "    .dataframe thead th {\n",
              "        text-align: right;\n",
              "    }\n",
              "</style>\n",
              "<table border=\"1\" class=\"dataframe\">\n",
              "  <thead>\n",
              "    <tr style=\"text-align: right;\">\n",
              "      <th></th>\n",
              "      <th>0</th>\n",
              "      <th>1</th>\n",
              "      <th>2</th>\n",
              "    </tr>\n",
              "  </thead>\n",
              "  <tbody>\n",
              "    <tr>\n",
              "      <th>96</th>\n",
              "      <td>0.999000</td>\n",
              "      <td>distance_from_condo_to_central</td>\n",
              "      <td>distance_from_condo_to_terminal</td>\n",
              "    </tr>\n",
              "    <tr>\n",
              "      <th>10</th>\n",
              "      <td>0.931079</td>\n",
              "      <td>university_count</td>\n",
              "      <td>university_num_of_rating</td>\n",
              "    </tr>\n",
              "    <tr>\n",
              "      <th>32</th>\n",
              "      <td>0.930104</td>\n",
              "      <td>movie_theater_num_of_rating</td>\n",
              "      <td>shopping_mall_num_of_rating</td>\n",
              "    </tr>\n",
              "    <tr>\n",
              "      <th>65</th>\n",
              "      <td>0.924214</td>\n",
              "      <td>school_count</td>\n",
              "      <td>bar_count</td>\n",
              "    </tr>\n",
              "    <tr>\n",
              "      <th>29</th>\n",
              "      <td>0.922622</td>\n",
              "      <td>laundry_count</td>\n",
              "      <td>laundry_num_of_rating</td>\n",
              "    </tr>\n",
              "    <tr>\n",
              "      <th>...</th>\n",
              "      <td>...</td>\n",
              "      <td>...</td>\n",
              "      <td>...</td>\n",
              "    </tr>\n",
              "    <tr>\n",
              "      <th>89</th>\n",
              "      <td>-0.918409</td>\n",
              "      <td>distance_from_condo_to_terminal</td>\n",
              "      <td>school_count</td>\n",
              "    </tr>\n",
              "    <tr>\n",
              "      <th>95</th>\n",
              "      <td>-0.920593</td>\n",
              "      <td>distance_from_condo_to_central</td>\n",
              "      <td>school_count</td>\n",
              "    </tr>\n",
              "    <tr>\n",
              "      <th>4</th>\n",
              "      <td>-0.981112</td>\n",
              "      <td>convenience_store_count</td>\n",
              "      <td>convenience_store_avg_distance_to_condo (KM)</td>\n",
              "    </tr>\n",
              "    <tr>\n",
              "      <th>102</th>\n",
              "      <td>-0.985436</td>\n",
              "      <td>distance_from_condo_to_khao_yai</td>\n",
              "      <td>distance_from_condo_to_terminal</td>\n",
              "    </tr>\n",
              "    <tr>\n",
              "      <th>103</th>\n",
              "      <td>-0.987440</td>\n",
              "      <td>distance_from_condo_to_khao_yai</td>\n",
              "      <td>distance_from_condo_to_central</td>\n",
              "    </tr>\n",
              "  </tbody>\n",
              "</table>\n",
              "<p>104 rows × 3 columns</p>\n",
              "</div>\n",
              "      <button class=\"colab-df-convert\" onclick=\"convertToInteractive('df-069a395c-259a-4972-afdb-91102dd79b42')\"\n",
              "              title=\"Convert this dataframe to an interactive table.\"\n",
              "              style=\"display:none;\">\n",
              "        \n",
              "  <svg xmlns=\"http://www.w3.org/2000/svg\" height=\"24px\"viewBox=\"0 0 24 24\"\n",
              "       width=\"24px\">\n",
              "    <path d=\"M0 0h24v24H0V0z\" fill=\"none\"/>\n",
              "    <path d=\"M18.56 5.44l.94 2.06.94-2.06 2.06-.94-2.06-.94-.94-2.06-.94 2.06-2.06.94zm-11 1L8.5 8.5l.94-2.06 2.06-.94-2.06-.94L8.5 2.5l-.94 2.06-2.06.94zm10 10l.94 2.06.94-2.06 2.06-.94-2.06-.94-.94-2.06-.94 2.06-2.06.94z\"/><path d=\"M17.41 7.96l-1.37-1.37c-.4-.4-.92-.59-1.43-.59-.52 0-1.04.2-1.43.59L10.3 9.45l-7.72 7.72c-.78.78-.78 2.05 0 2.83L4 21.41c.39.39.9.59 1.41.59.51 0 1.02-.2 1.41-.59l7.78-7.78 2.81-2.81c.8-.78.8-2.07 0-2.86zM5.41 20L4 18.59l7.72-7.72 1.47 1.35L5.41 20z\"/>\n",
              "  </svg>\n",
              "      </button>\n",
              "      \n",
              "  <style>\n",
              "    .colab-df-container {\n",
              "      display:flex;\n",
              "      flex-wrap:wrap;\n",
              "      gap: 12px;\n",
              "    }\n",
              "\n",
              "    .colab-df-convert {\n",
              "      background-color: #E8F0FE;\n",
              "      border: none;\n",
              "      border-radius: 50%;\n",
              "      cursor: pointer;\n",
              "      display: none;\n",
              "      fill: #1967D2;\n",
              "      height: 32px;\n",
              "      padding: 0 0 0 0;\n",
              "      width: 32px;\n",
              "    }\n",
              "\n",
              "    .colab-df-convert:hover {\n",
              "      background-color: #E2EBFA;\n",
              "      box-shadow: 0px 1px 2px rgba(60, 64, 67, 0.3), 0px 1px 3px 1px rgba(60, 64, 67, 0.15);\n",
              "      fill: #174EA6;\n",
              "    }\n",
              "\n",
              "    [theme=dark] .colab-df-convert {\n",
              "      background-color: #3B4455;\n",
              "      fill: #D2E3FC;\n",
              "    }\n",
              "\n",
              "    [theme=dark] .colab-df-convert:hover {\n",
              "      background-color: #434B5C;\n",
              "      box-shadow: 0px 1px 3px 1px rgba(0, 0, 0, 0.15);\n",
              "      filter: drop-shadow(0px 1px 2px rgba(0, 0, 0, 0.3));\n",
              "      fill: #FFFFFF;\n",
              "    }\n",
              "  </style>\n",
              "\n",
              "      <script>\n",
              "        const buttonEl =\n",
              "          document.querySelector('#df-069a395c-259a-4972-afdb-91102dd79b42 button.colab-df-convert');\n",
              "        buttonEl.style.display =\n",
              "          google.colab.kernel.accessAllowed ? 'block' : 'none';\n",
              "\n",
              "        async function convertToInteractive(key) {\n",
              "          const element = document.querySelector('#df-069a395c-259a-4972-afdb-91102dd79b42');\n",
              "          const dataTable =\n",
              "            await google.colab.kernel.invokeFunction('convertToInteractive',\n",
              "                                                     [key], {});\n",
              "          if (!dataTable) return;\n",
              "\n",
              "          const docLinkHtml = 'Like what you see? Visit the ' +\n",
              "            '<a target=\"_blank\" href=https://colab.research.google.com/notebooks/data_table.ipynb>data table notebook</a>'\n",
              "            + ' to learn more about interactive tables.';\n",
              "          element.innerHTML = '';\n",
              "          dataTable['output_type'] = 'display_data';\n",
              "          await google.colab.output.renderOutput(dataTable, element);\n",
              "          const docLink = document.createElement('div');\n",
              "          docLink.innerHTML = docLinkHtml;\n",
              "          element.appendChild(docLink);\n",
              "        }\n",
              "      </script>\n",
              "    </div>\n",
              "  </div>\n",
              "  "
            ]
          },
          "metadata": {},
          "execution_count": 52
        }
      ]
    },
    {
      "cell_type": "code",
      "source": [
        "mutual_info[['distance_from_condo_to_central', 'distance_from_condo_to_terminal', 'distance_from_condo_to_khao_yai',\t'distance_from_condo_to_central']]\n",
        "# distance_from_condo_to_terminal and distance_from_condo_to_khao_yai is being removed first"
      ],
      "metadata": {
        "colab": {
          "base_uri": "https://localhost:8080/"
        },
        "id": "ZHeZ8ADYkkBy",
        "outputId": "e7c3b144-7fb2-4828-d1b6-cb052483a320"
      },
      "execution_count": 57,
      "outputs": [
        {
          "output_type": "execute_result",
          "data": {
            "text/plain": [
              "distance_from_condo_to_central     1.338495\n",
              "distance_from_condo_to_terminal    1.232517\n",
              "distance_from_condo_to_khao_yai    1.212150\n",
              "distance_from_condo_to_central     1.338495\n",
              "dtype: float64"
            ]
          },
          "metadata": {},
          "execution_count": 57
        }
      ]
    },
    {
      "cell_type": "markdown",
      "source": [
        "#drop highly correlated feature"
      ],
      "metadata": {
        "id": "LVak_iwFXO2u"
      }
    },
    {
      "cell_type": "code",
      "source": [
        "X_train.drop(corr_features,axis=1, inplace = True)\n",
        "X_test.drop(corr_features,axis=1, inplace = True)"
      ],
      "metadata": {
        "id": "oAnbVyStXR-l"
      },
      "execution_count": null,
      "outputs": []
    },
    {
      "cell_type": "code",
      "source": [
        "X_train.reset_index(inplace=True)\n",
        "X_train.drop(columns=\"index\", inplace=True)\n",
        "X_test.reset_index(inplace=True)\n",
        "X_test.drop(columns=\"index\", inplace=True)"
      ],
      "metadata": {
        "id": "aQIPbuGiX7B9"
      },
      "execution_count": null,
      "outputs": []
    },
    {
      "cell_type": "code",
      "source": [
        "X_train.columns"
      ],
      "metadata": {
        "colab": {
          "base_uri": "https://localhost:8080/"
        },
        "id": "reuEP7kIfb3K",
        "outputId": "26e0a3e9-0359-4333-b386-f64da795890d"
      },
      "execution_count": null,
      "outputs": [
        {
          "output_type": "execute_result",
          "data": {
            "text/plain": [
              "Index(['rating', 'atm_avg_rating', 'bar_price_level', 'bar_avg_rating',\n",
              "       'bar_avg_distance_to_condo (KM)', 'bar_num_of_rating',\n",
              "       'gas_station_avg_rating',\n",
              "       'convenience_store_avg_distance_to_condo (KM)',\n",
              "       'department_store_avg_rating', 'hospital_avg_rating',\n",
              "       'university_avg_rating', 'university_count',\n",
              "       'supermarket_avg_distance_to_condo (KM)',\n",
              "       'gym_avg_distance_to_condo (KM)', 'gym_count',\n",
              "       'shopping_mall_avg_rating', 'park_avg_rating',\n",
              "       'park_avg_distance_to_condo (KM)', 'night_club_price_level',\n",
              "       'night_club_avg_distance_to_condo (KM)', 'school_avg_rating',\n",
              "       'tourist_attraction_avg_rating', 'tourist_attraction_num_of_rating',\n",
              "       'detail_พื้นที่ระเบียง', 'detail_พื้นที่ห้องชุดพักอาศัย',\n",
              "       'detail_ห้องชุดพักอาศัย', 'distance_from_condo_to_central', 'flr_1',\n",
              "       'flr_11', 'flr_12', 'flr_2', 'flr_3', 'flr_5', 'flr_6', 'flr_7'],\n",
              "      dtype='object')"
            ]
          },
          "metadata": {},
          "execution_count": 273
        }
      ]
    },
    {
      "cell_type": "markdown",
      "source": [
        "# Baseline Model : linear regression"
      ],
      "metadata": {
        "id": "vZsz58hFbYPT"
      }
    },
    {
      "cell_type": "code",
      "source": [
        "import pandas as pd\n",
        "from sklearn import datasets, linear_model\n",
        "from sklearn.model_selection import train_test_split\n",
        "from matplotlib import pyplot as plt"
      ],
      "metadata": {
        "id": "vGwZKHK0cJot"
      },
      "execution_count": null,
      "outputs": []
    },
    {
      "cell_type": "code",
      "source": [
        "# fit the model\n",
        "lm = linear_model.LinearRegression()\n",
        "model = lm.fit(X_train, y_train)\n",
        "predictions = lm.predict(X_test)"
      ],
      "metadata": {
        "id": "bZiBUpWSb2xZ"
      },
      "execution_count": null,
      "outputs": []
    },
    {
      "cell_type": "code",
      "source": [
        "# The line / model\n",
        "plt.scatter(y_test, predictions)\n",
        "plt.xlabel(\"True Values\")\n",
        "plt.ylabel(\"Predictions\")"
      ],
      "metadata": {
        "colab": {
          "base_uri": "https://localhost:8080/",
          "height": 296
        },
        "id": "LQ5voTmVcNOH",
        "outputId": "060cb804-36ae-4a45-873e-ad1eae0d6c62"
      },
      "execution_count": null,
      "outputs": [
        {
          "output_type": "execute_result",
          "data": {
            "text/plain": [
              "Text(0, 0.5, 'Predictions')"
            ]
          },
          "metadata": {},
          "execution_count": 32
        },
        {
          "output_type": "display_data",
          "data": {
            "text/plain": [
              "<Figure size 432x288 with 1 Axes>"
            ],
            "image/png": "[encoded data removed]"
          },
          "metadata": {
            "needs_background": "light"
          }
        }
      ]
    },
    {
      "cell_type": "code",
      "source": [
        "print(\"Accuracy score:\", model.score(X_test, y_test))"
      ],
      "metadata": {
        "colab": {
          "base_uri": "https://localhost:8080/"
        },
        "id": "Z_AHDYwDcXYN",
        "outputId": "5396ba81-7674-450f-b051-5e577b2d3d1f"
      },
      "execution_count": null,
      "outputs": [
        {
          "output_type": "stream",
          "name": "stdout",
          "text": [
            "Accuracy score: 0.9198862059008999\n"
          ]
        }
      ]
    },
    {
      "cell_type": "code",
      "source": [
        "from sklearn.metrics import r2_score, mean_absolute_error, mean_squared_error"
      ],
      "metadata": {
        "id": "9gXLNY84o-x0"
      },
      "execution_count": null,
      "outputs": []
    },
    {
      "cell_type": "code",
      "source": [
        "# accuracy, mean absolute error, root mean square error\n",
        "print(r2_score(y_test, predictions), mean_absolute_error(y_test, predictions), np.sqrt(mean_squared_error(y_test, predictions)))"
      ],
      "metadata": {
        "id": "I56i5WB4oVNi",
        "colab": {
          "base_uri": "https://localhost:8080/"
        },
        "outputId": "378f5350-f194-4ec7-fd87-e9c608a1d315"
      },
      "execution_count": null,
      "outputs": [
        {
          "output_type": "stream",
          "name": "stdout",
          "text": [
            "0.9198862059008999 4450.552262205313 9523.383269342263\n"
          ]
        }
      ]
    },
    {
      "cell_type": "markdown",
      "source": [
        "#testing 3 models : Random Forest, LightGBM, XGBoost"
      ],
      "metadata": {
        "id": "lICyYCan39Y3"
      }
    },
    {
      "cell_type": "code",
      "source": [
        "from sklearn.ensemble import RandomForestRegressor\n",
        "from sklearn.compose import TransformedTargetRegressor\n",
        "from sklearn.preprocessing import QuantileTransformer\n",
        "from sklearn.metrics import r2_score, mean_absolute_error, mean_squared_error"
      ],
      "metadata": {
        "id": "wSfuUAwl03Ih"
      },
      "execution_count": null,
      "outputs": []
    },
    {
      "cell_type": "code",
      "source": [
        "from sklearn.ensemble import lightgbm as lgbm\n",
        "from sklearn.ensemble import xgboost as xg\n",
        "\n",
        "#generic function to fit model and return metrics for every algorithm\n",
        "def boost_models(x):\n",
        "    #transforming target variable through quantile transformer\n",
        "    regr_trans = TransformedTargetRegressor(regressor=x, transformer=QuantileTransformer(output_distribution='normal'))\n",
        "    regr_trans.fit(X_train, y_train)\n",
        "    yhat = regr_trans.predict(X_test)\n",
        "    algoname= x.__class__.__name__\n",
        "    return algoname, round(r2_score(y_test, yhat),3), round(mean_absolute_error(y_test, yhat),2), round(np.sqrt(mean_squared_error(y_test, yhat)),2)\n",
        "\n",
        "algo=[RandomForestRegressor(), lgbm.LGBMRegressor(), xg.XGBRFRegressor()]\n",
        "score=[]\n",
        "for a in algo:\n",
        "    score.append(boost_models(a))\n",
        "\n",
        " #Collate all scores in a table\n",
        "pd.DataFrame(score, columns=['Model', 'Score', 'MAE', 'RMSE']).style.set_caption(\"Before Tuning\")\n"
      ],
      "metadata": {
        "colab": {
          "base_uri": "https://localhost:8080/",
          "height": 298
        },
        "id": "B0VFKB1e4FU-",
        "outputId": "0404afa4-1733-4a3c-d2bc-b4fab47879d8"
      },
      "execution_count": null,
      "outputs": [
        {
          "output_type": "stream",
          "name": "stderr",
          "text": [
            "/usr/local/lib/python3.7/dist-packages/sklearn/preprocessing/_data.py:2593: UserWarning: n_quantiles (1000) is greater than the total number of samples (436). n_quantiles is set to n_samples.\n",
            "  \"n_samples.\" % (self.n_quantiles, n_samples)\n",
            "/usr/local/lib/python3.7/dist-packages/sklearn/preprocessing/_data.py:2593: UserWarning: n_quantiles (1000) is greater than the total number of samples (436). n_quantiles is set to n_samples.\n",
            "  \"n_samples.\" % (self.n_quantiles, n_samples)\n",
            "/usr/local/lib/python3.7/dist-packages/sklearn/preprocessing/_data.py:2593: UserWarning: n_quantiles (1000) is greater than the total number of samples (436). n_quantiles is set to n_samples.\n",
            "  \"n_samples.\" % (self.n_quantiles, n_samples)\n"
          ]
        },
        {
          "output_type": "stream",
          "name": "stdout",
          "text": [
            "[05:32:46] WARNING: /workspace/src/objective/regression_obj.cu:152: reg:linear is now deprecated in favor of reg:squarederror.\n"
          ]
        },
        {
          "output_type": "execute_result",
          "data": {
            "text/plain": [
              "<pandas.io.formats.style.Styler at 0x7f5dced666d0>"
            ],
            "text/html": [
              "<style type=\"text/css\">\n",
              "</style>\n",
              "<table id=\"T_bb235_\" class=\"dataframe\">\n",
              "  <caption>Before Tuning</caption>\n",
              "  <thead>\n",
              "    <tr>\n",
              "      <th class=\"blank level0\" >&nbsp;</th>\n",
              "      <th class=\"col_heading level0 col0\" >Model</th>\n",
              "      <th class=\"col_heading level0 col1\" >Score</th>\n",
              "      <th class=\"col_heading level0 col2\" >MAE</th>\n",
              "      <th class=\"col_heading level0 col3\" >RMSE</th>\n",
              "    </tr>\n",
              "  </thead>\n",
              "  <tbody>\n",
              "    <tr>\n",
              "      <th id=\"T_bb235_level0_row0\" class=\"row_heading level0 row0\" >0</th>\n",
              "      <td id=\"T_bb235_row0_col0\" class=\"data row0 col0\" >RandomForestRegressor</td>\n",
              "      <td id=\"T_bb235_row0_col1\" class=\"data row0 col1\" >0.983000</td>\n",
              "      <td id=\"T_bb235_row0_col2\" class=\"data row0 col2\" >2285.990000</td>\n",
              "      <td id=\"T_bb235_row0_col3\" class=\"data row0 col3\" >4428.940000</td>\n",
              "    </tr>\n",
              "    <tr>\n",
              "      <th id=\"T_bb235_level0_row1\" class=\"row_heading level0 row1\" >1</th>\n",
              "      <td id=\"T_bb235_row1_col0\" class=\"data row1 col0\" >LGBMRegressor</td>\n",
              "      <td id=\"T_bb235_row1_col1\" class=\"data row1 col1\" >0.974000</td>\n",
              "      <td id=\"T_bb235_row1_col2\" class=\"data row1 col2\" >2737.070000</td>\n",
              "      <td id=\"T_bb235_row1_col3\" class=\"data row1 col3\" >5395.970000</td>\n",
              "    </tr>\n",
              "    <tr>\n",
              "      <th id=\"T_bb235_level0_row2\" class=\"row_heading level0 row2\" >2</th>\n",
              "      <td id=\"T_bb235_row2_col0\" class=\"data row2 col0\" >XGBRFRegressor</td>\n",
              "      <td id=\"T_bb235_row2_col1\" class=\"data row2 col1\" >0.747000</td>\n",
              "      <td id=\"T_bb235_row2_col2\" class=\"data row2 col2\" >12850.130000</td>\n",
              "      <td id=\"T_bb235_row2_col3\" class=\"data row2 col3\" >16939.620000</td>\n",
              "    </tr>\n",
              "  </tbody>\n",
              "</table>\n"
            ]
          },
          "metadata": {},
          "execution_count": 39
        }
      ]
    },
    {
      "cell_type": "markdown",
      "source": [
        "#Hyperparameter Tuning"
      ],
      "metadata": {
        "id": "N1Cy5Jhb4e49"
      }
    },
    {
      "cell_type": "markdown",
      "source": [
        "##XGBRFRegressor"
      ],
      "metadata": {
        "id": "nspQ5aBeK7fu"
      }
    },
    {
      "cell_type": "code",
      "source": [
        "from sklearn.model_selection import GridSearchCV\n",
        "\n",
        "param_grid = {'n_estimators': [100, 80, 60, 55, 51, 45],  \n",
        "              'max_depth': [7, 8],\n",
        "              'reg_lambda' :[0.26, 0.25, 0.2]\n",
        "             }\n",
        "                \n",
        "grid = GridSearchCV(xg.XGBRFRegressor(), param_grid, refit = True, verbose = 3, n_jobs=-1) #\n",
        "regr_trans = TransformedTargetRegressor(regressor=grid, transformer=QuantileTransformer(output_distribution='normal'))\n",
        "\n",
        "# fitting the model for grid search \n",
        "grid_result=regr_trans.fit(X_train, y_train)\n",
        "best_params_xg=grid_result.regressor_.best_params_\n",
        "print(best_params_xg)\n"
      ],
      "metadata": {
        "colab": {
          "base_uri": "https://localhost:8080/"
        },
        "id": "sMB5FKKF5Bo4",
        "outputId": "747cdb9f-3131-448b-d347-97b8184efb2b"
      },
      "execution_count": null,
      "outputs": [
        {
          "output_type": "stream",
          "name": "stdout",
          "text": [
            "Fitting 5 folds for each of 36 candidates, totalling 180 fits\n"
          ]
        },
        {
          "output_type": "stream",
          "name": "stderr",
          "text": [
            "/usr/local/lib/python3.7/dist-packages/sklearn/preprocessing/_data.py:2593: UserWarning: n_quantiles (1000) is greater than the total number of samples (436). n_quantiles is set to n_samples.\n",
            "  \"n_samples.\" % (self.n_quantiles, n_samples)\n"
          ]
        },
        {
          "output_type": "stream",
          "name": "stdout",
          "text": [
            "[05:33:30] WARNING: /workspace/src/objective/regression_obj.cu:152: reg:linear is now deprecated in favor of reg:squarederror.\n",
            "{'max_depth': 8, 'n_estimators': 60, 'reg_lambda': 0.2}\n"
          ]
        }
      ]
    },
    {
      "cell_type": "code",
      "source": [
        "#using best params to create and fit model\n",
        "best_model = xg.XGBRFRegressor(max_depth=best_params_xg[\"max_depth\"], n_estimators=best_params_xg[\"n_estimators\"], reg_lambda=best_params_xg[\"reg_lambda\"])\n",
        "regr_trans = TransformedTargetRegressor(regressor=best_model, transformer=QuantileTransformer(output_distribution='normal'))\n",
        "regr_trans.fit(X_train, y_train)\n",
        "yhat = regr_trans.predict(X_test)\n",
        "\n",
        "#evaluate metrics\n",
        "score=[]\n",
        "score.append([\"XGboost\",r2_score(y_test, yhat), mean_absolute_error(y_test, yhat), np.sqrt(mean_squared_error(y_test, yhat))])"
      ],
      "metadata": {
        "colab": {
          "base_uri": "https://localhost:8080/"
        },
        "id": "MEHZ-YIY7c6t",
        "outputId": "de05ee56-282c-4bab-e116-82a014ae86cd"
      },
      "execution_count": null,
      "outputs": [
        {
          "output_type": "stream",
          "name": "stdout",
          "text": [
            "[05:33:30] WARNING: /workspace/src/objective/regression_obj.cu:152: reg:linear is now deprecated in favor of reg:squarederror.\n"
          ]
        },
        {
          "output_type": "stream",
          "name": "stderr",
          "text": [
            "/usr/local/lib/python3.7/dist-packages/sklearn/preprocessing/_data.py:2593: UserWarning: n_quantiles (1000) is greater than the total number of samples (436). n_quantiles is set to n_samples.\n",
            "  \"n_samples.\" % (self.n_quantiles, n_samples)\n"
          ]
        }
      ]
    },
    {
      "cell_type": "code",
      "source": [
        "score"
      ],
      "metadata": {
        "colab": {
          "base_uri": "https://localhost:8080/"
        },
        "id": "6TZtYl9uIsXt",
        "outputId": "a3515171-31b9-4885-8312-25af008d023c"
      },
      "execution_count": null,
      "outputs": [
        {
          "output_type": "execute_result",
          "data": {
            "text/plain": [
              "[['XGboost', 0.9507458872250666, 4636.128714054189, 7467.21856277392]]"
            ]
          },
          "metadata": {},
          "execution_count": 42
        }
      ]
    },
    {
      "cell_type": "markdown",
      "source": [
        "##LGBMRegressor"
      ],
      "metadata": {
        "id": "YY0uV81_LDeT"
      }
    },
    {
      "cell_type": "code",
      "source": [
        "param_grid = {'n_estimators': [100, 80, 60, 55, 51, 45],  \n",
        "              'max_depth': [7, 8],\n",
        "              'reg_lambda' :[0.26, 0.25, 0.2]\n",
        "             }\n",
        "                \n",
        "grid = GridSearchCV(lgbm.LGBMRegressor(), param_grid, refit = True, verbose = 3, n_jobs=-1) #\n",
        "regr_trans = TransformedTargetRegressor(regressor=grid, transformer=QuantileTransformer(output_distribution='normal'))\n",
        "\n",
        "# fitting the model for grid search \n",
        "grid_result=regr_trans.fit(X_train, y_train)\n",
        "best_params_lgbm=grid_result.regressor_.best_params_\n",
        "print(best_params_lgbm)"
      ],
      "metadata": {
        "colab": {
          "base_uri": "https://localhost:8080/"
        },
        "id": "9JXoZ4NA8KrR",
        "outputId": "cdd7823f-1a37-4fc8-9982-db25a59e9813"
      },
      "execution_count": null,
      "outputs": [
        {
          "output_type": "stream",
          "name": "stderr",
          "text": [
            "/usr/local/lib/python3.7/dist-packages/sklearn/preprocessing/_data.py:2593: UserWarning: n_quantiles (1000) is greater than the total number of samples (436). n_quantiles is set to n_samples.\n",
            "  \"n_samples.\" % (self.n_quantiles, n_samples)\n"
          ]
        },
        {
          "output_type": "stream",
          "name": "stdout",
          "text": [
            "Fitting 5 folds for each of 36 candidates, totalling 180 fits\n",
            "{'max_depth': 8, 'n_estimators': 100, 'reg_lambda': 0.25}\n"
          ]
        }
      ]
    },
    {
      "cell_type": "code",
      "source": [
        "#using best params to create and fit model\n",
        "best_model = lgbm.LGBMRegressor(max_depth=best_params_lgbm[\"max_depth\"], n_estimators=best_params_lgbm[\"n_estimators\"], reg_lambda=best_params_lgbm[\"reg_lambda\"])\n",
        "regr_trans = TransformedTargetRegressor(regressor=best_model, transformer=QuantileTransformer(output_distribution='normal'))\n",
        "regr_trans.fit(X_train, y_train)\n",
        "yhat = regr_trans.predict(X_test)\n",
        "\n",
        "#evaluate metrics\n",
        "score.append([\"LGBMRegressor\",r2_score(y_test, yhat), mean_absolute_error(y_test, yhat), np.sqrt(mean_squared_error(y_test, yhat))])"
      ],
      "metadata": {
        "colab": {
          "base_uri": "https://localhost:8080/"
        },
        "id": "B-RJrmk18hOu",
        "outputId": "ca1fa507-b5d5-4130-d7a4-226d598fd874"
      },
      "execution_count": null,
      "outputs": [
        {
          "output_type": "stream",
          "name": "stderr",
          "text": [
            "/usr/local/lib/python3.7/dist-packages/sklearn/preprocessing/_data.py:2593: UserWarning: n_quantiles (1000) is greater than the total number of samples (436). n_quantiles is set to n_samples.\n",
            "  \"n_samples.\" % (self.n_quantiles, n_samples)\n"
          ]
        }
      ]
    },
    {
      "cell_type": "markdown",
      "source": [
        "##RandomForestRegressor"
      ],
      "metadata": {
        "id": "EMld8kMULJwi"
      }
    },
    {
      "cell_type": "code",
      "source": [
        "from sklearn.model_selection import RandomizedSearchCV\n",
        "# Number of trees in random forest\n",
        "n_estimators = [int(x) for x in np.linspace(start = 200, stop = 2000, num = 10)]\n",
        "# Number of features to consider at every split\n",
        "max_features = ['auto', 'sqrt']\n",
        "# Maximum number of levels in tree\n",
        "max_depth = [int(x) for x in np.linspace(10, 110, num = 11)]\n",
        "max_depth.append(None)\n",
        "# Minimum number of samples required to split a node\n",
        "min_samples_split = [2, 5, 10]\n",
        "# Minimum number of samples required at each leaf node\n",
        "min_samples_leaf = [1, 2, 4]\n",
        "# Method of selecting samples for training each tree\n",
        "bootstrap = [True, False]\n",
        "# Create the random grid\n",
        "random_grid = {'n_estimators': n_estimators,\n",
        "               'max_features': max_features,\n",
        "               'max_depth': max_depth,\n",
        "               'min_samples_split': min_samples_split,\n",
        "               'min_samples_leaf': min_samples_leaf,\n",
        "               'bootstrap': bootstrap}\n",
        "print(random_grid)"
      ],
      "metadata": {
        "colab": {
          "base_uri": "https://localhost:8080/"
        },
        "id": "2WhonHIv-jKx",
        "outputId": "ae929a13-a740-4780-c231-72b800983b83"
      },
      "execution_count": null,
      "outputs": [
        {
          "output_type": "stream",
          "name": "stdout",
          "text": [
            "{'n_estimators': [200, 400, 600, 800, 1000, 1200, 1400, 1600, 1800, 2000], 'max_features': ['auto', 'sqrt'], 'max_depth': [10, 20, 30, 40, 50, 60, 70, 80, 90, 100, 110, None], 'min_samples_split': [2, 5, 10], 'min_samples_leaf': [1, 2, 4], 'bootstrap': [True, False]}\n"
          ]
        }
      ]
    },
    {
      "cell_type": "code",
      "source": [
        "# Use the random grid to search for best hyperparameters\n",
        "# First create the base model to tune\n",
        "rf = RandomForestRegressor()\n",
        "# Random search of parameters, using 3 fold cross validation, \n",
        "# search across 100 different combinations, and use all available cores\n",
        "rf_random = RandomizedSearchCV(estimator = rf, param_distributions = random_grid, n_iter = 100, cv = 3, verbose=2, random_state=42, n_jobs = -1)\n",
        "# Fit the random search model\n",
        "rf_random.fit(X_train, y_train)"
      ],
      "metadata": {
        "colab": {
          "base_uri": "https://localhost:8080/"
        },
        "id": "f0FqimhIAsYh",
        "outputId": "0d7161b2-cf6d-48bc-ab54-37402433352f"
      },
      "execution_count": null,
      "outputs": [
        {
          "output_type": "stream",
          "name": "stdout",
          "text": [
            "Fitting 3 folds for each of 100 candidates, totalling 300 fits\n"
          ]
        },
        {
          "output_type": "stream",
          "name": "stderr",
          "text": [
            "/usr/local/lib/python3.7/dist-packages/sklearn/model_selection/_search.py:926: DataConversionWarning: A column-vector y was passed when a 1d array was expected. Please change the shape of y to (n_samples,), for example using ravel().\n",
            "  self.best_estimator_.fit(X, y, **fit_params)\n"
          ]
        },
        {
          "output_type": "execute_result",
          "data": {
            "text/plain": [
              "RandomizedSearchCV(cv=3, estimator=RandomForestRegressor(), n_iter=100,\n",
              "                   n_jobs=-1,\n",
              "                   param_distributions={'bootstrap': [True, False],\n",
              "                                        'max_depth': [10, 20, 30, 40, 50, 60,\n",
              "                                                      70, 80, 90, 100, 110,\n",
              "                                                      None],\n",
              "                                        'max_features': ['auto', 'sqrt'],\n",
              "                                        'min_samples_leaf': [1, 2, 4],\n",
              "                                        'min_samples_split': [2, 5, 10],\n",
              "                                        'n_estimators': [200, 400, 600, 800,\n",
              "                                                         1000, 1200, 1400, 1600,\n",
              "                                                         1800, 2000]},\n",
              "                   random_state=42, verbose=2)"
            ]
          },
          "metadata": {},
          "execution_count": 46
        }
      ]
    },
    {
      "cell_type": "code",
      "source": [
        "rf_random.best_params_"
      ],
      "metadata": {
        "colab": {
          "base_uri": "https://localhost:8080/"
        },
        "id": "HAYS5qBWEQUj",
        "outputId": "ccd2db20-be0d-4bd6-dff6-898d10931b3c"
      },
      "execution_count": null,
      "outputs": [
        {
          "output_type": "execute_result",
          "data": {
            "text/plain": [
              "{'bootstrap': False,\n",
              " 'max_depth': 60,\n",
              " 'max_features': 'sqrt',\n",
              " 'min_samples_leaf': 1,\n",
              " 'min_samples_split': 5,\n",
              " 'n_estimators': 600}"
            ]
          },
          "metadata": {},
          "execution_count": 47
        }
      ]
    },
    {
      "cell_type": "code",
      "source": [
        "best_random = rf_random.best_estimator_\n",
        "yhat = best_random.predict(X_test)\n",
        "score.append([\"RandomForestRegressor\",r2_score(y_test, yhat), mean_absolute_error(y_test, yhat), np.sqrt(mean_squared_error(y_test, yhat))])"
      ],
      "metadata": {
        "id": "6pxMno3LF8UO"
      },
      "execution_count": null,
      "outputs": []
    },
    {
      "cell_type": "code",
      "source": [
        "pd.DataFrame(score, columns=['Model', 'Score', 'MAE', 'RMSE']).style.set_caption(\"After Tuning\")"
      ],
      "metadata": {
        "colab": {
          "base_uri": "https://localhost:8080/",
          "height": 179
        },
        "id": "-3zMW52BJX3U",
        "outputId": "3992460d-0f34-4173-ba75-dd8e70c232ac"
      },
      "execution_count": null,
      "outputs": [
        {
          "output_type": "execute_result",
          "data": {
            "text/plain": [
              "<pandas.io.formats.style.Styler at 0x7f5dc5692690>"
            ],
            "text/html": [
              "<style type=\"text/css\">\n",
              "</style>\n",
              "<table id=\"T_af85a_\" class=\"dataframe\">\n",
              "  <caption>After Tuning</caption>\n",
              "  <thead>\n",
              "    <tr>\n",
              "      <th class=\"blank level0\" >&nbsp;</th>\n",
              "      <th class=\"col_heading level0 col0\" >Model</th>\n",
              "      <th class=\"col_heading level0 col1\" >Score</th>\n",
              "      <th class=\"col_heading level0 col2\" >MAE</th>\n",
              "      <th class=\"col_heading level0 col3\" >RMSE</th>\n",
              "    </tr>\n",
              "  </thead>\n",
              "  <tbody>\n",
              "    <tr>\n",
              "      <th id=\"T_af85a_level0_row0\" class=\"row_heading level0 row0\" >0</th>\n",
              "      <td id=\"T_af85a_row0_col0\" class=\"data row0 col0\" >XGboost</td>\n",
              "      <td id=\"T_af85a_row0_col1\" class=\"data row0 col1\" >0.950746</td>\n",
              "      <td id=\"T_af85a_row0_col2\" class=\"data row0 col2\" >4636.128714</td>\n",
              "      <td id=\"T_af85a_row0_col3\" class=\"data row0 col3\" >7467.218563</td>\n",
              "    </tr>\n",
              "    <tr>\n",
              "      <th id=\"T_af85a_level0_row1\" class=\"row_heading level0 row1\" >1</th>\n",
              "      <td id=\"T_af85a_row1_col0\" class=\"data row1 col0\" >LGBMRegressor</td>\n",
              "      <td id=\"T_af85a_row1_col1\" class=\"data row1 col1\" >0.973077</td>\n",
              "      <td id=\"T_af85a_row1_col2\" class=\"data row1 col2\" >2955.367407</td>\n",
              "      <td id=\"T_af85a_row1_col3\" class=\"data row1 col3\" >5520.814661</td>\n",
              "    </tr>\n",
              "    <tr>\n",
              "      <th id=\"T_af85a_level0_row2\" class=\"row_heading level0 row2\" >2</th>\n",
              "      <td id=\"T_af85a_row2_col0\" class=\"data row2 col0\" >RandomForestRegressor</td>\n",
              "      <td id=\"T_af85a_row2_col1\" class=\"data row2 col1\" >0.993787</td>\n",
              "      <td id=\"T_af85a_row2_col2\" class=\"data row2 col2\" >1534.063756</td>\n",
              "      <td id=\"T_af85a_row2_col3\" class=\"data row2 col3\" >2652.079152</td>\n",
              "    </tr>\n",
              "  </tbody>\n",
              "</table>\n"
            ]
          },
          "metadata": {},
          "execution_count": 49
        }
      ]
    }
  ]
}